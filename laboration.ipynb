{
 "cells": [
  {
   "cell_type": "markdown",
   "metadata": {
    "collapsed": false,
    "jupyter": {
     "outputs_hidden": false
    }
   },
   "source": [
    "# Laboration\n",
    "\n",
    "MA1491 Kryptering 2, vårenhösten 2024\n"
   ]
  },
  {
   "cell_type": "markdown",
   "metadata": {
    "collapsed": false,
    "jupyter": {
     "outputs_hidden": false
    }
   },
   "source": [
    "Namn: Alexander Järnström\n",
    "\n"
   ]
  },
  {
   "cell_type": "code",
   "execution_count": 1,
   "metadata": {
    "collapsed": false,
    "jupyter": {
     "outputs_hidden": false
    }
   },
   "outputs": [],
   "source": [
    "load('kryptering2.sage')"
   ]
  },
  {
   "cell_type": "markdown",
   "metadata": {
    "collapsed": false,
    "jupyter": {
     "outputs_hidden": false
    }
   },
   "source": [
    "## Uppgift 1"
   ]
  },
  {
   "cell_type": "code",
   "execution_count": 2,
   "metadata": {},
   "outputs": [
    {
     "name": "stdout",
     "output_type": "stream",
     "text": [
      "x_1: 1\n",
      "x_2: 9\n",
      "64\n",
      "83\n",
      "8\n",
      "27\n"
     ]
    }
   ],
   "source": [
    "# Tests\n",
    "p = 7\n",
    "q = 19\n",
    "b = 42\n",
    "n = p * q\n",
    "c = 1\n",
    "\n",
    "y = (n + 1) / 2\n",
    "a = c + (y * b)**2\n",
    "x_1 = power_mod(a, (p + 1) / 4, p)\n",
    "x_2 = power_mod(a, (q + 1) / 4, q)\n",
    "\n",
    "print(f\"x_1: {x_1}\\nx_2: {x_2}\")\n",
    "\n",
    "x = crt([x_1, x_2], [p, q])\n",
    "m = (x - y * b) % n\n",
    "print(m)\n",
    "x = crt([p - x_1, x_2], [p, q])\n",
    "m = (x - y * b) % n\n",
    "print(m)\n",
    "x = crt([x_1, q - x_2], [p, q])\n",
    "m = (x - y * b) % n\n",
    "print(m)\n",
    "x = crt([p - x_1, q - x_2], [p, q])\n",
    "m = (x - y * b) % n\n",
    "print(m)"
   ]
  },
  {
   "cell_type": "code",
   "execution_count": 3,
   "metadata": {
    "collapsed": false,
    "jupyter": {
     "outputs_hidden": false
    }
   },
   "outputs": [],
   "source": [
    "p = 13783486447462776559\n",
    "q = 13532038940117528431"
   ]
  },
  {
   "cell_type": "markdown",
   "metadata": {
    "collapsed": false,
    "jupyter": {
     "outputs_hidden": false
    }
   },
   "source": [
    "### Deluppgift a"
   ]
  },
  {
   "cell_type": "code",
   "execution_count": 4,
   "metadata": {
    "collapsed": false,
    "jupyter": {
     "outputs_hidden": false
    }
   },
   "outputs": [
    {
     "name": "stdout",
     "output_type": "stream",
     "text": [
      "b = 62172891779216169377595757173294282976\n",
      "n = 186518675337648508132787271519882848929\n"
     ]
    }
   ],
   "source": [
    "n = p * q\n",
    "b = floor(n/3)\n",
    "\n",
    "print(f\"b = {b}\\nn = {n}\")"
   ]
  },
  {
   "cell_type": "markdown",
   "metadata": {
    "collapsed": false,
    "jupyter": {
     "outputs_hidden": false
    }
   },
   "source": [
    "### Deluppgift b"
   ]
  },
  {
   "cell_type": "code",
   "execution_count": 5,
   "metadata": {
    "collapsed": false,
    "jupyter": {
     "outputs_hidden": false
    }
   },
   "outputs": [
    {
     "name": "stdout",
     "output_type": "stream",
     "text": [
      "k = 64\n"
     ]
    }
   ],
   "source": [
    "a = floor(log(n, 2))\n",
    "k = 8\n",
    "while k * 8 < a: \n",
    "    k = k * 8\n",
    "    \n",
    "print(f\"k = {k}\")"
   ]
  },
  {
   "cell_type": "markdown",
   "metadata": {
    "collapsed": false,
    "jupyter": {
     "outputs_hidden": false
    }
   },
   "source": [
    "### Deluppgift c"
   ]
  },
  {
   "cell_type": "code",
   "execution_count": 6,
   "metadata": {
    "collapsed": false,
    "jupyter": {
     "outputs_hidden": false
    }
   },
   "outputs": [],
   "source": [
    "klartext = 'These go to eleven. (This is Spinal Tap, 1984)'"
   ]
  },
  {
   "cell_type": "code",
   "execution_count": 7,
   "metadata": {},
   "outputs": [
    {
     "name": "stdout",
     "output_type": "stream",
     "text": [
      "[126612371356565718447919210300493481727, 10610942944990769169118151110796103445, 119863195020717021043546586454638036973, 57724497804293356314616441894580775128, 10253869326729109766783377028038027978, 124345783560484814576249846180449155766]\n"
     ]
    }
   ],
   "source": [
    "M = kod(klartext, k)\n",
    "\n",
    "# c_i = E(m_i) = m_i(m_i + b) % n\n",
    "\n",
    "C = list(map(lambda m_i: (m_i * (m_i + b)) % n, M))\n",
    "print(C)"
   ]
  },
  {
   "cell_type": "markdown",
   "metadata": {
    "collapsed": false,
    "jupyter": {
     "outputs_hidden": false
    }
   },
   "source": [
    "### Deluppgift d"
   ]
  },
  {
   "cell_type": "code",
   "execution_count": 8,
   "metadata": {
    "collapsed": false,
    "jupyter": {
     "outputs_hidden": false
    }
   },
   "outputs": [],
   "source": [
    "kryptogram = [160795731999032337861134902941169117308,\n",
    "              22471857333221628916246751204990530034,\n",
    "              13256084483512804007835775589498989766,\n",
    "              132556538342009962688476211118157412564,\n",
    "              8860749750549874297517402384992965393,\n",
    "              171133847251710902833877936821583887907,\n",
    "              124345918171523210871726358803050666306]"
   ]
  },
  {
   "cell_type": "code",
   "execution_count": 9,
   "metadata": {
    "scrolled": true
   },
   "outputs": [
    {
     "name": "stdout",
     "output_type": "stream",
     "text": [
      "\n",
      "=[0]=========\n",
      "\n",
      "Îá¦0\"\u0013=jßÄì1¹G\n",
      "I have come her\n",
      "»\u0019]ï]\u0004Ô«ñÔ4í\n",
      "óR ²V·¤}­ÙîÒ\u0015\n",
      "\n",
      "=[1]=========\n",
      "\n",
      "ó¼¯\"{òTÇ<½:\n",
      "\\Q",
      "á³\u0006©é!8\u0013¾\u001f]\n",
      "e to chew bubbl\n",
      "´î\u0005±\u0017ºÑníþ®ãÎ\"\n",
      "\n",
      "=[2]=========\n",
      "\n",
      "\\\n",
      "ãª@×0ª\n",
      "\u0000+]\n",
      "M§²Q3·§}®\f",
      "o\n",
      "\u0015\u0012È1à¶/îJ(sDMz\n",
      "egum and kick a\n",
      "\n",
      "=[3]=========\n",
      "\n",
      "NþÊ\"¦I ü!Q\u0000+]\n",
      "Eþù±YÍçfcu3\n",
      "\u0017\u000f®Æ$ö\u0014¯èÌ%\u000f½\u0016*\n",
      "ss... and I'm a\n",
      "\n",
      "=[4]=========\n",
      "\n",
      "U\u0005Ùá^õÓú!8\u0013¾\u001f]\n",
      "pô°|\u0002\u0015'\"|#W\u0007 ¹Î\u001d",
      "\n",
      "Q}HÔÑTÍìä\u001e",
      "C\u0006Vg½?\n",
      "ll out of bubbl\n",
      "\n",
      "=[5]=========\n",
      "\n",
      "\u0011\u001e",
      "3=íZö*ø~Ñ£¶y>\n",
      "egum (They Live\n",
      "\\\n",
      "ã³A ¦ûÈyÁ\f",
      "ª&]\n",
      "°SÆÆ|\u00186J\u001b<Òi\u0012\u001f\n",
      "\n",
      "=[6]=========\n",
      "\n",
      "v ]1Ë\u000eaB\n",
      "A¾¬Ñ¼(\u0001L5ã\"gbg«<\n",
      "³L\u0017AóÂ+_w¦\u0013¹à \n",
      ", 1988)\u0000\n"
     ]
    }
   ],
   "source": [
    "y = (n + 1)/2\n",
    "\n",
    "C = kryptogram\n",
    "counter = 0\n",
    "\n",
    "for c in C:\n",
    "    print(f\"\\n=[{counter}]=========\\n\")\n",
    "    counter += 1\n",
    "    \n",
    "    a_1 = (c + ((y * b)^2)) % p\n",
    "    a_2 = (c + ((y * b)^2)) % q\n",
    "    \n",
    "    x_1 = power_mod(a_1, (p + 1) / 4, p)\n",
    "    x_2 = power_mod(a_2, (q + 1) / 4, q)\n",
    "    \n",
    "    x = crt([x_1, x_2], [p, q])\n",
    "    m = (x - y * b) % n\n",
    "    print(kod([m], k))\n",
    "    x = crt([p - x_1, x_2], [p, q])\n",
    "    m = (x - y * b) % n\n",
    "    print(kod([m], k))\n",
    "    x = crt([x_1, q - x_2], [p, q])\n",
    "    m = (x - y * b) % n\n",
    "    print(kod([m], k))\n",
    "    x = crt([p - x_1, q - x_2], [p, q])\n",
    "    m = (x - y * b) % n\n",
    "    print(kod([m], k))"
   ]
  },
  {
   "cell_type": "markdown",
   "metadata": {},
   "source": [
    "klartext = I have come here to chew bubblegum and kick ass... and I'm all out of bubblegum (They Live, 1988)"
   ]
  },
  {
   "cell_type": "markdown",
   "metadata": {
    "collapsed": false,
    "jupyter": {
     "outputs_hidden": false
    }
   },
   "source": [
    "## Uppgift 2"
   ]
  },
  {
   "cell_type": "code",
   "execution_count": 10,
   "metadata": {
    "collapsed": false,
    "jupyter": {
     "outputs_hidden": false
    }
   },
   "outputs": [],
   "source": [
    "heltal = [708135681371,\n",
    "          1412536792680015997,\n",
    "          95270801418092775165121913281,\n",
    "          359211301308594647469531797189639,\n",
    "          14683859981444130204708927334356982829,\n",
    "          7528575712348838132721848826467242743143,\n",
    "          52315285858560849957648945390281417094685881389288399,\n",
    "          976446009728623913234119178855528065696691676752499533,\n",
    "          577048900428714995413742965756994328276447681053651695320078699419496386017830817112881,\n",
    "          98019457094851014537689242474466616941261641321201346560044633094007486512688945300826383626603]"
   ]
  },
  {
   "cell_type": "code",
   "execution_count": 11,
   "metadata": {},
   "outputs": [
    {
     "name": "stdout",
     "output_type": "stream",
     "text": [
      "26699\n",
      "1\n",
      "1\n",
      "2605501\n",
      "1\n",
      "94480583\n",
      "1\n",
      "252233\n",
      "739\n",
      "31\n"
     ]
    }
   ],
   "source": [
    "def pollards_rho_metho(n: Integer) -> Integer:\n",
    "    tries = 0\n",
    "    x = 2\n",
    "    y = 2\n",
    "    \n",
    "    while tries < 10000:\n",
    "        x = (x**2 + 1) % n\n",
    "        y = ((y**2 + 1)**2 + 1) % n\n",
    "        d = gcd(x - y, n)\n",
    "        if 1 < d and d < n:\n",
    "            break\n",
    "        tries += 1\n",
    "\n",
    "    return d\n",
    "\n",
    "for n in heltal:\n",
    "    d = pollards_rho_metho(n)\n",
    "    print(d)"
   ]
  },
  {
   "cell_type": "markdown",
   "metadata": {
    "collapsed": false,
    "jupyter": {
     "outputs_hidden": false
    }
   },
   "source": [
    "## Uppgift 3"
   ]
  },
  {
   "cell_type": "code",
   "execution_count": 22,
   "metadata": {
    "collapsed": false,
    "jupyter": {
     "outputs_hidden": false
    }
   },
   "outputs": [],
   "source": [
    "n = 156328370943061"
   ]
  },
  {
   "cell_type": "markdown",
   "metadata": {
    "collapsed": false,
    "jupyter": {
     "outputs_hidden": false
    }
   },
   "source": [
    "### Deluppgift a"
   ]
  },
  {
   "cell_type": "code",
   "execution_count": 23,
   "metadata": {
    "collapsed": false,
    "jupyter": {
     "outputs_hidden": false
    }
   },
   "outputs": [
    {
     "name": "stdout",
     "output_type": "stream",
     "text": [
      "B: 1897\n",
      "V: 43271\n"
     ]
    }
   ],
   "source": [
    "# l = L(n)\n",
    "l = exp((sqrt(ln(n)*ln(ln(n)))))\n",
    "\n",
    "B = floor(l**(1/sqrt(2)))\n",
    "V = floor(l)\n",
    "\n",
    "print(f\"B: {B}\\nV: {V}\")"
   ]
  },
  {
   "cell_type": "markdown",
   "metadata": {
    "collapsed": false,
    "jupyter": {
     "outputs_hidden": false
    }
   },
   "source": [
    "### Deluppgift b"
   ]
  },
  {
   "cell_type": "code",
   "execution_count": 24,
   "metadata": {
    "collapsed": false,
    "jupyter": {
     "outputs_hidden": false
    }
   },
   "outputs": [
    {
     "name": "stdout",
     "output_type": "stream",
     "text": [
      "Faktorbas: [2, 3, 5, 7, 11, 13, 17, 19, 23, 29, 31, 37, 41, 43, 47, 53, 59, 61, 67, 71, 73, 79, 83, 89, 97, 101, 103, 107, 109, 113, 127, 131, 137, 139, 149, 151, 157, 163, 167, 173, 179, 181, 191, 193, 197, 199, 211, 223, 227, 229, 233, 239, 241, 251, 257, 263, 269, 271, 277, 281, 283, 293, 307, 311, 313, 317, 331, 337, 347, 349, 353, 359, 367, 373, 379, 383, 389, 397, 401, 409, 419, 421, 431, 433, 439, 443, 449, 457, 461, 463, 467, 479, 487, 491, 499, 503, 509, 521, 523, 541, 547, 557, 563, 569, 571, 577, 587, 593, 599, 601, 607, 613, 617, 619, 631, 641, 643, 647, 653, 659, 661, 673, 677, 683, 691, 701, 709, 719, 727, 733, 739, 743, 751, 757, 761, 769, 773, 787, 797, 809, 811, 821, 823, 827, 829, 839, 853, 857, 859, 863, 877, 881, 883, 887, 907, 911, 919, 929, 937, 941, 947, 953, 967, 971, 977, 983, 991, 997, 1009, 1013, 1019, 1021, 1031, 1033, 1039, 1049, 1051, 1061, 1063, 1069, 1087, 1091, 1093, 1097, 1103, 1109, 1117, 1123, 1129, 1151, 1153, 1163, 1171, 1181, 1187, 1193, 1201, 1213, 1217, 1223, 1229, 1231, 1237, 1249, 1259, 1277, 1279, 1283, 1289, 1291, 1297, 1301, 1303, 1307, 1319, 1321, 1327, 1361, 1367, 1373, 1381, 1399, 1409, 1423, 1427, 1429, 1433, 1439, 1447, 1451, 1453, 1459, 1471, 1481, 1483, 1487, 1489, 1493, 1499, 1511, 1523, 1531, 1543, 1549, 1553, 1559, 1567, 1571, 1579, 1583, 1597, 1601, 1607, 1609, 1613, 1619, 1621, 1627, 1637, 1657, 1663, 1667, 1669, 1693, 1697, 1699, 1709, 1721, 1723, 1733, 1741, 1747, 1753, 1759, 1777, 1783, 1787, 1789, 1801, 1811, 1823, 1831, 1847, 1861, 1867, 1871, 1873, 1877, 1879, 1889]\n"
     ]
    }
   ],
   "source": [
    "base = prime_range(0, B + 1)\n",
    "print(f\"Faktorbas: {base}\")"
   ]
  },
  {
   "cell_type": "markdown",
   "metadata": {
    "collapsed": false,
    "jupyter": {
     "outputs_hidden": false
    }
   },
   "source": [
    "### Deluppgift c"
   ]
  },
  {
   "cell_type": "code",
   "execution_count": 25,
   "metadata": {
    "collapsed": false,
    "jupyter": {
     "outputs_hidden": false
    }
   },
   "outputs": [
    {
     "name": "stdout",
     "output_type": "stream",
     "text": [
      "u: 12503135\n",
      "v: 12546405\n"
     ]
    }
   ],
   "source": [
    "u = floor(sqrt(n)) + 1\n",
    "v = floor(sqrt(n)) + V\n",
    "print(f\"u: {u}\\nv: {v}\")"
   ]
  },
  {
   "cell_type": "markdown",
   "metadata": {
    "collapsed": false,
    "jupyter": {
     "outputs_hidden": false
    }
   },
   "source": [
    "### Deluppgift d"
   ]
  },
  {
   "cell_type": "code",
   "execution_count": 26,
   "metadata": {
    "collapsed": false,
    "jupyter": {
     "outputs_hidden": false
    }
   },
   "outputs": [
    {
     "name": "stdout",
     "output_type": "stream",
     "text": [
      "43270 43270\n"
     ]
    }
   ],
   "source": [
    "F = []\n",
    "T = list(range(u, v, 1))\n",
    "for x in range(u, v, 1):\n",
    "    F += [x**2 - n]\n",
    "\n",
    "print(len(F), len(T))"
   ]
  },
  {
   "cell_type": "markdown",
   "metadata": {
    "collapsed": false,
    "jupyter": {
     "outputs_hidden": false
    }
   },
   "source": [
    "### Deluppgift e"
   ]
  },
  {
   "cell_type": "code",
   "execution_count": 27,
   "metadata": {},
   "outputs": [],
   "source": [
    "def tonelli_and_shanks(a, p)  ->  tuple[Integer, Integer] | tuple[None, None]:\n",
    "    if p == 2:\n",
    "        return None, None\n",
    "    \n",
    "    q = p - 1\n",
    "    e = 0\n",
    "    # finn q och e där q*2^e = p - 1\n",
    "    while q % 2 == 0:\n",
    "        q = q / 2\n",
    "        e += 1\n",
    "    \n",
    "    _n = 1\n",
    "    while legendre_symbol(_n, p) != -1:\n",
    "        _n = randint(0, p)\n",
    "\n",
    "    z = power_mod(_n, q, p)\n",
    "\n",
    "    y = z\n",
    "    r = e\n",
    "    x = power_mod(a, ((q - 1) / 2), p)\n",
    "    b = (a * x**2) % p\n",
    "    x = a * x % p\n",
    "\n",
    "    while True:\n",
    "        if b % p == 1:\n",
    "            return x, (p - x) % p\n",
    "    \n",
    "        m = 0\n",
    "        t = power_mod(b, 2**m, p)\n",
    "        while t % p != 1:\n",
    "            m += 1\n",
    "            t = power_mod(b, 2**m, p)\n",
    "    \n",
    "        if m == r:\n",
    "            return None, None\n",
    "        \n",
    "        t = power_mod(y, 2**(r - m - 1), p)\n",
    "        y = power_mod(t, 2, p)\n",
    "        r = m\n",
    "        x = x * t % p\n",
    "        b = b * y % p\n",
    "        "
   ]
  },
  {
   "cell_type": "code",
   "execution_count": 28,
   "metadata": {},
   "outputs": [],
   "source": [
    "def hansens_lyft(p: Integer, a: Integer, k: Integer, alpha: Integer) -> tuple[Integer, Integer]:\n",
    "    \"\"\"\n",
    "    Löser:\n",
    "    x^2 kongurent a (mod p^n)\n",
    "    \n",
    "    :param p: primtalet\n",
    "    :param a: kongurenta talet\n",
    "    :param k: potensen\n",
    "    :param alpha: tidigare lösning\n",
    "    :return n_alpha, n_alpha_i:\n",
    "    \"\"\"\n",
    "\n",
    "    beta = inverse_mod(2 * alpha, p)\n",
    "    beta = -beta * ((alpha**2) - a)\n",
    "    beta = beta / p**(k - 1)\n",
    "    beta = beta % p\n",
    "    \n",
    "    n_alpha = alpha + beta*(p**(k - 1))\n",
    "\n",
    "    return Integer(n_alpha), (p**k - n_alpha) % p**k\n"
   ]
  },
  {
   "cell_type": "code",
   "execution_count": 29,
   "metadata": {},
   "outputs": [],
   "source": [
    "def solla_bort(\n",
    "    T: list[Integer], \n",
    "    F: list[Integer],\n",
    "    r: Integer, \n",
    "    s: Integer, \n",
    "    p: Integer, \n",
    "    k: Integer) -> bool:\n",
    "\n",
    "    t_i = 0\n",
    "    first_r = -1\n",
    "    first_s = -1\n",
    "    p_k = p**k\n",
    "    print(\"[....] Letar efter första ... \", end=\"\")\n",
    "    for t in T:\n",
    "        i = 0\n",
    "        while i < v:\n",
    "            p_k_i = p_k * i\n",
    "            if first_r == -1 and t == r + p_k_i:\n",
    "                first_r = t_i\n",
    "                \n",
    "            if first_s == -1 and t == s + p_k_i:\n",
    "                first_s = t_i\n",
    "\n",
    "            if (s + p_k_i) > t and (r + p_k_i) > t:\n",
    "                break\n",
    "            \n",
    "            if first_r != -1 and first_s != -1:\n",
    "                break\n",
    "\n",
    "            i += 1\n",
    "        \n",
    "        if first_r != -1 and first_s != -1:\n",
    "            break\n",
    "        \n",
    "        t_i += 1\n",
    "\n",
    "    print(\"done.\")\n",
    "\n",
    "    if first_r == -1 or first_s == -1:\n",
    "        print(\"[info] fanns inget t\\n\")\n",
    "        return True\n",
    "    \n",
    "    print(\"[....] Sollar ... \", end=\"\")\n",
    "    \n",
    "    for i in range(first_r, len(F), p_k):\n",
    "        F[i] = F[i] / p\n",
    "    \n",
    "    for i in range(first_s, len(F), p_k):\n",
    "        F[i] = F[i] / p\n",
    "\n",
    "    \n",
    "    print(\"done.\")\n",
    "\n",
    "    return False"
   ]
  },
  {
   "cell_type": "code",
   "execution_count": 30,
   "metadata": {
    "collapsed": false,
    "jupyter": {
     "outputs_hidden": false
    },
    "scrolled": true
   },
   "outputs": [
    {
     "name": "stdout",
     "output_type": "stream",
     "text": [
      "[3]\n",
      "[....] Tonelli och shanks ... done.\n",
      "[info] r: 1|s: 2\n",
      "[....] Letar efter första ... done.\n",
      "[....] Sollar ... done.\n",
      "[....] Validerar F ... done.\n",
      "[....] Gör hansens lyft ... done.\n",
      "[info] r: 7|s: 2\n",
      "[....] Letar efter första ... done.\n",
      "[....] Sollar ... done.\n",
      "[....] Validerar F ... done.\n",
      "[....] Gör hansens lyft ... done.\n",
      "[info] r: 7|s: 20\n",
      "[....] Letar efter första ... done.\n",
      "[....] Sollar ... done.\n",
      "[....] Validerar F ... done.\n",
      "[....] Gör hansens lyft ... done.\n",
      "[info] r: 61|s: 20\n",
      "[....] Letar efter första ... done.\n",
      "[....] Sollar ... done.\n",
      "[....] Validerar F ... done.\n",
      "[....] Gör hansens lyft ... done.\n",
      "[info] r: 61|s: 182\n",
      "[....] Letar efter första ... done.\n",
      "[....] Sollar ... done.\n",
      "[....] Validerar F ... done.\n",
      "[....] Gör hansens lyft ... done.\n",
      "[info] r: 547|s: 182\n",
      "[....] Letar efter första ... done.\n",
      "[....] Sollar ... done.\n",
      "[....] Validerar F ... done.\n",
      "[....] Gör hansens lyft ... done.\n",
      "[info] r: 1276|s: 911\n",
      "[....] Letar efter första ... done.\n",
      "[....] Sollar ... done.\n",
      "[....] Validerar F ... done.\n",
      "[....] Gör hansens lyft ... done.\n",
      "[info] r: 3463|s: 3098\n",
      "[....] Letar efter första ... done.\n",
      "[....] Sollar ... done.\n",
      "[....] Validerar F ... done.\n",
      "[....] Gör hansens lyft ... done.\n",
      "[info] r: 16585|s: 3098\n",
      "[....] Letar efter första ... done.\n",
      "[....] Sollar ... done.\n",
      "[....] Validerar F ... done.\n",
      "[....] Gör hansens lyft ... done.\n",
      "[info] r: 36268|s: 22781\n",
      "[....] Letar efter första ... done.\n",
      "[info] fanns inget t\n",
      "\n",
      "[5]\n",
      "[....] Tonelli och shanks ... done.\n",
      "[info] r: 1|s: 4\n",
      "[....] Letar efter första ... done.\n",
      "[....] Sollar ... done.\n",
      "[....] Validerar F ... done.\n",
      "[....] Gör hansens lyft ... done.\n",
      "[info] r: 6|s: 19\n",
      "[....] Letar efter första ... done.\n",
      "[....] Sollar ... done.\n",
      "[....] Validerar F ... done.\n",
      "[....] Gör hansens lyft ... done.\n",
      "[info] r: 81|s: 44\n",
      "[....] Letar efter första ... done.\n",
      "[....] Sollar ... done.\n",
      "[....] Validerar F ... done.\n",
      "[....] Gör hansens lyft ... done.\n",
      "[info] r: 206|s: 419\n",
      "[....] Letar efter första ... done.\n",
      "[....] Sollar ... done.\n",
      "[....] Validerar F ... done.\n",
      "[....] Gör hansens lyft ... done.\n",
      "[info] r: 2081|s: 1044\n",
      "[....] Letar efter första ... done.\n",
      "[....] Sollar ... done.\n",
      "[....] Validerar F ... done.\n",
      "[....] Gör hansens lyft ... done.\n",
      "[info] r: 11456|s: 4169\n",
      "[....] Letar efter första ... done.\n",
      "[....] Sollar ... done.\n",
      "[....] Validerar F ... done.\n",
      "[....] Gör hansens lyft ... done.\n",
      "[info] r: 58331|s: 19794\n",
      "[....] Letar efter första ... done.\n",
      "[info] fanns inget t\n",
      "\n",
      "[7]\n",
      "[....] Tonelli och shanks ... done.\n",
      "[info] r: 4|s: 3\n",
      "[....] Letar efter första ... done.\n",
      "[....] Sollar ... done.\n",
      "[....] Validerar F ... done.\n",
      "[....] Gör hansens lyft ... done.\n",
      "[info] r: 4|s: 45\n",
      "[....] Letar efter första ... done.\n",
      "[....] Sollar ... done.\n",
      "[....] Validerar F ... done.\n",
      "[....] Gör hansens lyft ... done.\n",
      "[info] r: 4|s: 339\n",
      "[....] Letar efter första ... done.\n",
      "[....] Sollar ... done.\n",
      "[....] Validerar F ... done.\n",
      "[....] Gör hansens lyft ... done.\n",
      "[info] r: 2062|s: 339\n",
      "[....] Letar efter första ... done.\n",
      "[....] Sollar ... done.\n",
      "[....] Validerar F ... done.\n",
      "[....] Gör hansens lyft ... done.\n",
      "[info] r: 6864|s: 9943\n",
      "[....] Letar efter första ... done.\n",
      "[....] Sollar ... done.\n",
      "[....] Validerar F ... done.\n",
      "[....] Gör hansens lyft ... done.\n",
      "[info] r: 107706|s: 9943\n",
      "[....] Letar efter första ... done.\n",
      "[info] fanns inget t\n",
      "\n",
      "[11]\n",
      "[....] Tonelli och shanks ... done.\n",
      "[info] r: 3|s: 8\n",
      "[....] Letar efter första ... done.\n",
      "[....] Sollar ... done.\n",
      "[....] Validerar F ... done.\n",
      "[....] Gör hansens lyft ... done.\n",
      "[info] r: 80|s: 41\n",
      "[....] Letar efter första ... done.\n",
      "[....] Sollar ... done.\n",
      "[....] Validerar F ... done.\n",
      "[....] Gör hansens lyft ... done.\n",
      "[info] r: 201|s: 1130\n",
      "[....] Letar efter första ... done.\n",
      "[....] Sollar ... done.\n",
      "[....] Validerar F ... done.\n",
      "[....] Gör hansens lyft ... done.\n",
      "[info] r: 5525|s: 9116\n",
      "[....] Letar efter första ... done.\n",
      "[....] Sollar ... done.\n",
      "[....] Validerar F ... done.\n",
      "[....] Gör hansens lyft ... done.\n",
      "[info] r: 49448|s: 111603\n",
      "[....] Letar efter första ... done.\n",
      "[info] fanns inget t\n",
      "\n",
      "[13]\n",
      "[....] Tonelli och shanks ... done.\n",
      "[info] Saknar lösning, tar bort från basen.\n",
      "\n",
      "[17]\n",
      "[....] Tonelli och shanks ... done.\n",
      "[info] Saknar lösning, tar bort från basen.\n",
      "\n",
      "[19]\n",
      "[....] Tonelli och shanks ... done.\n",
      "[info] r: 17|s: 2\n",
      "[....] Letar efter första ... done.\n",
      "[....] Sollar ... done.\n",
      "[....] Validerar F ... done.\n",
      "[....] Gör hansens lyft ... done.\n",
      "[info] r: 302|s: 59\n",
      "[....] Letar efter första ... done.\n",
      "[....] Sollar ... done.\n",
      "[....] Validerar F ... done.\n",
      "[....] Gör hansens lyft ... done.\n",
      "[info] r: 5717|s: 1142\n",
      "[....] Letar efter första ... done.\n",
      "[....] Sollar ... done.\n",
      "[....] Validerar F ... done.\n",
      "[....] Gör hansens lyft ... done.\n",
      "[info] r: 26294|s: 104027\n",
      "[....] Letar efter första ... done.\n",
      "[info] fanns inget t\n",
      "\n",
      "[23]\n",
      "[....] Tonelli och shanks ... done.\n",
      "[info] r: 6|s: 17\n",
      "[....] Letar efter första ... done.\n",
      "[....] Sollar ... done.\n",
      "[....] Validerar F ... done.\n",
      "[....] Gör hansens lyft ... done.\n",
      "[info] r: 512|s: 17\n",
      "[....] Letar efter första ... done.\n",
      "[....] Sollar ... done.\n",
      "[....] Validerar F ... done.\n",
      "[....] Gör hansens lyft ... done.\n",
      "[info] r: 1570|s: 10597\n",
      "[....] Letar efter första ... done.\n",
      "[....] Sollar ... done.\n",
      "[....] Validerar F ... done.\n",
      "[....] Gör hansens lyft ... done.\n",
      "[info] r: 196242|s: 83599\n",
      "[....] Letar efter första ... done.\n",
      "[info] fanns inget t\n",
      "\n",
      "[29]\n",
      "[....] Tonelli och shanks ... done.\n",
      "[info] r: 21|s: 8\n",
      "[....] Letar efter första ... done.\n",
      "[....] Sollar ... done.\n",
      "[....] Validerar F ... done.\n",
      "[....] Gör hansens lyft ... done.\n",
      "[info] r: 108|s: 733\n",
      "[....] Letar efter första ... done.\n",
      "[....] Sollar ... done.\n",
      "[....] Validerar F ... done.\n",
      "[....] Gör hansens lyft ... done.\n",
      "[info] r: 8518|s: 15871\n",
      "[....] Letar efter första ... done.\n",
      "[....] Sollar ... done.\n",
      "[....] Validerar F ... done.\n",
      "[....] Gör hansens lyft ... done.\n",
      "[info] r: 471909|s: 235372\n",
      "[....] Letar efter första ... done.\n",
      "[info] fanns inget t\n",
      "\n",
      "[31]\n",
      "[....] Tonelli och shanks ... done.\n",
      "[info] r: 9|s: 22\n",
      "[....] Letar efter första ... done.\n",
      "[....] Sollar ... done.\n",
      "[....] Validerar F ... done.\n",
      "[....] Gör hansens lyft ... done.\n",
      "[info] r: 226|s: 735\n",
      "[....] Letar efter första ... done.\n",
      "[....] Sollar ... done.\n",
      "[....] Validerar F ... done.\n",
      "[....] Gör hansens lyft ... done.\n",
      "[info] r: 3109|s: 26682\n",
      "[....] Letar efter första ... done.\n",
      "[....] Sollar ... done.\n",
      "[....] Validerar F ... done.\n",
      "[....] Gör hansens lyft ... done.\n",
      "[info] r: 807466|s: 116055\n",
      "[....] Letar efter första ... done.\n",
      "[info] fanns inget t\n",
      "\n",
      "[37]\n",
      "[....] Tonelli och shanks ... done.\n",
      "[info] Saknar lösning, tar bort från basen.\n",
      "\n",
      "[41]\n",
      "[....] Tonelli och shanks ... done.\n",
      "[info] r: 38|s: 3\n",
      "[....] Letar efter första ... done.\n",
      "[....] Sollar ... done.\n",
      "[....] Validerar F ... done.\n",
      "[....] Gör hansens lyft ... done.\n",
      "[info] r: 530|s: 1151\n",
      "[....] Letar efter första ... done.\n",
      "[....] Sollar ... done.\n",
      "[....] Validerar F ... done.\n",
      "[....] Gör hansens lyft ... done.\n",
      "[info] r: 56003|s: 12918\n",
      "[....] Letar efter första ... done.\n",
      "[info] fanns inget t\n",
      "\n",
      "[43]\n",
      "[....] Tonelli och shanks ... done.\n",
      "[info] Saknar lösning, tar bort från basen.\n",
      "\n",
      "[47]\n",
      "[....] Tonelli och shanks ... done.\n",
      "[info] r: 1|s: 46\n",
      "[....] Letar efter första ... done.\n",
      "[....] Sollar ... done.\n",
      "[....] Validerar F ... done.\n",
      "[....] Gör hansens lyft ... done.\n",
      "[info] r: 1646|s: 563\n",
      "[....] Letar efter första ... done.\n",
      "[....] Sollar ... done.\n",
      "[....] Validerar F ... done.\n",
      "[....] Gör hansens lyft ... done.\n",
      "[info] r: 78961|s: 24862\n",
      "[....] Letar efter första ... done.\n",
      "[info] fanns inget t\n",
      "\n",
      "[53]\n",
      "[....] Tonelli och shanks ... done.\n",
      "[info] Saknar lösning, tar bort från basen.\n",
      "\n",
      "[59]\n",
      "[....] Tonelli och shanks ... done.\n",
      "[info] r: 25|s: 34\n",
      "[....] Letar efter första ... done.\n",
      "[....] Sollar ... done.\n",
      "[....] Validerar F ... done.\n",
      "[....] Gör hansens lyft ... done.\n",
      "[info] r: 1441|s: 2040\n",
      "[....] Letar efter första ... done.\n",
      "[....] Sollar ... done.\n",
      "[....] Validerar F ... done.\n",
      "[....] Gör hansens lyft ... done.\n",
      "[info] r: 11884|s: 193495\n",
      "[....] Letar efter första ... done.\n",
      "[....] Sollar ... done.\n",
      "[....] Validerar F ... done.\n",
      "[....] Gör hansens lyft ... done.\n",
      "[info] r: 5557117|s: 6560244\n",
      "[....] Letar efter första ... done.\n",
      "[info] fanns inget t\n",
      "\n",
      "[61]\n",
      "[....] Tonelli och shanks ... done.\n",
      "[info] r: 37|s: 24\n",
      "[....] Letar efter första ... done.\n",
      "[....] Sollar ... done.\n",
      "[....] Validerar F ... done.\n",
      "[....] Gör hansens lyft ... done.\n",
      "[info] r: 586|s: 3135\n",
      "[....] Letar efter första ... done.\n",
      "[....] Sollar ... done.\n",
      "[....] Validerar F ... done.\n",
      "[....] Gör hansens lyft ... done.\n",
      "[info] r: 123379|s: 103602\n",
      "[....] Letar efter första ... done.\n",
      "[info] fanns inget t\n",
      "\n",
      "[67]\n",
      "[....] Tonelli och shanks ... done.\n",
      "[info] r: 40|s: 27\n",
      "[....] Letar efter första ... done.\n",
      "[....] Sollar ... done.\n",
      "[....] Validerar F ... done.\n",
      "[....] Gör hansens lyft ... done.\n",
      "[info] r: 2385|s: 2104\n",
      "[....] Letar efter första ... done.\n",
      "[....] Sollar ... done.\n",
      "[....] Validerar F ... done.\n",
      "[....] Gör hansens lyft ... done.\n",
      "[info] r: 92165|s: 208598\n",
      "[....] Letar efter första ... done.\n",
      "[info] fanns inget t\n",
      "\n",
      "[71]\n",
      "[....] Tonelli och shanks ... done.\n",
      "[info] r: 18|s: 53\n",
      "[....] Letar efter första ... done.\n",
      "[....] Sollar ... done.\n",
      "[....] Validerar F ... done.\n",
      "[....] Gör hansens lyft ... done.\n",
      "[info] r: 4562|s: 479\n",
      "[....] Letar efter första ... done.\n",
      "[....] Sollar ... done.\n",
      "[....] Validerar F ... done.\n",
      "[....] Gör hansens lyft ... done.\n",
      "[info] r: 34808|s: 323103\n",
      "[....] Letar efter första ... done.\n",
      "[info] fanns inget t\n",
      "\n",
      "[73]\n",
      "[....] Tonelli och shanks ... done.\n",
      "[info] Saknar lösning, tar bort från basen.\n",
      "\n",
      "[79]\n",
      "[....] Tonelli och shanks ... done.\n",
      "[info] Saknar lösning, tar bort från basen.\n",
      "\n",
      "[83]\n",
      "[....] Tonelli och shanks ... done.\n",
      "[info] r: 31|s: 52\n",
      "[....] Letar efter första ... done.\n",
      "[....] Sollar ... done.\n",
      "[....] Validerar F ... done.\n",
      "[....] Gör hansens lyft ... done.\n",
      "[info] r: 6090|s: 799\n",
      "[....] Letar efter första ... done.\n",
      "[....] Sollar ... done.\n",
      "[....] Validerar F ... done.\n",
      "[....] Gör hansens lyft ... done.\n",
      "[info] r: 219649|s: 352138\n",
      "[....] Letar efter första ... done.\n",
      "[info] fanns inget t\n",
      "\n",
      "[89]\n",
      "[....] Tonelli och shanks ... done.\n",
      "[info] Saknar lösning, tar bort från basen.\n",
      "\n",
      "[97]\n",
      "[....] Tonelli och shanks ... done.\n",
      "[info] Saknar lösning, tar bort från basen.\n",
      "\n",
      "[101]\n",
      "[....] Tonelli och shanks ... done.\n",
      "[info] Saknar lösning, tar bort från basen.\n",
      "\n",
      "[103]\n",
      "[....] Tonelli och shanks ... done.\n",
      "[info] r: 7|s: 96\n",
      "[....] Letar efter första ... done.\n",
      "[....] Sollar ... done.\n",
      "[....] Validerar F ... done.\n",
      "[....] Gör hansens lyft ... done.\n",
      "[info] r: 7011|s: 3598\n",
      "[....] Letar efter första ... done.\n",
      "[....] Sollar ... done.\n",
      "[....] Validerar F ... done.\n",
      "[....] Gör hansens lyft ... done.\n",
      "[info] r: 304063|s: 788664\n",
      "[....] Letar efter första ... done.\n",
      "[info] fanns inget t\n",
      "\n",
      "[107]\n",
      "[....] Tonelli och shanks ... done.\n",
      "[info] Saknar lösning, tar bort från basen.\n",
      "\n",
      "[109]\n",
      "[....] Tonelli och shanks ... done.\n",
      "[info] r: 25|s: 84\n",
      "[....] Letar efter första ... done.\n",
      "[....] Sollar ... done.\n",
      "[....] Validerar F ... done.\n",
      "[....] Gör hansens lyft ... done.\n",
      "[info] r: 3404|s: 8477\n",
      "[....] Letar efter första ... done.\n",
      "[....] Sollar ... done.\n",
      "[....] Validerar F ... done.\n",
      "[....] Gör hansens lyft ... done.\n",
      "[info] r: 561811|s: 733218\n",
      "[....] Letar efter första ... done.\n",
      "[info] fanns inget t\n",
      "\n",
      "[113]\n",
      "[....] Tonelli och shanks ... done.\n",
      "[info] r: 93|s: 20\n",
      "[....] Letar efter första ... done.\n",
      "[....] Sollar ... done.\n",
      "[....] Validerar F ... done.\n",
      "[....] Gör hansens lyft ... done.\n",
      "[info] r: 8568|s: 4201\n",
      "[....] Letar efter första ... done.\n",
      "[....] Sollar ... done.\n",
      "[....] Validerar F ... done.\n",
      "[....] Gör hansens lyft ... done.\n",
      "[info] r: 1055626|s: 387271\n",
      "[....] Letar efter första ... done.\n",
      "[info] fanns inget t\n",
      "\n",
      "[127]\n",
      "[....] Tonelli och shanks ... done.\n",
      "[info] r: 15|s: 112\n",
      "[....] Letar efter första ... done.\n",
      "[....] Sollar ... done.\n",
      "[....] Validerar F ... done.\n",
      "[....] Gör hansens lyft ... done.\n",
      "[info] r: 4968|s: 11161\n",
      "[....] Letar efter första ... done.\n",
      "[....] Sollar ... done.\n",
      "[....] Validerar F ... done.\n",
      "[....] Gör hansens lyft ... done.\n",
      "[info] r: 617870|s: 1430513\n",
      "[....] Letar efter första ... done.\n",
      "[info] fanns inget t\n",
      "\n",
      "[131]\n",
      "[....] Tonelli och shanks ... done.\n",
      "[info] r: 74|s: 57\n",
      "[....] Letar efter första ... done.\n",
      "[....] Sollar ... done.\n",
      "[....] Validerar F ... done.\n",
      "[....] Gör hansens lyft ... done.\n",
      "[info] r: 6100|s: 11061\n",
      "[....] Letar efter första ... done.\n",
      "[....] Sollar ... done.\n",
      "[....] Validerar F ... done.\n",
      "[....] Gör hansens lyft ... done.\n",
      "[info] r: 1035760|s: 1212331\n",
      "[....] Letar efter första ... done.\n",
      "[info] fanns inget t\n",
      "\n",
      "[137]\n",
      "[....] Tonelli och shanks ... done.\n",
      "[info] Saknar lösning, tar bort från basen.\n",
      "\n",
      "[139]\n",
      "[....] Tonelli och shanks ... done.\n",
      "[info] r: 51|s: 88\n",
      "[....] Letar efter första ... done.\n",
      "[....] Sollar ... done.\n",
      "[....] Validerar F ... done.\n",
      "[....] Gör hansens lyft ... done.\n",
      "[info] r: 11866|s: 7455\n",
      "[....] Letar efter första ... done.\n",
      "[....] Sollar ... done.\n",
      "[....] Validerar F ... done.\n",
      "[....] Gör hansens lyft ... done.\n",
      "[info] r: 2484954|s: 200665\n",
      "[....] Letar efter första ... done.\n",
      "[info] fanns inget t\n",
      "\n",
      "[149]\n",
      "[....] Tonelli och shanks ... done.\n",
      "[info] Saknar lösning, tar bort från basen.\n",
      "\n",
      "[151]\n",
      "[....] Tonelli och shanks ... done.\n",
      "[info] Saknar lösning, tar bort från basen.\n",
      "\n",
      "[157]\n",
      "[....] Tonelli och shanks ... done.\n",
      "[info] Saknar lösning, tar bort från basen.\n",
      "\n",
      "[163]\n",
      "[....] Tonelli och shanks ... done.\n",
      "[info] r: 119|s: 44\n",
      "[....] Letar efter första ... done.\n",
      "[....] Sollar ... done.\n",
      "[....] Validerar F ... done.\n",
      "[....] Gör hansens lyft ... done.\n",
      "[info] r: 3705|s: 22864\n",
      "[....] Letar efter första ... done.\n",
      "[....] Sollar ... done.\n",
      "[....] Validerar F ... done.\n",
      "[....] Gör hansens lyft ... done.\n",
      "[info] r: 1810397|s: 2520350\n",
      "[....] Letar efter första ... done.\n",
      "[info] fanns inget t\n",
      "\n",
      "[167]\n",
      "[....] Tonelli och shanks ... done.\n",
      "[info] r: 144|s: 23\n",
      "[....] Letar efter första ... done.\n",
      "[....] Sollar ... done.\n",
      "[....] Validerar F ... done.\n",
      "[....] Gör hansens lyft ... done.\n",
      "[info] r: 16510|s: 11379\n",
      "[....] Letar efter första ... done.\n",
      "[....] Sollar ... done.\n",
      "[....] Validerar F ... done.\n",
      "[....] Gör hansens lyft ... done.\n",
      "[info] r: 3586302|s: 1071161\n",
      "[....] Letar efter första ... done.\n",
      "[info] fanns inget t\n",
      "\n",
      "[173]\n",
      "[....] Tonelli och shanks ... done.\n",
      "[info] Saknar lösning, tar bort från basen.\n",
      "\n",
      "[179]\n",
      "[....] Tonelli och shanks ... done.\n",
      "[info] Saknar lösning, tar bort från basen.\n",
      "\n",
      "[181]\n",
      "[....] Tonelli och shanks ... done.\n",
      "[info] r: 84|s: 97\n",
      "[....] Letar efter första ... done.\n",
      "[....] Sollar ... done.\n",
      "[....] Validerar F ... done.\n",
      "[....] Gör hansens lyft ... done.\n",
      "[info] r: 27958|s: 4803\n",
      "[....] Letar efter första ... done.\n",
      "[....] Sollar ... done.\n",
      "[....] Validerar F ... done.\n",
      "[....] Gör hansens lyft ... done.\n",
      "[info] r: 4516215|s: 1413526\n",
      "[....] Letar efter första ... done.\n",
      "[info] fanns inget t\n",
      "\n",
      "[191]\n",
      "[....] Tonelli och shanks ... done.\n",
      "[info] Saknar lösning, tar bort från basen.\n",
      "\n",
      "[193]\n",
      "[....] Tonelli och shanks ... done.\n",
      "[info] Saknar lösning, tar bort från basen.\n",
      "\n",
      "[197]\n",
      "[....] Tonelli och shanks ... done.\n",
      "[info] Saknar lösning, tar bort från basen.\n",
      "\n",
      "[199]\n",
      "[....] Tonelli och shanks ... done.\n",
      "[info] r: 106|s: 93\n",
      "[....] Letar efter första ... done.\n",
      "[....] Sollar ... done.\n",
      "[....] Validerar F ... done.\n",
      "[....] Gör hansens lyft ... done.\n",
      "[info] r: 12643|s: 26958\n",
      "[....] Letar efter första ... done.\n",
      "[....] Sollar ... done.\n",
      "[....] Validerar F ... done.\n",
      "[....] Gör hansens lyft ... done.\n",
      "[info] r: 1557082|s: 6323517\n",
      "[....] Letar efter första ... done.\n",
      "[info] fanns inget t\n",
      "\n",
      "[211]\n",
      "[....] Tonelli och shanks ... done.\n",
      "[info] r: 83|s: 128\n",
      "[....] Letar efter första ... done.\n",
      "[....] Sollar ... done.\n",
      "[....] Validerar F ... done.\n",
      "[....] Gör hansens lyft ... done.\n",
      "[info] r: 19073|s: 25448\n",
      "[....] Letar efter första ... done.\n",
      "[....] Sollar ... done.\n",
      "[....] Validerar F ... done.\n",
      "[....] Gör hansens lyft ... done.\n",
      "[info] r: 775930|s: 8618001\n",
      "[....] Letar efter första ... done.\n",
      "[info] fanns inget t\n",
      "\n",
      "[223]\n",
      "[....] Tonelli och shanks ... done.\n",
      "[info] Saknar lösning, tar bort från basen.\n",
      "\n",
      "[227]\n",
      "[....] Tonelli och shanks ... done.\n",
      "[info] Saknar lösning, tar bort från basen.\n",
      "\n",
      "[229]\n",
      "[....] Tonelli och shanks ... done.\n",
      "[info] r: 196|s: 33\n",
      "[....] Letar efter första ... done.\n",
      "[....] Sollar ... done.\n",
      "[....] Validerar F ... done.\n",
      "[....] Gör hansens lyft ... done.\n",
      "[info] r: 51034|s: 1407\n",
      "[....] Letar efter första ... done.\n",
      "[....] Sollar ... done.\n",
      "[....] Validerar F ... done.\n",
      "[....] Gör hansens lyft ... done.\n",
      "[info] r: 7130569|s: 4878420\n",
      "[....] Letar efter första ... done.\n",
      "[info] fanns inget t\n",
      "\n",
      "[233]\n",
      "[....] Tonelli och shanks ... done.\n",
      "[info] r: 26|s: 207\n",
      "[....] Letar efter första ... done.\n",
      "[....] Sollar ... done.\n",
      "[....] Validerar F ... done.\n",
      "[....] Gör hansens lyft ... done.\n",
      "[info] r: 44762|s: 9527\n",
      "[....] Letar efter första ... done.\n",
      "[info] fanns inget t\n",
      "\n",
      "[239]\n",
      "[....] Tonelli och shanks ... done.\n",
      "[info] Saknar lösning, tar bort från basen.\n",
      "\n",
      "[241]\n",
      "[....] Tonelli och shanks ... done.\n",
      "[info] Saknar lösning, tar bort från basen.\n",
      "\n",
      "[251]\n",
      "[....] Tonelli och shanks ... done.\n",
      "[info] r: 123|s: 128\n",
      "[....] Letar efter första ... done.\n",
      "[....] Sollar ... done.\n",
      "[....] Validerar F ... done.\n",
      "[....] Gör hansens lyft ... done.\n",
      "[info] r: 7402|s: 55599\n",
      "[....] Letar efter första ... done.\n",
      "[....] Sollar ... done.\n",
      "[....] Validerar F ... done.\n",
      "[....] Gör hansens lyft ... done.\n",
      "[info] r: 2527442|s: 13285809\n",
      "[....] Letar efter första ... done.\n",
      "[info] fanns inget t\n",
      "\n",
      "[257]\n",
      "[....] Tonelli och shanks ... done.\n",
      "[info] r: 33|s: 224\n",
      "[....] Letar efter första ... done.\n",
      "[....] Sollar ... done.\n",
      "[....] Validerar F ... done.\n",
      "[....] Gör hansens lyft ... done.\n",
      "[info] r: 20850|s: 45199\n",
      "[....] Letar efter första ... done.\n",
      "[....] Sollar ... done.\n",
      "[....] Validerar F ... done.\n",
      "[....] Gör hansens lyft ... done.\n",
      "[info] r: 10786837|s: 6187756\n",
      "[....] Letar efter första ... done.\n",
      "[info] fanns inget t\n",
      "\n",
      "[263]\n",
      "[....] Tonelli och shanks ... done.\n",
      "[info] Saknar lösning, tar bort från basen.\n",
      "\n",
      "[269]\n",
      "[....] Tonelli och shanks ... done.\n",
      "[info] r: 240|s: 29\n",
      "[....] Letar efter första ... done.\n",
      "[....] Sollar ... done.\n",
      "[....] Validerar F ... done.\n",
      "[....] Gör hansens lyft ... done.\n",
      "[info] r: 7772|s: 64589\n",
      "[....] Letar efter första ... done.\n",
      "[....] Sollar ... done.\n",
      "[....] Validerar F ... done.\n",
      "[....] Gör hansens lyft ... done.\n",
      "[info] r: 2178602|s: 17286507\n",
      "[....] Letar efter första ... done.\n",
      "[info] fanns inget t\n",
      "\n",
      "[271]\n",
      "[....] Tonelli och shanks ... done.\n",
      "[info] Saknar lösning, tar bort från basen.\n",
      "\n",
      "[277]\n",
      "[....] Tonelli och shanks ... done.\n",
      "[info] Saknar lösning, tar bort från basen.\n",
      "\n",
      "[281]\n",
      "[....] Tonelli och shanks ... done.\n",
      "[info] Saknar lösning, tar bort från basen.\n",
      "\n",
      "[283]\n",
      "[....] Tonelli och shanks ... done.\n",
      "[info] r: 253|s: 30\n",
      "[....] Letar efter första ... done.\n",
      "[....] Sollar ... done.\n",
      "[....] Validerar F ... done.\n",
      "[....] Gör hansens lyft ... done.\n",
      "[info] r: 23742|s: 56347\n",
      "[....] Letar efter första ... done.\n",
      "[info] fanns inget t\n",
      "\n",
      "[293]\n",
      "[....] Tonelli och shanks ... done.\n",
      "[info] Saknar lösning, tar bort från basen.\n",
      "\n",
      "[307]\n",
      "[....] Tonelli och shanks ... done.\n",
      "[info] Saknar lösning, tar bort från basen.\n",
      "\n",
      "[311]\n",
      "[....] Tonelli och shanks ... done.\n",
      "[info] Saknar lösning, tar bort från basen.\n",
      "\n",
      "[313]\n",
      "[....] Tonelli och shanks ... done.\n",
      "[info] r: 131|s: 182\n",
      "[....] Letar efter första ... done.\n",
      "[....] Sollar ... done.\n",
      "[....] Validerar F ... done.\n",
      "[....] Gör hansens lyft ... done.\n",
      "[info] r: 45829|s: 52140\n",
      "[....] Letar efter första ... done.\n",
      "[info] fanns inget t\n",
      "\n",
      "[317]\n",
      "[....] Tonelli och shanks ... done.\n",
      "[info] r: 259|s: 58\n",
      "[....] Letar efter första ... done.\n",
      "[....] Sollar ... done.\n",
      "[....] Validerar F ... done.\n",
      "[....] Gör hansens lyft ... done.\n",
      "[info] r: 49711|s: 50778\n",
      "[....] Letar efter första ... done.\n",
      "[....] Sollar ... done.\n",
      "[....] Validerar F ... done.\n",
      "[....] Gör hansens lyft ... done.\n",
      "[info] r: 6882963|s: 24972050\n",
      "[....] Letar efter första ... done.\n",
      "[info] fanns inget t\n",
      "\n",
      "[331]\n",
      "[....] Tonelli och shanks ... done.\n",
      "[info] r: 253|s: 78\n",
      "[....] Letar efter första ... done.\n",
      "[....] Sollar ... done.\n",
      "[....] Validerar F ... done.\n",
      "[....] Gör hansens lyft ... done.\n",
      "[info] r: 63143|s: 46418\n",
      "[....] Letar efter första ... done.\n",
      "[info] fanns inget t\n",
      "\n",
      "[337]\n",
      "[....] Tonelli och shanks ... done.\n",
      "[info] r: 304|s: 33\n",
      "[....] Letar efter första ... done.\n",
      "[....] Sollar ... done.\n",
      "[....] Validerar F ... done.\n",
      "[....] Gör hansens lyft ... done.\n",
      "[info] r: 84554|s: 29015\n",
      "[....] Letar efter första ... done.\n",
      "[info] fanns inget t\n",
      "\n",
      "[347]\n",
      "[....] Tonelli och shanks ... done.\n",
      "[info] Saknar lösning, tar bort från basen.\n",
      "\n",
      "[349]\n",
      "[....] Tonelli och shanks ... done.\n",
      "[info] r: 25|s: 324\n",
      "[....] Letar efter första ... done.\n",
      "[....] Sollar ... done.\n",
      "[....] Validerar F ... done.\n",
      "[....] Gör hansens lyft ... done.\n",
      "[info] r: 93906|s: 27895\n",
      "[....] Letar efter första ... done.\n",
      "[info] fanns inget t\n",
      "\n",
      "[353]\n",
      "[....] Tonelli och shanks ... done.\n",
      "[info] r: 160|s: 193\n",
      "[....] Letar efter första ... done.\n",
      "[....] Sollar ... done.\n",
      "[....] Validerar F ... done.\n",
      "[....] Gör hansens lyft ... done.\n",
      "[info] r: 5808|s: 118801\n",
      "[....] Letar efter första ... done.\n",
      "[info] fanns inget t\n",
      "\n",
      "[359]\n",
      "[....] Tonelli och shanks ... done.\n",
      "[info] Saknar lösning, tar bort från basen.\n",
      "\n",
      "[367]\n",
      "[....] Tonelli och shanks ... done.\n",
      "[info] r: 277|s: 90\n",
      "[....] Letar efter första ... done.\n",
      "[....] Sollar ... done.\n",
      "[....] Validerar F ... done.\n",
      "[....] Gör hansens lyft ... done.\n",
      "[info] r: 101202|s: 33487\n",
      "[....] Letar efter första ... done.\n",
      "[info] fanns inget t\n",
      "\n",
      "[373]\n",
      "[....] Tonelli och shanks ... done.\n",
      "[info] Saknar lösning, tar bort från basen.\n",
      "\n",
      "[379]\n",
      "[....] Tonelli och shanks ... done.\n",
      "[info] Saknar lösning, tar bort från basen.\n",
      "\n",
      "[383]\n",
      "[....] Tonelli och shanks ... done.\n",
      "[info] Saknar lösning, tar bort från basen.\n",
      "\n",
      "[389]\n",
      "[....] Tonelli och shanks ... done.\n",
      "[info] Saknar lösning, tar bort från basen.\n",
      "\n",
      "[397]\n",
      "[....] Tonelli och shanks ... done.\n",
      "[info] Saknar lösning, tar bort från basen.\n",
      "\n",
      "[401]\n",
      "[....] Tonelli och shanks ... done.\n",
      "[info] Saknar lösning, tar bort från basen.\n",
      "\n",
      "[409]\n",
      "[....] Tonelli och shanks ... done.\n",
      "[info] r: 312|s: 97\n",
      "[....] Letar efter första ... done.\n",
      "[....] Sollar ... done.\n",
      "[....] Validerar F ... done.\n",
      "[....] Gör hansens lyft ... done.\n",
      "[info] r: 165139|s: 2142\n",
      "[....] Letar efter första ... done.\n",
      "[info] fanns inget t\n",
      "\n",
      "[419]\n",
      "[....] Tonelli och shanks ... done.\n",
      "[info] r: 80|s: 339\n",
      "[....] Letar efter första ... done.\n",
      "[....] Sollar ... done.\n",
      "[....] Validerar F ... done.\n",
      "[....] Gör hansens lyft ... done.\n",
      "[info] r: 72567|s: 102994\n",
      "[....] Letar efter första ... done.\n",
      "[info] fanns inget t\n",
      "\n",
      "[421]\n",
      "[....] Tonelli och shanks ... done.\n",
      "[info] Saknar lösning, tar bort från basen.\n",
      "\n",
      "[431]\n",
      "[....] Tonelli och shanks ... done.\n",
      "[info] Saknar lösning, tar bort från basen.\n",
      "\n",
      "[433]\n",
      "[....] Tonelli och shanks ... done.\n",
      "[info] Saknar lösning, tar bort från basen.\n",
      "\n",
      "[439]\n",
      "[....] Tonelli och shanks ... done.\n",
      "[info] r: 338|s: 101\n",
      "[....] Letar efter första ... done.\n",
      "[....] Sollar ... done.\n",
      "[....] Validerar F ... done.\n",
      "[....] Gör hansens lyft ... done.\n",
      "[info] r: 107893|s: 84828\n",
      "[....] Letar efter första ... done.\n",
      "[info] fanns inget t\n",
      "\n",
      "[443]\n",
      "[....] Tonelli och shanks ... done.\n",
      "[info] Saknar lösning, tar bort från basen.\n",
      "\n",
      "[449]\n",
      "[....] Tonelli och shanks ... done.\n",
      "[info] r: 210|s: 239\n",
      "[....] Letar efter första ... done.\n",
      "[....] Sollar ... done.\n",
      "[....] Validerar F ... done.\n",
      "[....] Gör hansens lyft ... done.\n",
      "[info] r: 67560|s: 134041\n",
      "[....] Letar efter första ... done.\n",
      "[info] fanns inget t\n",
      "\n",
      "[457]\n",
      "[....] Tonelli och shanks ... done.\n",
      "[info] r: 350|s: 107\n",
      "[....] Letar efter första ... done.\n",
      "[....] Sollar ... done.\n",
      "[....] Validerar F ... done.\n",
      "[....] Gör hansens lyft ... done.\n",
      "[info] r: 133337|s: 75512\n",
      "[....] Letar efter första ... done.\n",
      "[info] fanns inget t\n",
      "\n",
      "[461]\n",
      "[....] Tonelli och shanks ... done.\n",
      "[info] r: 289|s: 172\n",
      "[....] Letar efter första ... done.\n",
      "[....] Sollar ... done.\n",
      "[....] Validerar F ... done.\n",
      "[....] Gör hansens lyft ... done.\n",
      "[info] r: 69439|s: 143082\n",
      "[....] Letar efter första ... done.\n",
      "[info] fanns inget t\n",
      "\n",
      "[463]\n",
      "[....] Tonelli och shanks ... done.\n",
      "[info] r: 449|s: 14\n",
      "[....] Letar efter första ... done.\n",
      "[....] Sollar ... done.\n",
      "[....] Validerar F ... done.\n",
      "[....] Gör hansens lyft ... done.\n",
      "[info] r: 107402|s: 106967\n",
      "[....] Letar efter första ... done.\n",
      "[....] Sollar ... done.\n",
      "[....] Validerar F ... done.\n",
      "[....] Gör hansens lyft ... done.\n",
      "[info] r: 83282574|s: 15970273\n",
      "[....] Letar efter första ... done.\n",
      "[info] fanns inget t\n",
      "\n",
      "[467]\n",
      "[....] Tonelli och shanks ... done.\n",
      "[info] r: 364|s: 103\n",
      "[....] Letar efter första ... done.\n",
      "[....] Sollar ... done.\n",
      "[....] Validerar F ... done.\n",
      "[....] Gör hansens lyft ... done.\n",
      "[info] r: 204910|s: 13179\n",
      "[....] Letar efter första ... done.\n",
      "[info] fanns inget t\n",
      "\n",
      "[479]\n",
      "[....] Tonelli och shanks ... done.\n",
      "[info] Saknar lösning, tar bort från basen.\n",
      "\n",
      "[487]\n",
      "[....] Tonelli och shanks ... done.\n",
      "[info] Saknar lösning, tar bort från basen.\n",
      "\n",
      "[491]\n",
      "[....] Tonelli och shanks ... done.\n",
      "[info] Saknar lösning, tar bort från basen.\n",
      "\n",
      "[499]\n",
      "[....] Tonelli och shanks ... done.\n",
      "[info] r: 491|s: 8\n",
      "[....] Letar efter första ... done.\n",
      "[....] Sollar ... done.\n",
      "[....] Validerar F ... done.\n",
      "[....] Gör hansens lyft ... done.\n",
      "[info] r: 116259|s: 132742\n",
      "[....] Letar efter första ... done.\n",
      "[info] fanns inget t\n",
      "\n",
      "[503]\n",
      "[....] Tonelli och shanks ... done.\n",
      "[info] r: 276|s: 227\n",
      "[....] Letar efter första ... done.\n",
      "[....] Sollar ... done.\n",
      "[....] Validerar F ... done.\n",
      "[....] Gör hansens lyft ... done.\n",
      "[info] r: 63654|s: 189355\n",
      "[....] Letar efter första ... done.\n",
      "[info] fanns inget t\n",
      "\n",
      "[509]\n",
      "[....] Tonelli och shanks ... done.\n",
      "[info] Saknar lösning, tar bort från basen.\n",
      "\n",
      "[521]\n",
      "[....] Tonelli och shanks ... done.\n",
      "[info] Saknar lösning, tar bort från basen.\n",
      "\n",
      "[523]\n",
      "[....] Tonelli och shanks ... done.\n",
      "[info] r: 63|s: 460\n",
      "[....] Letar efter första ... done.\n",
      "[....] Sollar ... done.\n",
      "[....] Validerar F ... done.\n",
      "[....] Gör hansens lyft ... done.\n",
      "[info] r: 62823|s: 210706\n",
      "[....] Letar efter första ... done.\n",
      "[info] fanns inget t\n",
      "\n",
      "[541]\n",
      "[....] Tonelli och shanks ... done.\n",
      "[info] Saknar lösning, tar bort från basen.\n",
      "\n",
      "[547]\n",
      "[....] Tonelli och shanks ... done.\n",
      "[info] r: 458|s: 89\n",
      "[....] Letar efter första ... done.\n",
      "[....] Sollar ... done.\n",
      "[....] Validerar F ... done.\n",
      "[....] Gör hansens lyft ... done.\n",
      "[info] r: 2099|s: 297110\n",
      "[....] Letar efter första ... done.\n",
      "[info] fanns inget t\n",
      "\n",
      "[557]\n",
      "[....] Tonelli och shanks ... done.\n",
      "[info] Saknar lösning, tar bort från basen.\n",
      "\n",
      "[563]\n",
      "[....] Tonelli och shanks ... done.\n",
      "[info] r: 429|s: 134\n",
      "[....] Letar efter första ... done.\n",
      "[....] Sollar ... done.\n",
      "[....] Validerar F ... done.\n",
      "[....] Gör hansens lyft ... done.\n",
      "[info] r: 65174|s: 251795\n",
      "[....] Letar efter första ... done.\n",
      "[info] fanns inget t\n",
      "\n",
      "[569]\n",
      "[....] Tonelli och shanks ... done.\n",
      "[info] r: 497|s: 72\n",
      "[....] Letar efter första ... done.\n",
      "[....] Sollar ... done.\n",
      "[....] Validerar F ... done.\n",
      "[....] Gör hansens lyft ... done.\n",
      "[info] r: 89261|s: 234500\n",
      "[....] Letar efter första ... done.\n",
      "[info] fanns inget t\n",
      "\n",
      "[571]\n",
      "[....] Tonelli och shanks ... done.\n",
      "[info] r: 202|s: 369\n",
      "[....] Letar efter första ... done.\n",
      "[....] Sollar ... done.\n",
      "[....] Validerar F ... done.\n",
      "[....] Gör hansens lyft ... done.\n",
      "[info] r: 201194|s: 124847\n",
      "[....] Letar efter första ... done.\n",
      "[info] fanns inget t\n",
      "\n",
      "[577]\n",
      "[....] Tonelli och shanks ... done.\n",
      "[info] r: 103|s: 474\n",
      "[....] Letar efter första ... done.\n",
      "[....] Sollar ... done.\n",
      "[....] Validerar F ... done.\n",
      "[....] Gör hansens lyft ... done.\n",
      "[info] r: 72228|s: 260701\n",
      "[....] Letar efter första ... done.\n",
      "[info] fanns inget t\n",
      "\n",
      "[587]\n",
      "[....] Tonelli och shanks ... done.\n",
      "[info] r: 322|s: 265\n",
      "[....] Letar efter första ... done.\n",
      "[....] Sollar ... done.\n",
      "[....] Validerar F ... done.\n",
      "[....] Gör hansens lyft ... done.\n",
      "[info] r: 93655|s: 250914\n",
      "[....] Letar efter första ... done.\n",
      "[info] fanns inget t\n",
      "\n",
      "[593]\n",
      "[....] Tonelli och shanks ... done.\n",
      "[info] Saknar lösning, tar bort från basen.\n",
      "\n",
      "[599]\n",
      "[....] Tonelli och shanks ... done.\n",
      "[info] Saknar lösning, tar bort från basen.\n",
      "\n",
      "[601]\n",
      "[....] Tonelli och shanks ... done.\n",
      "[info] r: 224|s: 377\n",
      "[....] Letar efter första ... done.\n",
      "[....] Sollar ... done.\n",
      "[....] Validerar F ... done.\n",
      "[....] Gör hansens lyft ... done.\n",
      "[info] r: 331976|s: 29225\n",
      "[....] Letar efter första ... done.\n",
      "[info] fanns inget t\n",
      "\n",
      "[607]\n",
      "[....] Tonelli och shanks ... done.\n",
      "[info] r: 106|s: 501\n",
      "[....] Letar efter första ... done.\n",
      "[....] Sollar ... done.\n",
      "[....] Validerar F ... done.\n",
      "[....] Gör hansens lyft ... done.\n",
      "[info] r: 281147|s: 87302\n",
      "[....] Letar efter första ... done.\n",
      "[info] fanns inget t\n",
      "\n",
      "[613]\n",
      "[....] Tonelli och shanks ... done.\n",
      "[info] Saknar lösning, tar bort från basen.\n",
      "\n",
      "[617]\n",
      "[....] Tonelli och shanks ... done.\n",
      "[info] r: 357|s: 260\n",
      "[....] Letar efter första ... done.\n",
      "[....] Sollar ... done.\n",
      "[....] Validerar F ... done.\n",
      "[....] Gör hansens lyft ... done.\n",
      "[info] r: 281709|s: 98980\n",
      "[....] Letar efter första ... done.\n",
      "[info] fanns inget t\n",
      "\n",
      "[619]\n",
      "[....] Tonelli och shanks ... done.\n",
      "[info] r: 155|s: 464\n",
      "[....] Letar efter första ... done.\n",
      "[....] Sollar ... done.\n",
      "[....] Validerar F ... done.\n",
      "[....] Gör hansens lyft ... done.\n",
      "[info] r: 70102|s: 313059\n",
      "[....] Letar efter första ... done.\n",
      "[info] fanns inget t\n",
      "\n",
      "[631]\n",
      "[....] Tonelli och shanks ... done.\n",
      "[info] r: 393|s: 238\n",
      "[....] Letar efter första ... done.\n",
      "[....] Sollar ... done.\n",
      "[....] Validerar F ... done.\n",
      "[....] Gör hansens lyft ... done.\n",
      "[info] r: 380886|s: 17275\n",
      "[....] Letar efter första ... done.\n",
      "[info] fanns inget t\n",
      "\n",
      "[641]\n",
      "[....] Tonelli och shanks ... done.\n",
      "[info] Saknar lösning, tar bort från basen.\n",
      "\n",
      "[643]\n",
      "[....] Tonelli och shanks ... done.\n",
      "[info] r: 118|s: 525\n",
      "[....] Letar efter första ... done.\n",
      "[....] Sollar ... done.\n",
      "[....] Validerar F ... done.\n",
      "[....] Gör hansens lyft ... done.\n",
      "[info] r: 382703|s: 30746\n",
      "[....] Letar efter första ... done.\n",
      "[info] fanns inget t\n",
      "\n",
      "[647]\n",
      "[....] Tonelli och shanks ... done.\n",
      "[info] r: 218|s: 429\n",
      "[....] Letar efter första ... done.\n",
      "[....] Sollar ... done.\n",
      "[....] Validerar F ... done.\n",
      "[....] Gör hansens lyft ... done.\n",
      "[info] r: 318542|s: 100067\n",
      "[....] Letar efter första ... done.\n",
      "[info] fanns inget t\n",
      "\n",
      "[653]\n",
      "[....] Tonelli och shanks ... done.\n",
      "[info] Saknar lösning, tar bort från basen.\n",
      "\n",
      "[659]\n",
      "[....] Tonelli och shanks ... done.\n",
      "[info] r: 166|s: 493\n",
      "[....] Letar efter första ... done.\n",
      "[....] Sollar ... done.\n",
      "[....] Validerar F ... done.\n",
      "[....] Gör hansens lyft ... done.\n",
      "[info] r: 196548|s: 237733\n",
      "[....] Letar efter första ... done.\n",
      "[info] fanns inget t\n",
      "\n",
      "[661]\n",
      "[....] Tonelli och shanks ... done.\n",
      "[info] Saknar lösning, tar bort från basen.\n",
      "\n",
      "[673]\n",
      "[....] Tonelli och shanks ... done.\n",
      "[info] Saknar lösning, tar bort från basen.\n",
      "\n",
      "[677]\n",
      "[....] Tonelli och shanks ... done.\n",
      "[info] Saknar lösning, tar bort från basen.\n",
      "\n",
      "[683]\n",
      "[....] Tonelli och shanks ... done.\n",
      "[info] r: 620|s: 63\n",
      "[....] Letar efter första ... done.\n",
      "[....] Sollar ... done.\n",
      "[....] Validerar F ... done.\n",
      "[....] Gör hansens lyft ... done.\n",
      "[info] r: 391979|s: 74510\n",
      "[....] Letar efter första ... done.\n",
      "[info] fanns inget t\n",
      "\n",
      "[691]\n",
      "[....] Tonelli och shanks ... done.\n",
      "[info] Saknar lösning, tar bort från basen.\n",
      "\n",
      "[701]\n",
      "[....] Tonelli och shanks ... done.\n",
      "[info] r: 487|s: 214\n",
      "[....] Letar efter första ... done.\n",
      "[....] Sollar ... done.\n",
      "[....] Validerar F ... done.\n",
      "[....] Gör hansens lyft ... done.\n",
      "[info] r: 297711|s: 193690\n",
      "[....] Letar efter första ... done.\n",
      "[info] fanns inget t\n",
      "\n",
      "[709]\n",
      "[....] Tonelli och shanks ... done.\n",
      "[info] Saknar lösning, tar bort från basen.\n",
      "\n",
      "[719]\n",
      "[....] Tonelli och shanks ... done.\n",
      "[info] r: 453|s: 266\n",
      "[....] Letar efter första ... done.\n",
      "[....] Sollar ... done.\n",
      "[....] Validerar F ... done.\n",
      "[....] Gör hansens lyft ... done.\n",
      "[info] r: 402374|s: 114587\n",
      "[....] Letar efter första ... done.\n",
      "[info] fanns inget t\n",
      "\n",
      "[727]\n",
      "[....] Tonelli och shanks ... done.\n",
      "[info] Saknar lösning, tar bort från basen.\n",
      "\n",
      "[733]\n",
      "[....] Tonelli och shanks ... done.\n",
      "[info] Saknar lösning, tar bort från basen.\n",
      "\n",
      "[739]\n",
      "[....] Tonelli och shanks ... done.\n",
      "[info] Saknar lösning, tar bort från basen.\n",
      "\n",
      "[743]\n",
      "[....] Tonelli och shanks ... done.\n",
      "[info] Saknar lösning, tar bort från basen.\n",
      "\n",
      "[751]\n",
      "[....] Tonelli och shanks ... done.\n",
      "[info] Saknar lösning, tar bort från basen.\n",
      "\n",
      "[757]\n",
      "[....] Tonelli och shanks ... done.\n",
      "[info] Saknar lösning, tar bort från basen.\n",
      "\n",
      "[761]\n",
      "[....] Tonelli och shanks ... done.\n",
      "[info] Saknar lösning, tar bort från basen.\n",
      "\n",
      "[769]\n",
      "[....] Tonelli och shanks ... done.\n",
      "[info] r: 698|s: 71\n",
      "[....] Letar efter första ... done.\n",
      "[....] Sollar ... done.\n",
      "[....] Validerar F ... done.\n",
      "[....] Gör hansens lyft ... done.\n",
      "[info] r: 311374|s: 279987\n",
      "[....] Letar efter första ... done.\n",
      "[info] fanns inget t\n",
      "\n",
      "[773]\n",
      "[....] Tonelli och shanks ... done.\n",
      "[info] Saknar lösning, tar bort från basen.\n",
      "\n",
      "[787]\n",
      "[....] Tonelli och shanks ... done.\n",
      "[info] Saknar lösning, tar bort från basen.\n",
      "\n",
      "[797]\n",
      "[....] Tonelli och shanks ... done.\n",
      "[info] Saknar lösning, tar bort från basen.\n",
      "\n",
      "[809]\n",
      "[....] Tonelli och shanks ... done.\n",
      "[info] r: 330|s: 479\n",
      "[....] Letar efter första ... done.\n",
      "[....] Sollar ... done.\n",
      "[....] Validerar F ... done.\n",
      "[....] Gör hansens lyft ... done.\n",
      "[info] r: 149995|s: 504486\n",
      "[....] Letar efter första ... done.\n",
      "[info] fanns inget t\n",
      "\n",
      "[811]\n",
      "[....] Tonelli och shanks ... done.\n",
      "[info] r: 183|s: 628\n",
      "[....] Letar efter första ... done.\n",
      "[....] Sollar ... done.\n",
      "[....] Validerar F ... done.\n",
      "[....] Gör hansens lyft ... done.\n",
      "[info] r: 386219|s: 271502\n",
      "[....] Letar efter första ... done.\n",
      "[info] fanns inget t\n",
      "\n",
      "[821]\n",
      "[....] Tonelli och shanks ... done.\n",
      "[info] Saknar lösning, tar bort från basen.\n",
      "\n",
      "[823]\n",
      "[....] Tonelli och shanks ... done.\n",
      "[info] Saknar lösning, tar bort från basen.\n",
      "\n",
      "[827]\n",
      "[....] Tonelli och shanks ... done.\n",
      "[info] r: 190|s: 637\n",
      "[....] Letar efter första ... done.\n",
      "[....] Sollar ... done.\n",
      "[....] Validerar F ... done.\n",
      "[....] Gör hansens lyft ... done.\n",
      "[info] r: 48983|s: 634946\n",
      "[....] Letar efter första ... done.\n",
      "[info] fanns inget t\n",
      "\n",
      "[829]\n",
      "[....] Tonelli och shanks ... done.\n",
      "[info] Saknar lösning, tar bort från basen.\n",
      "\n",
      "[839]\n",
      "[....] Tonelli och shanks ... done.\n",
      "[info] r: 570|s: 269\n",
      "[....] Letar efter första ... done.\n",
      "[....] Sollar ... done.\n",
      "[....] Validerar F ... done.\n",
      "[....] Gör hansens lyft ... done.\n",
      "[info] r: 114674|s: 589247\n",
      "[....] Letar efter första ... done.\n",
      "[info] fanns inget t\n",
      "\n",
      "[853]\n",
      "[....] Tonelli och shanks ... done.\n",
      "[info] Saknar lösning, tar bort från basen.\n",
      "\n",
      "[857]\n",
      "[....] Tonelli och shanks ... done.\n",
      "[info] Saknar lösning, tar bort från basen.\n",
      "\n",
      "[859]\n",
      "[....] Tonelli och shanks ... done.\n",
      "[info] Saknar lösning, tar bort från basen.\n",
      "\n",
      "[863]\n",
      "[....] Tonelli och shanks ... done.\n",
      "[info] r: 690|s: 173\n",
      "[....] Letar efter första ... done.\n",
      "[....] Sollar ... done.\n",
      "[....] Validerar F ... done.\n",
      "[....] Gör hansens lyft ... done.\n",
      "[info] r: 61963|s: 682806\n",
      "[....] Letar efter första ... done.\n",
      "[info] fanns inget t\n",
      "\n",
      "[877]\n",
      "[....] Tonelli och shanks ... done.\n",
      "[info] Saknar lösning, tar bort från basen.\n",
      "\n",
      "[881]\n",
      "[....] Tonelli och shanks ... done.\n",
      "[info] Saknar lösning, tar bort från basen.\n",
      "\n",
      "[883]\n",
      "[....] Tonelli och shanks ... done.\n",
      "[info] r: 464|s: 419\n",
      "[....] Letar efter första ... done.\n",
      "[....] Sollar ... done.\n",
      "[....] Validerar F ... done.\n",
      "[....] Gör hansens lyft ... done.\n",
      "[info] r: 718343|s: 61346\n",
      "[....] Letar efter första ... done.\n",
      "[info] fanns inget t\n",
      "\n",
      "[887]\n",
      "[....] Tonelli och shanks ... done.\n",
      "[info] Saknar lösning, tar bort från basen.\n",
      "\n",
      "[907]\n",
      "[....] Tonelli och shanks ... done.\n",
      "[info] r: 490|s: 417\n",
      "[....] Letar efter första ... done.\n",
      "[....] Sollar ... done.\n",
      "[....] Validerar F ... done.\n",
      "[....] Gör hansens lyft ... done.\n",
      "[info] r: 264427|s: 558222\n",
      "[....] Letar efter första ... done.\n",
      "[info] fanns inget t\n",
      "\n",
      "[911]\n",
      "[....] Tonelli och shanks ... done.\n",
      "[info] Saknar lösning, tar bort från basen.\n",
      "\n",
      "[919]\n",
      "[....] Tonelli och shanks ... done.\n",
      "[info] Saknar lösning, tar bort från basen.\n",
      "\n",
      "[929]\n",
      "[....] Tonelli och shanks ... done.\n",
      "[info] r: 825|s: 104\n",
      "[....] Letar efter första ... done.\n",
      "[....] Sollar ... done.\n",
      "[....] Validerar F ... done.\n",
      "[....] Gör hansens lyft ... done.\n",
      "[info] r: 37985|s: 825056\n",
      "[....] Letar efter första ... done.\n",
      "[info] fanns inget t\n",
      "\n",
      "[937]\n",
      "[....] Tonelli och shanks ... done.\n",
      "[info] r: 162|s: 775\n",
      "[....] Letar efter första ... done.\n",
      "[....] Sollar ... done.\n",
      "[....] Validerar F ... done.\n",
      "[....] Gör hansens lyft ... done.\n",
      "[info] r: 634511|s: 243458\n",
      "[....] Letar efter första ... done.\n",
      "[info] fanns inget t\n",
      "\n",
      "[941]\n",
      "[....] Tonelli och shanks ... done.\n",
      "[info] Saknar lösning, tar bort från basen.\n",
      "\n",
      "[947]\n",
      "[....] Tonelli och shanks ... done.\n",
      "[info] Saknar lösning, tar bort från basen.\n",
      "\n",
      "[953]\n",
      "[....] Tonelli och shanks ... done.\n",
      "[info] r: 337|s: 616\n",
      "[....] Letar efter första ... done.\n",
      "[....] Sollar ... done.\n",
      "[....] Validerar F ... done.\n",
      "[....] Gör hansens lyft ... done.\n",
      "[info] r: 535923|s: 372286\n",
      "[....] Letar efter första ... done.\n",
      "[info] fanns inget t\n",
      "\n",
      "[967]\n",
      "[....] Tonelli och shanks ... done.\n",
      "[info] Saknar lösning, tar bort från basen.\n",
      "\n",
      "[971]\n",
      "[....] Tonelli och shanks ... done.\n",
      "[info] r: 453|s: 518\n",
      "[....] Letar efter första ... done.\n",
      "[....] Sollar ... done.\n",
      "[....] Validerar F ... done.\n",
      "[....] Gör hansens lyft ... done.\n",
      "[info] r: 83959|s: 858882\n",
      "[....] Letar efter första ... done.\n",
      "[info] fanns inget t\n",
      "\n",
      "[977]\n",
      "[....] Tonelli och shanks ... done.\n",
      "[info] r: 78|s: 899\n",
      "[....] Letar efter första ... done.\n",
      "[....] Sollar ... done.\n",
      "[....] Validerar F ... done.\n",
      "[....] Gör hansens lyft ... done.\n",
      "[info] r: 81169|s: 873360\n",
      "[....] Letar efter första ... done.\n",
      "[info] fanns inget t\n",
      "\n",
      "[983]\n",
      "[....] Tonelli och shanks ... done.\n",
      "[info] r: 874|s: 109\n",
      "[....] Letar efter första ... done.\n",
      "[....] Sollar ... done.\n",
      "[....] Validerar F ... done.\n",
      "[....] Gör hansens lyft ... done.\n",
      "[info] r: 828560|s: 137729\n",
      "[....] Letar efter första ... done.\n",
      "[info] fanns inget t\n",
      "\n",
      "[991]\n",
      "[....] Tonelli och shanks ... done.\n",
      "[info] r: 706|s: 285\n",
      "[....] Letar efter första ... done.\n",
      "[....] Sollar ... done.\n",
      "[....] Validerar F ... done.\n",
      "[....] Gör hansens lyft ... done.\n",
      "[info] r: 733055|s: 249026\n",
      "[....] Letar efter första ... done.\n",
      "[info] fanns inget t\n",
      "\n",
      "[997]\n",
      "[....] Tonelli och shanks ... done.\n",
      "[info] Saknar lösning, tar bort från basen.\n",
      "\n",
      "[1009]\n",
      "[....] Tonelli och shanks ... done.\n",
      "[info] r: 687|s: 322\n",
      "[....] Letar efter första ... done.\n",
      "[....] Sollar ... done.\n",
      "[....] Validerar F ... done.\n",
      "[....] Gör hansens lyft ... done.\n",
      "[info] r: 195424|s: 822657\n",
      "[....] Letar efter första ... done.\n",
      "[info] fanns inget t\n",
      "\n",
      "[1013]\n",
      "[....] Tonelli och shanks ... done.\n",
      "[info] Saknar lösning, tar bort från basen.\n",
      "\n",
      "[1019]\n",
      "[....] Tonelli och shanks ... done.\n",
      "[info] Saknar lösning, tar bort från basen.\n",
      "\n",
      "[1021]\n",
      "[....] Tonelli och shanks ... done.\n",
      "[info] Saknar lösning, tar bort från basen.\n",
      "\n",
      "[1031]\n",
      "[....] Tonelli och shanks ... done.\n",
      "[info] Saknar lösning, tar bort från basen.\n",
      "\n",
      "[1033]\n",
      "[....] Tonelli och shanks ... done.\n",
      "[info] Saknar lösning, tar bort från basen.\n",
      "\n",
      "[1039]\n",
      "[....] Tonelli och shanks ... done.\n",
      "[info] r: 648|s: 391\n",
      "[....] Letar efter första ... done.\n",
      "[....] Sollar ... done.\n",
      "[....] Validerar F ... done.\n",
      "[....] Gör hansens lyft ... done.\n",
      "[info] r: 354947|s: 724574\n",
      "[....] Letar efter första ... done.\n",
      "[info] fanns inget t\n",
      "\n",
      "[1049]\n",
      "[....] Tonelli och shanks ... done.\n",
      "[info] Saknar lösning, tar bort från basen.\n",
      "\n",
      "[1051]\n",
      "[....] Tonelli och shanks ... done.\n",
      "[info] r: 846|s: 205\n",
      "[....] Letar efter första ... done.\n",
      "[....] Sollar ... done.\n",
      "[....] Validerar F ... done.\n",
      "[....] Gör hansens lyft ... done.\n",
      "[info] r: 66008|s: 1038593\n",
      "[....] Letar efter första ... done.\n",
      "[info] fanns inget t\n",
      "\n",
      "[1061]\n",
      "[....] Tonelli och shanks ... done.\n",
      "[info] Saknar lösning, tar bort från basen.\n",
      "\n",
      "[1063]\n",
      "[....] Tonelli och shanks ... done.\n",
      "[info] Saknar lösning, tar bort från basen.\n",
      "\n",
      "[1069]\n",
      "[....] Tonelli och shanks ... done.\n",
      "[info] r: 928|s: 141\n",
      "[....] Letar efter första ... done.\n",
      "[....] Sollar ... done.\n",
      "[....] Validerar F ... done.\n",
      "[....] Gör hansens lyft ... done.\n",
      "[info] r: 928820|s: 213941\n",
      "[....] Letar efter första ... done.\n",
      "[info] fanns inget t\n",
      "\n",
      "[1087]\n",
      "[....] Tonelli och shanks ... done.\n",
      "[info] Saknar lösning, tar bort från basen.\n",
      "\n",
      "[1091]\n",
      "[....] Tonelli och shanks ... done.\n",
      "[info] Saknar lösning, tar bort från basen.\n",
      "\n",
      "[1093]\n",
      "[....] Tonelli och shanks ... done.\n",
      "[info] r: 9|s: 1084\n",
      "[....] Letar efter första ... done.\n",
      "[....] Sollar ... done.\n",
      "[....] Validerar F ... done.\n",
      "[....] Gör hansens lyft ... done.\n",
      "[info] r: 154122|s: 1040527\n",
      "[....] Letar efter första ... done.\n",
      "[info] fanns inget t\n",
      "\n",
      "[1097]\n",
      "[....] Tonelli och shanks ... done.\n",
      "[info] r: 896|s: 201\n",
      "[....] Letar efter första ... done.\n",
      "[....] Sollar ... done.\n",
      "[....] Validerar F ... done.\n",
      "[....] Gör hansens lyft ... done.\n",
      "[info] r: 1134097|s: 69312\n",
      "[....] Letar efter första ... done.\n",
      "[info] fanns inget t\n",
      "\n",
      "[1103]\n",
      "[....] Tonelli och shanks ... done.\n",
      "[info] Saknar lösning, tar bort från basen.\n",
      "\n",
      "[1109]\n",
      "[....] Tonelli och shanks ... done.\n",
      "[info] r: 466|s: 643\n",
      "[....] Letar efter första ... done.\n",
      "[....] Sollar ... done.\n",
      "[....] Validerar F ... done.\n",
      "[....] Gör hansens lyft ... done.\n",
      "[info] r: 265517|s: 964364\n",
      "[....] Letar efter första ... done.\n",
      "[info] fanns inget t\n",
      "\n",
      "[1117]\n",
      "[....] Tonelli och shanks ... done.\n",
      "[info] r: 1115|s: 2\n",
      "[....] Letar efter första ... done.\n",
      "[....] Sollar ... done.\n",
      "[....] Validerar F ... done.\n",
      "[....] Gör hansens lyft ... done.\n",
      "[info] r: 21221|s: 1226468\n",
      "[....] Letar efter första ... done.\n",
      "[info] fanns inget t\n",
      "\n",
      "[1123]\n",
      "[....] Tonelli och shanks ... done.\n",
      "[info] Saknar lösning, tar bort från basen.\n",
      "\n",
      "[1129]\n",
      "[....] Tonelli och shanks ... done.\n",
      "[info] Saknar lösning, tar bort från basen.\n",
      "\n",
      "[1151]\n",
      "[....] Tonelli och shanks ... done.\n",
      "[info] Saknar lösning, tar bort från basen.\n",
      "\n",
      "[1153]\n",
      "[....] Tonelli och shanks ... done.\n",
      "[info] r: 321|s: 832\n",
      "[....] Letar efter första ... done.\n",
      "[....] Sollar ... done.\n",
      "[....] Validerar F ... done.\n",
      "[....] Gör hansens lyft ... done.\n",
      "[info] r: 120233|s: 1209176\n",
      "[....] Letar efter första ... done.\n",
      "[info] fanns inget t\n",
      "\n",
      "[1163]\n",
      "[....] Tonelli och shanks ... done.\n",
      "[info] Saknar lösning, tar bort från basen.\n",
      "\n",
      "[1171]\n",
      "[....] Tonelli och shanks ... done.\n",
      "[info] Saknar lösning, tar bort från basen.\n",
      "\n",
      "[1181]\n",
      "[....] Tonelli och shanks ... done.\n",
      "[info] r: 163|s: 1018\n",
      "[....] Letar efter första ... done.\n",
      "[....] Sollar ... done.\n",
      "[....] Validerar F ... done.\n",
      "[....] Gör hansens lyft ... done.\n",
      "[info] r: 1168172|s: 226589\n",
      "[....] Letar efter första ... done.\n",
      "[info] fanns inget t\n",
      "\n",
      "[1187]\n",
      "[....] Tonelli och shanks ... done.\n",
      "[info] Saknar lösning, tar bort från basen.\n",
      "\n",
      "[1193]\n",
      "[....] Tonelli och shanks ... done.\n",
      "[info] Saknar lösning, tar bort från basen.\n",
      "\n",
      "[1201]\n",
      "[....] Tonelli och shanks ... done.\n",
      "[info] Saknar lösning, tar bort från basen.\n",
      "\n",
      "[1213]\n",
      "[....] Tonelli och shanks ... done.\n",
      "[info] Saknar lösning, tar bort från basen.\n",
      "\n",
      "[1217]\n",
      "[....] Tonelli och shanks ... done.\n",
      "[info] Saknar lösning, tar bort från basen.\n",
      "\n",
      "[1223]\n",
      "[....] Tonelli och shanks ... done.\n",
      "[info] Saknar lösning, tar bort från basen.\n",
      "\n",
      "[1229]\n",
      "[....] Tonelli och shanks ... done.\n",
      "[info] r: 876|s: 353\n",
      "[....] Letar efter första ... done.\n",
      "[....] Sollar ... done.\n",
      "[....] Validerar F ... done.\n",
      "[....] Gör hansens lyft ... done.\n",
      "[info] r: 843970|s: 666471\n",
      "[....] Letar efter första ... done.\n",
      "[info] fanns inget t\n",
      "\n",
      "[1231]\n",
      "[....] Tonelli och shanks ... done.\n",
      "[info] r: 1037|s: 194\n",
      "[....] Letar efter första ... done.\n",
      "[....] Sollar ... done.\n",
      "[....] Validerar F ... done.\n",
      "[....] Gör hansens lyft ... done.\n",
      "[info] r: 60125|s: 1455236\n",
      "[....] Letar efter första ... done.\n",
      "[info] fanns inget t\n",
      "\n",
      "[1237]\n",
      "[....] Tonelli och shanks ... done.\n",
      "[info] r: 795|s: 442\n",
      "[....] Letar efter första ... done.\n",
      "[....] Sollar ... done.\n",
      "[....] Validerar F ... done.\n",
      "[....] Gör hansens lyft ... done.\n",
      "[info] r: 276646|s: 1253523\n",
      "[....] Letar efter första ... done.\n",
      "[info] fanns inget t\n",
      "\n",
      "[1249]\n",
      "[....] Tonelli och shanks ... done.\n",
      "[info] r: 994|s: 255\n",
      "[....] Letar efter första ... done.\n",
      "[....] Sollar ... done.\n",
      "[....] Validerar F ... done.\n",
      "[....] Gör hansens lyft ... done.\n",
      "[info] r: 1272476|s: 287525\n",
      "[....] Letar efter första ... done.\n",
      "[info] fanns inget t\n",
      "\n",
      "[1259]\n",
      "[....] Tonelli och shanks ... done.\n",
      "[info] Saknar lösning, tar bort från basen.\n",
      "\n",
      "[1277]\n",
      "[....] Tonelli och shanks ... done.\n",
      "[info] r: 1256|s: 21\n",
      "[....] Letar efter första ... done.\n",
      "[....] Sollar ... done.\n",
      "[....] Validerar F ... done.\n",
      "[....] Gör hansens lyft ... done.\n",
      "[info] r: 1481299|s: 149430\n",
      "[....] Letar efter första ... done.\n",
      "[info] fanns inget t\n",
      "\n",
      "[1279]\n",
      "[....] Tonelli och shanks ... done.\n",
      "[info] r: 1190|s: 89\n",
      "[....] Letar efter första ... done.\n",
      "[....] Sollar ... done.\n",
      "[....] Validerar F ... done.\n",
      "[....] Gör hansens lyft ... done.\n",
      "[info] r: 691850|s: 943991\n",
      "[....] Letar efter första ... done.\n",
      "[info] fanns inget t\n",
      "\n",
      "[1283]\n",
      "[....] Tonelli och shanks ... done.\n",
      "[info] Saknar lösning, tar bort från basen.\n",
      "\n",
      "[1289]\n",
      "[....] Tonelli och shanks ... done.\n",
      "[info] r: 10|s: 1279\n",
      "[....] Letar efter första ... done.\n",
      "[....] Sollar ... done.\n",
      "[....] Validerar F ... done.\n",
      "[....] Gör hansens lyft ... done.\n",
      "[info] r: 609707|s: 1051814\n",
      "[....] Letar efter första ... done.\n",
      "[info] fanns inget t\n",
      "\n",
      "[1291]\n",
      "[....] Tonelli och shanks ... done.\n",
      "[info] Saknar lösning, tar bort från basen.\n",
      "\n",
      "[1297]\n",
      "[....] Tonelli och shanks ... done.\n",
      "[info] Saknar lösning, tar bort från basen.\n",
      "\n",
      "[1301]\n",
      "[....] Tonelli och shanks ... done.\n",
      "[info] Saknar lösning, tar bort från basen.\n",
      "\n",
      "[1303]\n",
      "[....] Tonelli och shanks ... done.\n",
      "[info] r: 454|s: 849\n",
      "[....] Letar efter första ... done.\n",
      "[....] Sollar ... done.\n",
      "[....] Validerar F ... done.\n",
      "[....] Gör hansens lyft ... done.\n",
      "[info] r: 685832|s: 1011977\n",
      "[....] Letar efter första ... done.\n",
      "[info] fanns inget t\n",
      "\n",
      "[1307]\n",
      "[....] Tonelli och shanks ... done.\n",
      "[info] Saknar lösning, tar bort från basen.\n",
      "\n",
      "[1319]\n",
      "[....] Tonelli och shanks ... done.\n",
      "[info] r: 500|s: 819\n",
      "[....] Letar efter första ... done.\n",
      "[....] Sollar ... done.\n",
      "[....] Validerar F ... done.\n",
      "[....] Gör hansens lyft ... done.\n",
      "[info] r: 1622870|s: 116891\n",
      "[....] Letar efter första ... done.\n",
      "[info] fanns inget t\n",
      "\n",
      "[1321]\n",
      "[....] Tonelli och shanks ... done.\n",
      "[info] Saknar lösning, tar bort från basen.\n",
      "\n",
      "[1327]\n",
      "[....] Tonelli och shanks ... done.\n",
      "[info] r: 717|s: 610\n",
      "[....] Letar efter första ... done.\n",
      "[....] Sollar ... done.\n",
      "[....] Validerar F ... done.\n",
      "[....] Gör hansens lyft ... done.\n",
      "[info] r: 1631600|s: 129329\n",
      "[....] Letar efter första ... done.\n",
      "[info] fanns inget t\n",
      "\n",
      "[1361]\n",
      "[....] Tonelli och shanks ... done.\n",
      "[info] r: 1030|s: 331\n",
      "[....] Letar efter första ... done.\n",
      "[....] Sollar ... done.\n",
      "[....] Validerar F ... done.\n",
      "[....] Gör hansens lyft ... done.\n",
      "[info] r: 538625|s: 1313696\n",
      "[....] Letar efter första ... done.\n",
      "[info] fanns inget t\n",
      "\n",
      "[1367]\n",
      "[....] Tonelli och shanks ... done.\n",
      "[info] Saknar lösning, tar bort från basen.\n",
      "\n",
      "[1373]\n",
      "[....] Tonelli och shanks ... done.\n",
      "[info] r: 95|s: 1278\n",
      "[....] Letar efter första ... done.\n",
      "[....] Sollar ... done.\n",
      "[....] Validerar F ... done.\n",
      "[....] Gör hansens lyft ... done.\n",
      "[info] r: 631675|s: 1253454\n",
      "[....] Letar efter första ... done.\n",
      "[info] fanns inget t\n",
      "\n",
      "[1381]\n",
      "[....] Tonelli och shanks ... done.\n",
      "[info] Saknar lösning, tar bort från basen.\n",
      "\n",
      "[1399]\n",
      "[....] Tonelli och shanks ... done.\n",
      "[info] Saknar lösning, tar bort från basen.\n",
      "\n",
      "[1409]\n",
      "[....] Tonelli och shanks ... done.\n",
      "[info] Saknar lösning, tar bort från basen.\n",
      "\n",
      "[1423]\n",
      "[....] Tonelli och shanks ... done.\n",
      "[info] Saknar lösning, tar bort från basen.\n",
      "\n",
      "[1427]\n",
      "[....] Tonelli och shanks ... done.\n",
      "[info] Saknar lösning, tar bort från basen.\n",
      "\n",
      "[1429]\n",
      "[....] Tonelli och shanks ... done.\n",
      "[info] Saknar lösning, tar bort från basen.\n",
      "\n",
      "[1433]\n",
      "[....] Tonelli och shanks ... done.\n",
      "[info] Saknar lösning, tar bort från basen.\n",
      "\n",
      "[1439]\n",
      "[....] Tonelli och shanks ... done.\n",
      "[info] Saknar lösning, tar bort från basen.\n",
      "\n",
      "[1447]\n",
      "[....] Tonelli och shanks ... done.\n",
      "[info] Saknar lösning, tar bort från basen.\n",
      "\n",
      "[1451]\n",
      "[....] Tonelli och shanks ... done.\n",
      "[info] r: 829|s: 622\n",
      "[....] Letar efter första ... done.\n",
      "[....] Sollar ... done.\n",
      "[....] Validerar F ... done.\n",
      "[....] Gör hansens lyft ... done.\n",
      "[info] r: 44359|s: 2061042\n",
      "[....] Letar efter första ... done.\n",
      "[info] fanns inget t\n",
      "\n",
      "[1453]\n",
      "[....] Tonelli och shanks ... done.\n",
      "[info] Saknar lösning, tar bort från basen.\n",
      "\n",
      "[1459]\n",
      "[....] Tonelli och shanks ... done.\n",
      "[info] r: 829|s: 630\n",
      "[....] Letar efter första ... done.\n",
      "[....] Sollar ... done.\n",
      "[....] Validerar F ... done.\n",
      "[....] Gör hansens lyft ... done.\n",
      "[info] r: 1456911|s: 671770\n",
      "[....] Letar efter första ... done.\n",
      "[info] fanns inget t\n",
      "\n",
      "[1471]\n",
      "[....] Tonelli och shanks ... done.\n",
      "[info] r: 744|s: 727\n",
      "[....] Letar efter första ... done.\n",
      "[....] Sollar ... done.\n",
      "[....] Validerar F ... done.\n",
      "[....] Gör hansens lyft ... done.\n",
      "[info] r: 1295224|s: 868617\n",
      "[....] Letar efter första ... done.\n",
      "[info] fanns inget t\n",
      "\n",
      "[1481]\n",
      "[....] Tonelli och shanks ... done.\n",
      "[info] r: 415|s: 1066\n",
      "[....] Letar efter första ... done.\n",
      "[....] Sollar ... done.\n",
      "[....] Validerar F ... done.\n",
      "[....] Gör hansens lyft ... done.\n",
      "[info] r: 1290366|s: 902995\n",
      "[....] Letar efter första ... done.\n",
      "[info] fanns inget t\n",
      "\n",
      "[1483]\n",
      "[....] Tonelli och shanks ... done.\n",
      "[info] Saknar lösning, tar bort från basen.\n",
      "\n",
      "[1487]\n",
      "[....] Tonelli och shanks ... done.\n",
      "[info] Saknar lösning, tar bort från basen.\n",
      "\n",
      "[1489]\n",
      "[....] Tonelli och shanks ... done.\n",
      "[info] r: 296|s: 1193\n",
      "[....] Letar efter första ... done.\n",
      "[....] Sollar ... done.\n",
      "[....] Validerar F ... done.\n",
      "[....] Gör hansens lyft ... done.\n",
      "[info] r: 1813898|s: 403223\n",
      "[....] Letar efter första ... done.\n",
      "[info] fanns inget t\n",
      "\n",
      "[1493]\n",
      "[....] Tonelli och shanks ... done.\n",
      "[info] r: 203|s: 1290\n",
      "[....] Letar efter första ... done.\n",
      "[....] Sollar ... done.\n",
      "[....] Validerar F ... done.\n",
      "[....] Gör hansens lyft ... done.\n",
      "[info] r: 148010|s: 2081039\n",
      "[....] Letar efter första ... done.\n",
      "[info] fanns inget t\n",
      "\n",
      "[1499]\n",
      "[....] Tonelli och shanks ... done.\n",
      "[info] Saknar lösning, tar bort från basen.\n",
      "\n",
      "[1511]\n",
      "[....] Tonelli och shanks ... done.\n",
      "[info] Saknar lösning, tar bort från basen.\n",
      "\n",
      "[1523]\n",
      "[....] Tonelli och shanks ... done.\n",
      "[info] Saknar lösning, tar bort från basen.\n",
      "\n",
      "[1531]\n",
      "[....] Tonelli och shanks ... done.\n",
      "[info] r: 1105|s: 426\n",
      "[....] Letar efter första ... done.\n",
      "[....] Sollar ... done.\n",
      "[....] Validerar F ... done.\n",
      "[....] Gör hansens lyft ... done.\n",
      "[info] r: 1893421|s: 450540\n",
      "[....] Letar efter första ... done.\n",
      "[info] fanns inget t\n",
      "\n",
      "[1543]\n",
      "[....] Tonelli och shanks ... done.\n",
      "[info] r: 1199|s: 344\n",
      "[....] Letar efter första ... done.\n",
      "[....] Sollar ... done.\n",
      "[....] Validerar F ... done.\n",
      "[....] Gör hansens lyft ... done.\n",
      "[info] r: 519647|s: 1861202\n",
      "[....] Letar efter första ... done.\n",
      "[info] fanns inget t\n",
      "\n",
      "[1549]\n",
      "[....] Tonelli och shanks ... done.\n",
      "[info] r: 1172|s: 377\n",
      "[....] Letar efter första ... done.\n",
      "[....] Sollar ... done.\n",
      "[....] Validerar F ... done.\n",
      "[....] Gör hansens lyft ... done.\n",
      "[info] r: 1087021|s: 1312380\n",
      "[....] Letar efter första ... done.\n",
      "[info] fanns inget t\n",
      "\n",
      "[1553]\n",
      "[....] Tonelli och shanks ... done.\n",
      "[info] Saknar lösning, tar bort från basen.\n",
      "\n",
      "[1559]\n",
      "[....] Tonelli och shanks ... done.\n",
      "[info] Saknar lösning, tar bort från basen.\n",
      "\n",
      "[1567]\n",
      "[....] Tonelli och shanks ... done.\n",
      "[info] r: 920|s: 647\n",
      "[....] Letar efter första ... done.\n",
      "[....] Sollar ... done.\n",
      "[....] Validerar F ... done.\n",
      "[....] Gör hansens lyft ... done.\n",
      "[info] r: 1914227|s: 541262\n",
      "[....] Letar efter första ... done.\n",
      "[info] fanns inget t\n",
      "\n",
      "[1571]\n",
      "[....] Tonelli och shanks ... done.\n",
      "[info] r: 1015|s: 556\n",
      "[....] Letar efter första ... done.\n",
      "[....] Sollar ... done.\n",
      "[....] Validerar F ... done.\n",
      "[....] Gör hansens lyft ... done.\n",
      "[info] r: 2382651|s: 85390\n",
      "[....] Letar efter första ... done.\n",
      "[info] fanns inget t\n",
      "\n",
      "[1579]\n",
      "[....] Tonelli och shanks ... done.\n",
      "[info] r: 23|s: 1556\n",
      "[....] Letar efter första ... done.\n",
      "[....] Sollar ... done.\n",
      "[....] Validerar F ... done.\n",
      "[....] Gör hansens lyft ... done.\n",
      "[info] r: 674256|s: 1818985\n",
      "[....] Letar efter första ... done.\n",
      "[info] fanns inget t\n",
      "\n",
      "[1583]\n",
      "[....] Tonelli och shanks ... done.\n",
      "[info] Saknar lösning, tar bort från basen.\n",
      "\n",
      "[1597]\n",
      "[....] Tonelli och shanks ... done.\n",
      "[info] Saknar lösning, tar bort från basen.\n",
      "\n",
      "[1601]\n",
      "[....] Tonelli och shanks ... done.\n",
      "[info] r: 339|s: 1262\n",
      "[....] Letar efter första ... done.\n",
      "[....] Sollar ... done.\n",
      "[....] Validerar F ... done.\n",
      "[....] Gör hansens lyft ... done.\n",
      "[info] r: 1169069|s: 1394132\n",
      "[....] Letar efter första ... done.\n",
      "[info] fanns inget t\n",
      "\n",
      "[1607]\n",
      "[....] Tonelli och shanks ... done.\n",
      "[info] Saknar lösning, tar bort från basen.\n",
      "\n",
      "[1609]\n",
      "[....] Tonelli och shanks ... done.\n",
      "[info] r: 807|s: 802\n",
      "[....] Letar efter första ... done.\n",
      "[....] Sollar ... done.\n",
      "[....] Validerar F ... done.\n",
      "[....] Gör hansens lyft ... done.\n",
      "[info] r: 541431|s: 2047450\n",
      "[....] Letar efter första ... done.\n",
      "[info] fanns inget t\n",
      "\n",
      "[1613]\n",
      "[....] Tonelli och shanks ... done.\n",
      "[info] Saknar lösning, tar bort från basen.\n",
      "\n",
      "[1619]\n",
      "[....] Tonelli och shanks ... done.\n",
      "[info] Saknar lösning, tar bort från basen.\n",
      "\n",
      "[1621]\n",
      "[....] Tonelli och shanks ... done.\n",
      "[info] r: 648|s: 973\n",
      "[....] Letar efter första ... done.\n",
      "[....] Sollar ... done.\n",
      "[....] Validerar F ... done.\n",
      "[....] Gör hansens lyft ... done.\n",
      "[info] r: 1564913|s: 1062728\n",
      "[....] Letar efter första ... done.\n",
      "[info] fanns inget t\n",
      "\n",
      "[1627]\n",
      "[....] Tonelli och shanks ... done.\n",
      "[info] Saknar lösning, tar bort från basen.\n",
      "\n",
      "[1637]\n",
      "[....] Tonelli och shanks ... done.\n",
      "[info] Saknar lösning, tar bort från basen.\n",
      "\n",
      "[1657]\n",
      "[....] Tonelli och shanks ... done.\n",
      "[info] Saknar lösning, tar bort från basen.\n",
      "\n",
      "[1663]\n",
      "[....] Tonelli och shanks ... done.\n",
      "[info] Saknar lösning, tar bort från basen.\n",
      "\n",
      "[1667]\n",
      "[....] Tonelli och shanks ... done.\n",
      "[info] r: 1310|s: 357\n",
      "[....] Letar efter första ... done.\n",
      "[....] Sollar ... done.\n",
      "[....] Validerar F ... done.\n",
      "[....] Gör hansens lyft ... done.\n",
      "[info] r: 1591628|s: 1187261\n",
      "[....] Letar efter första ... done.\n",
      "[info] fanns inget t\n",
      "\n",
      "[1669]\n",
      "[....] Tonelli och shanks ... done.\n",
      "[info] r: 290|s: 1379\n",
      "[....] Letar efter första ... done.\n",
      "[....] Sollar ... done.\n",
      "[....] Validerar F ... done.\n",
      "[....] Gör hansens lyft ... done.\n",
      "[info] r: 1939668|s: 845893\n",
      "[....] Letar efter första ... done.\n",
      "[info] fanns inget t\n",
      "\n",
      "[1693]\n",
      "[....] Tonelli och shanks ... done.\n",
      "[info] r: 977|s: 716\n",
      "[....] Letar efter första ... done.\n",
      "[....] Sollar ... done.\n",
      "[....] Validerar F ... done.\n",
      "[....] Gör hansens lyft ... done.\n",
      "[info] r: 339577|s: 2526672\n",
      "[....] Letar efter första ... done.\n",
      "[info] fanns inget t\n",
      "\n",
      "[1697]\n",
      "[....] Tonelli och shanks ... done.\n",
      "[info] r: 485|s: 1212\n",
      "[....] Letar efter första ... done.\n",
      "[....] Sollar ... done.\n",
      "[....] Validerar F ... done.\n",
      "[....] Gör hansens lyft ... done.\n",
      "[info] r: 921956|s: 1957853\n",
      "[....] Letar efter första ... done.\n",
      "[info] fanns inget t\n",
      "\n",
      "[1699]\n",
      "[....] Tonelli och shanks ... done.\n",
      "[info] Saknar lösning, tar bort från basen.\n",
      "\n",
      "[1709]\n",
      "[....] Tonelli och shanks ... done.\n",
      "[info] r: 1142|s: 567\n",
      "[....] Letar efter första ... done.\n",
      "[....] Sollar ... done.\n",
      "[....] Validerar F ... done.\n",
      "[....] Gör hansens lyft ... done.\n",
      "[info] r: 1235040|s: 1685641\n",
      "[....] Letar efter första ... done.\n",
      "[info] fanns inget t\n",
      "\n",
      "[1721]\n",
      "[....] Tonelli och shanks ... done.\n",
      "[info] r: 653|s: 1068\n",
      "[....] Letar efter första ... done.\n",
      "[....] Sollar ... done.\n",
      "[....] Validerar F ... done.\n",
      "[....] Gör hansens lyft ... done.\n",
      "[info] r: 2897096|s: 64745\n",
      "[....] Letar efter första ... done.\n",
      "[info] fanns inget t\n",
      "\n",
      "[1723]\n",
      "[....] Tonelli och shanks ... done.\n",
      "[info] Saknar lösning, tar bort från basen.\n",
      "\n",
      "[1733]\n",
      "[....] Tonelli och shanks ... done.\n",
      "[info] r: 1451|s: 282\n",
      "[....] Letar efter första ... done.\n",
      "[....] Sollar ... done.\n",
      "[....] Validerar F ... done.\n",
      "[....] Gör hansens lyft ... done.\n",
      "[info] r: 2677203|s: 326086\n",
      "[....] Letar efter första ... done.\n",
      "[info] fanns inget t\n",
      "\n",
      "[1741]\n",
      "[....] Tonelli och shanks ... done.\n",
      "[info] r: 1399|s: 342\n",
      "[....] Letar efter första ... done.\n",
      "[....] Sollar ... done.\n",
      "[....] Validerar F ... done.\n",
      "[....] Gör hansens lyft ... done.\n",
      "[info] r: 706504|s: 2324577\n",
      "[....] Letar efter första ... done.\n",
      "[info] fanns inget t\n",
      "\n",
      "[1747]\n",
      "[....] Tonelli och shanks ... done.\n",
      "[info] r: 981|s: 766\n",
      "[....] Letar efter första ... done.\n",
      "[....] Sollar ... done.\n",
      "[....] Validerar F ... done.\n",
      "[....] Gör hansens lyft ... done.\n",
      "[info] r: 2120092|s: 931917\n",
      "[....] Letar efter första ... done.\n",
      "[info] fanns inget t\n",
      "\n",
      "[1753]\n",
      "[....] Tonelli och shanks ... done.\n",
      "[info] Saknar lösning, tar bort från basen.\n",
      "\n",
      "[1759]\n",
      "[....] Tonelli och shanks ... done.\n",
      "[info] Saknar lösning, tar bort från basen.\n",
      "\n",
      "[1777]\n",
      "[....] Tonelli och shanks ... done.\n",
      "[info] Saknar lösning, tar bort från basen.\n",
      "\n",
      "[1783]\n",
      "[....] Tonelli och shanks ... done.\n",
      "[info] Saknar lösning, tar bort från basen.\n",
      "\n",
      "[1787]\n",
      "[....] Tonelli och shanks ... done.\n",
      "[info] r: 1239|s: 548\n",
      "[....] Letar efter första ... done.\n",
      "[....] Sollar ... done.\n",
      "[....] Validerar F ... done.\n",
      "[....] Gör hansens lyft ... done.\n",
      "[info] r: 1500532|s: 1692837\n",
      "[....] Letar efter första ... done.\n",
      "[info] fanns inget t\n",
      "\n",
      "[1789]\n",
      "[....] Tonelli och shanks ... done.\n",
      "[info] r: 674|s: 1115\n",
      "[....] Letar efter första ... done.\n",
      "[....] Sollar ... done.\n",
      "[....] Validerar F ... done.\n",
      "[....] Gör hansens lyft ... done.\n",
      "[info] r: 1668022|s: 1532499\n",
      "[....] Letar efter första ... done.\n",
      "[info] fanns inget t\n",
      "\n",
      "[1801]\n",
      "[....] Tonelli och shanks ... done.\n",
      "[info] r: 761|s: 1040\n",
      "[....] Letar efter första ... done.\n",
      "[....] Sollar ... done.\n",
      "[....] Validerar F ... done.\n",
      "[....] Gör hansens lyft ... done.\n",
      "[info] r: 2010677|s: 1232924\n",
      "[....] Letar efter första ... done.\n",
      "[info] fanns inget t\n",
      "\n",
      "[1811]\n",
      "[....] Tonelli och shanks ... done.\n",
      "[info] Saknar lösning, tar bort från basen.\n",
      "\n",
      "[1823]\n",
      "[....] Tonelli och shanks ... done.\n",
      "[info] Saknar lösning, tar bort från basen.\n",
      "\n",
      "[1831]\n",
      "[....] Tonelli och shanks ... done.\n",
      "[info] r: 1580|s: 251\n",
      "[....] Letar efter första ... done.\n",
      "[....] Sollar ... done.\n",
      "[....] Validerar F ... done.\n",
      "[....] Gör hansens lyft ... done.\n",
      "[info] r: 2416669|s: 935892\n",
      "[....] Letar efter första ... done.\n",
      "[info] fanns inget t\n",
      "\n",
      "[1847]\n",
      "[....] Tonelli och shanks ... done.\n",
      "[info] Saknar lösning, tar bort från basen.\n",
      "\n",
      "[1861]\n",
      "[....] Tonelli och shanks ... done.\n",
      "[info] Saknar lösning, tar bort från basen.\n",
      "\n",
      "[1867]\n",
      "[....] Tonelli och shanks ... done.\n",
      "[info] r: 936|s: 931\n",
      "[....] Letar efter första ... done.\n",
      "[....] Sollar ... done.\n",
      "[....] Validerar F ... done.\n",
      "[....] Gör hansens lyft ... done.\n",
      "[info] r: 2248804|s: 1236885\n",
      "[....] Letar efter första ... done.\n",
      "[info] fanns inget t\n",
      "\n",
      "[1871]\n",
      "[....] Tonelli och shanks ... done.\n",
      "[info] Saknar lösning, tar bort från basen.\n",
      "\n",
      "[1873]\n",
      "[....] Tonelli och shanks ... done.\n",
      "[info] Saknar lösning, tar bort från basen.\n",
      "\n",
      "[1877]\n",
      "[....] Tonelli och shanks ... done.\n",
      "[info] Saknar lösning, tar bort från basen.\n",
      "\n",
      "[1879]\n",
      "[....] Tonelli och shanks ... done.\n",
      "[info] Saknar lösning, tar bort från basen.\n",
      "\n",
      "[1889]\n",
      "[....] Tonelli och shanks ... done.\n",
      "[info] Saknar lösning, tar bort från basen.\n",
      "\n"
     ]
    }
   ],
   "source": [
    "F_temp = F.copy()\n",
    "\n",
    "error = 0\n",
    "# === hantera p = 2 ====\n",
    "p = 2\n",
    "\n",
    "k = 1\n",
    "while n % p**k == 1:\n",
    "    if T[0] % 2 == 1:\n",
    "        alpha = 0\n",
    "    else:\n",
    "        alpha = 1\n",
    "\n",
    "    for i in range(alpha, len(F), 2):\n",
    "        F[i] = F[i] / p\n",
    "    \n",
    "    k += 1\n",
    "\n",
    "# === hantera resten ===\n",
    "for p in base[1:]:\n",
    "    print(f\"[{p}]\")\n",
    "    k = 1\n",
    "    \n",
    "    while True:\n",
    "        if k == 1:\n",
    "            print(\"[....] Tonelli och shanks ... \", end=\"\")\n",
    "            r, s = tonelli_and_shanks(n, p)\n",
    "            print(\"done.\")\n",
    "            if r is None:\n",
    "                print(\"[info] Saknar lösning, tar bort från basen.\\n\")\n",
    "                base.remove(p)\n",
    "                break\n",
    "            \n",
    "        else:\n",
    "            print(\"[....] Gör hansens lyft ... \", end=\"\")\n",
    "            r, s = hansens_lyft(p, n, k, r)\n",
    "            print(\"done.\")\n",
    "        \n",
    "        print(f\"[info] r: {r}|s: {s}\")\n",
    "        done = solla_bort(T, F, r, s, p, k)\n",
    "\n",
    "        if done:\n",
    "            break\n",
    "\n",
    "        # validera F\n",
    "        print(\"[....] Validerar F ... \", end=\"\")\n",
    "        for f in F:\n",
    "            if floor(f) != f:\n",
    "                print()\n",
    "                print(f\"[error]\\nValue:\\n\\t{f}\\nIndex:\\n\\t{F.index(f)}\")\n",
    "                error = -1\n",
    "\n",
    "        if error == -1:\n",
    "            break\n",
    "        \n",
    "        print(\"done.\")\n",
    "        k += 1\n",
    "        \n",
    "    if error == -1:\n",
    "            print(f\"[info] avslutar pga error ... \")\n",
    "            break\n",
    "\n"
   ]
  },
  {
   "cell_type": "code",
   "execution_count": 21,
   "metadata": {},
   "outputs": [],
   "source": [
    "F_temp_backup = F_temp.copy()\n",
    "F_backup = F.copy()"
   ]
  },
  {
   "cell_type": "code",
   "execution_count": 94,
   "metadata": {},
   "outputs": [],
   "source": [
    "F = F_backup\n",
    "F_temp = F_temp_backup"
   ]
  },
  {
   "cell_type": "code",
   "execution_count": 31,
   "metadata": {},
   "outputs": [
    {
     "name": "stdout",
     "output_type": "stream",
     "text": [
      "C size: 858\n",
      "A size: 858\n"
     ]
    }
   ],
   "source": [
    "A = []\n",
    "C = []\n",
    "\n",
    "for i in range(len(F)):\n",
    "    if F[i] == 1:\n",
    "        C += [F_temp[i]]\n",
    "        A += [T[i]]\n",
    "\n",
    "print(f\"C size: {len(C)}\")\n",
    "print(f\"A size: {len(A)}\")"
   ]
  },
  {
   "cell_type": "markdown",
   "metadata": {
    "collapsed": false,
    "jupyter": {
     "outputs_hidden": false
    }
   },
   "source": [
    "### Deluppgift f"
   ]
  },
  {
   "cell_type": "code",
   "execution_count": 32,
   "metadata": {
    "collapsed": false,
    "jupyter": {
     "outputs_hidden": false
    },
    "scrolled": true
   },
   "outputs": [
    {
     "name": "stdout",
     "output_type": "stream",
     "text": [
      "[....] Searching for c_i * c_j * c_k ...\n",
      "[info] Found 413985740 * 176883219375 * 761680129188 at (3, 232, 657)\n",
      "[info] Found 8166035460 * 111061437564 * 313224104655 at (20, 166, 360)\n",
      "[info] Found 14592880463 * 160795507908 * 395612969964 at (33, 218, 417)\n",
      "[info] Found 14592880463 * 769626504815 * 1057536042255 at (33, 662, 841)\n",
      "[info] Found 16793542575 * 283488322095 * 510708235620 at (37, 335, 500)\n",
      "[info] Found 18369026100 * 334851901263 * 1042155814020 at (39, 375, 832)\n",
      "[info] Found 20119572660 * 157493000700 * 538962616500 at (42, 214, 514)\n",
      "[info] Found 21970161108 * 975801130155 * 1011548134380 at (46, 798, 813)\n",
      "[info] Found 24220891548 * 556272186539 * 609409262300 at (51, 525, 561)\n",
      "[info] Found 26221554428 * 514014467868 * 669321393323 at (54, 503, 595)\n",
      "[info] Found 26621688540 * 61085159868 * 392658512868 at (56, 107, 415)\n",
      "[info] Found 28872452460 * 106333609935 * 202079788308 at (61, 162, 263)\n",
      "[info] Found 30172901220 * 190269426020 * 681726211628 at (66, 249, 603)\n",
      "[info] Found 34924586900 * 416094633108 * 608181571563 at (74, 437, 560)\n",
      "[info] Found 61735450548 * 80369354043 * 125595577275 at (109, 137, 181)\n",
      "[info] Found 62760911675 * 160445240340 * 652306288188 at (110, 217, 583)\n",
      "[info] Found 71690068940 * 358959642300 * 447070056939 at (124, 390, 459)\n",
      "[info] Found 73065732075 * 283238032875 * 669321393323 at (126, 334, 595)\n",
      "[info] Found 75041695164 * 336128588700 * 1060546941615 at (130, 377, 842)\n",
      "[info] Found 78593457668 * 418398277964 * 735586347195 at (136, 438, 642)\n",
      "[info] Found 80369354043 * 103456924380 * 247899202875 at (137, 159, 309)\n",
      "[info] Found 112712441820 * 705584936700 * 801388946820 at (168, 617, 688)\n",
      "[info] Found 125070235164 * 571753913423 * 642934591700 at (180, 538, 580)\n",
      "[info] Found 150262633103 * 264642103308 * 942917473164 at (210, 321, 777)\n",
      "[info] Found 172729858539 * 674208081428 * 687089254500 at (229, 599, 606)\n",
      "[info] Found 175807343508 * 401722274660 * 904695483060 at (231, 424, 755)\n",
      "[info] Found 193797474863 * 291272416668 * 828942394539 at (254, 345, 707)\n",
      "[info] Found 197350585515 * 849101314875 * 954605701940 at (255, 719, 790)\n",
      "[info] Found 230706752388 * 700722822564 * 1019751704043 at (288, 613, 819)\n",
      "[info] Found 263641007868 * 314475672555 * 382893979908 at (320, 361, 405)\n",
      "[info] Found 290997091695 * 301134216180 * 815629189620 at (344, 350, 697)\n",
      "[info] Found 295327230660 * 402598619115 * 725635687100 at (348, 425, 635)\n",
      "[info] Found 314475672555 * 320933842383 * 1039897768740 at (361, 363, 829)\n",
      "[info] Found 335728058748 * 641606539695 * 727390188660 at (376, 578, 636)\n",
      "[info] Found 338006079675 * 653634385455 * 842331384015 at (378, 585, 715)\n",
      "[info] Found 365268516228 * 391056107108 * 483858912900 at (395, 411, 482)\n",
      "[info] Found 368998822863 * 467204471355 * 952900096428 at (398, 471, 789)\n",
      "[info] Found 455985135675 * 642032518028 * 652306288188 at (463, 579, 583)\n",
      "[info] Found 501015164655 * 582476333775 * 799308120303 at (496, 544, 686)\n",
      "[info] Found 582476333775 * 659347773615 * 909009018428 at (544, 591, 759)\n",
      "[info] done.\n"
     ]
    }
   ],
   "source": [
    "B_squard = []\n",
    "\n",
    "print(\"[....] Searching for c_i * c_j * c_k ...\")\n",
    "\n",
    "for i in range(len(C)):\n",
    "    for j in range(i + 1, len(C)):\n",
    "        for k in range(j + 1, len(C)):                \n",
    "            if is_square(C[i] * C[j] * C[k] % n):\n",
    "                B_squard += [(i, j, k)]\n",
    "                print(f\"[info] Found {C[i]} * {C[j]} * {C[k]} at ({i}, {j}, {k})\")\n",
    "\n",
    "print(\"[info] done.\")"
   ]
  },
  {
   "cell_type": "markdown",
   "metadata": {
    "collapsed": false,
    "jupyter": {
     "outputs_hidden": false
    }
   },
   "source": [
    "### Deluppgift g"
   ]
  },
  {
   "cell_type": "code",
   "execution_count": 34,
   "metadata": {
    "collapsed": false,
    "jupyter": {
     "outputs_hidden": false
    }
   },
   "outputs": [],
   "source": [
    "ab = []\n",
    "\n",
    "for (i, j , k) in B_squard:\n",
    "    a = A[i] * A[j] * A[k] % n\n",
    "    b = sqrt((C[i] * C[j] * C[k]) % n)\n",
    "    ab += [(a, b)]"
   ]
  },
  {
   "cell_type": "markdown",
   "metadata": {
    "collapsed": false,
    "jupyter": {
     "outputs_hidden": false
    }
   },
   "source": [
    "### Deluppgift h"
   ]
  },
  {
   "cell_type": "code",
   "execution_count": 35,
   "metadata": {
    "collapsed": false,
    "jupyter": {
     "outputs_hidden": false
    }
   },
   "outputs": [
    {
     "name": "stdout",
     "output_type": "stream",
     "text": [
      "15279769 * 57321044938746 = 156328370943061\n",
      "10231069 * 49928025962760 = 156328370943061\n"
     ]
    }
   ],
   "source": [
    "G = []\n",
    "\n",
    "for a, b in ab:\n",
    "    g = gcd(a - b, n)\n",
    "    if g != 1 and g != n and g not in G:\n",
    "        G += [g]\n",
    "\n",
    "G"
   ]
  },
  {
   "cell_type": "markdown",
   "metadata": {
    "collapsed": false,
    "jupyter": {
     "outputs_hidden": false
    }
   },
   "source": [
    "## Uppgift 4"
   ]
  },
  {
   "cell_type": "code",
   "execution_count": 79,
   "metadata": {
    "collapsed": false,
    "jupyter": {
     "outputs_hidden": false
    }
   },
   "outputs": [],
   "source": [
    "pretty_print_default(True)\n",
    "implicit_multiplication(True)\n",
    "\n",
    "R.<x> = GF(2)[]\n",
    "F.<x> = GF(2^8, name = 'x', modulus = x^8 + x^4 + x^3 + x + 1)"
   ]
  },
  {
   "cell_type": "markdown",
   "metadata": {
    "collapsed": false,
    "jupyter": {
     "outputs_hidden": false
    }
   },
   "source": [
    "Kod att testa (radera eller kommentera bort innan inlämning):"
   ]
  },
  {
   "cell_type": "code",
   "execution_count": 80,
   "metadata": {
    "collapsed": false,
    "jupyter": {
     "outputs_hidden": false
    }
   },
   "outputs": [
    {
     "name": "stdout",
     "output_type": "stream",
     "text": [
      "75\n",
      "[1, 1, 0, 1, 0, 0, 1, 0]\n",
      "x^6 + x^3 + x + 1\n",
      "[1, 1, 0, 1, 0, 0, 1]\n",
      "75\n",
      "K\n"
     ]
    }
   ],
   "source": [
    "m = ord('K')\n",
    "print(m)\n",
    "b = ZZ(m).digits(base = 2, padto = 8)  # prova utan padto\n",
    "print(b)\n",
    "f = F(b)\n",
    "print(f)\n",
    "c = R(f).coefficients(sparse = False)\n",
    "print(c)\n",
    "n = ZZ(c, base = 2)\n",
    "print(n)\n",
    "t = chr(n)\n",
    "print(t)"
   ]
  },
  {
   "cell_type": "markdown",
   "metadata": {
    "collapsed": false,
    "jupyter": {
     "outputs_hidden": false
    }
   },
   "source": [
    "### Deluppgift a"
   ]
  },
  {
   "cell_type": "code",
   "execution_count": 81,
   "metadata": {
    "collapsed": false,
    "jupyter": {
     "outputs_hidden": false
    }
   },
   "outputs": [
    {
     "ename": "KeyboardInterrupt",
     "evalue": "",
     "output_type": "error",
     "traceback": [
      "\u001b[0;31m---------------------------------------------------------------------------\u001b[0m",
      "\u001b[0;31mKeyError\u001b[0m                                  Traceback (most recent call last)",
      "File \u001b[0;32m/usr/lib/python3.12/site-packages/sage/misc/cachefunc.pyx:1010\u001b[0m, in \u001b[0;36msage.misc.cachefunc.CachedFunction.__call__ (build/cythonized/sage/misc/cachefunc.c:8370)\u001b[0;34m()\u001b[0m\n\u001b[1;32m   1009\u001b[0m try:\n\u001b[0;32m-> 1010\u001b[0m     return self.cache[k]\n\u001b[1;32m   1011\u001b[0m except TypeError:  # k is not hashable\n",
      "\u001b[0;31mKeyError\u001b[0m: ((), ())",
      "\nDuring handling of the above exception, another exception occurred:\n",
      "\u001b[0;31mKeyboardInterrupt\u001b[0m                         Traceback (most recent call last)",
      "Cell \u001b[0;32mIn[81], line 2\u001b[0m\n\u001b[1;32m      1\u001b[0m g \u001b[38;5;241m=\u001b[39m x\u001b[38;5;241m*\u001b[39m\u001b[38;5;241m*\u001b[39mInteger(\u001b[38;5;241m8\u001b[39m)\n\u001b[0;32m----> 2\u001b[0m \u001b[43mpretty_print\u001b[49m\u001b[43m(\u001b[49m\u001b[43mg\u001b[49m\u001b[43m)\u001b[49m\n\u001b[1;32m      3\u001b[0m g \u001b[38;5;241m=\u001b[39m x\u001b[38;5;241m*\u001b[39m\u001b[38;5;241m*\u001b[39mInteger(\u001b[38;5;241m9\u001b[39m)\n\u001b[1;32m      4\u001b[0m pretty_print(g)\n",
      "File \u001b[0;32m/usr/lib/python3.12/site-packages/sage/repl/rich_output/pretty_print.py:311\u001b[0m, in \u001b[0;36mpretty_print\u001b[0;34m(*args, **kwds)\u001b[0m\n\u001b[1;32m    309\u001b[0m     \u001b[38;5;28;01mpass\u001b[39;00m\n\u001b[1;32m    310\u001b[0m \u001b[38;5;28;01melif\u001b[39;00m \u001b[38;5;28mlen\u001b[39m(args) \u001b[38;5;241m==\u001b[39m \u001b[38;5;241m1\u001b[39m:\n\u001b[0;32m--> 311\u001b[0m     \u001b[43mdm\u001b[49m\u001b[38;5;241;43m.\u001b[39;49m\u001b[43mdisplay_immediately\u001b[49m\u001b[43m(\u001b[49m\u001b[38;5;241;43m*\u001b[39;49m\u001b[43margs\u001b[49m\u001b[43m,\u001b[49m\u001b[43m \u001b[49m\u001b[38;5;241;43m*\u001b[39;49m\u001b[38;5;241;43m*\u001b[39;49m\u001b[43mkwds\u001b[49m\u001b[43m)\u001b[49m\n\u001b[1;32m    312\u001b[0m \u001b[38;5;28;01melse\u001b[39;00m:\n\u001b[1;32m    313\u001b[0m     SequencePrettyPrinter(\u001b[38;5;241m*\u001b[39margs, \u001b[38;5;241m*\u001b[39m\u001b[38;5;241m*\u001b[39mkwds)\u001b[38;5;241m.\u001b[39mpretty_print()\n",
      "File \u001b[0;32m/usr/lib/python3.12/site-packages/sage/repl/rich_output/display_manager.py:842\u001b[0m, in \u001b[0;36mDisplayManager.display_immediately\u001b[0;34m(self, obj, **rich_repr_kwds)\u001b[0m\n\u001b[1;32m    819\u001b[0m \u001b[38;5;28;01mdef\u001b[39;00m \u001b[38;5;21mdisplay_immediately\u001b[39m(\u001b[38;5;28mself\u001b[39m, obj, \u001b[38;5;241m*\u001b[39m\u001b[38;5;241m*\u001b[39mrich_repr_kwds):\n\u001b[1;32m    820\u001b[0m \u001b[38;5;250m    \u001b[39m\u001b[38;5;124;03m\"\"\"\u001b[39;00m\n\u001b[1;32m    821\u001b[0m \u001b[38;5;124;03m    Show output without going back to the command line prompt.\u001b[39;00m\n\u001b[1;32m    822\u001b[0m \n\u001b[0;32m   (...)\u001b[0m\n\u001b[1;32m    840\u001b[0m \u001b[38;5;124;03m        1/2\u001b[39;00m\n\u001b[1;32m    841\u001b[0m \u001b[38;5;124;03m    \"\"\"\u001b[39;00m\n\u001b[0;32m--> 842\u001b[0m     plain_text, rich_output \u001b[38;5;241m=\u001b[39m \u001b[38;5;28;43mself\u001b[39;49m\u001b[38;5;241;43m.\u001b[39;49m\u001b[43m_rich_output_formatter\u001b[49m\u001b[43m(\u001b[49m\u001b[43mobj\u001b[49m\u001b[43m,\u001b[49m\u001b[43m \u001b[49m\u001b[43mrich_repr_kwds\u001b[49m\u001b[43m)\u001b[49m\n\u001b[1;32m    843\u001b[0m     \u001b[38;5;28mself\u001b[39m\u001b[38;5;241m.\u001b[39m_backend\u001b[38;5;241m.\u001b[39mdisplay_immediately(plain_text, rich_output)\n",
      "File \u001b[0;32m/usr/lib/python3.12/site-packages/sage/repl/rich_output/display_manager.py:640\u001b[0m, in \u001b[0;36mDisplayManager._rich_output_formatter\u001b[0;34m(self, obj, rich_repr_kwds)\u001b[0m\n\u001b[1;32m    638\u001b[0m     plain_text \u001b[38;5;241m=\u001b[39m \u001b[38;5;28mself\u001b[39m\u001b[38;5;241m.\u001b[39m_backend\u001b[38;5;241m.\u001b[39mplain_text_formatter(obj, \u001b[38;5;241m*\u001b[39m\u001b[38;5;241m*\u001b[39mrich_repr_kwds)\n\u001b[1;32m    639\u001b[0m \u001b[38;5;28;01mif\u001b[39;00m rich_output \u001b[38;5;129;01mis\u001b[39;00m \u001b[38;5;28;01mNone\u001b[39;00m:\n\u001b[0;32m--> 640\u001b[0m     rich_output \u001b[38;5;241m=\u001b[39m \u001b[38;5;28;43mself\u001b[39;49m\u001b[38;5;241;43m.\u001b[39;49m\u001b[43m_preferred_text_formatter\u001b[49m\u001b[43m(\u001b[49m\n\u001b[1;32m    641\u001b[0m \u001b[43m        \u001b[49m\u001b[43mobj\u001b[49m\u001b[43m,\u001b[49m\u001b[43m \u001b[49m\u001b[43mplain_text\u001b[49m\u001b[38;5;241;43m=\u001b[39;49m\u001b[43mplain_text\u001b[49m\u001b[43m,\u001b[49m\u001b[43m \u001b[49m\u001b[38;5;241;43m*\u001b[39;49m\u001b[38;5;241;43m*\u001b[39;49m\u001b[43mrich_repr_kwds\u001b[49m\u001b[43m)\u001b[49m\n\u001b[1;32m    642\u001b[0m \u001b[38;5;66;03m# promote output container types to backend-specific containers\u001b[39;00m\n\u001b[1;32m    643\u001b[0m plain_text \u001b[38;5;241m=\u001b[39m \u001b[38;5;28mself\u001b[39m\u001b[38;5;241m.\u001b[39m_promote_output(plain_text)\n",
      "File \u001b[0;32m/usr/lib/python3.12/site-packages/sage/repl/rich_output/display_manager.py:543\u001b[0m, in \u001b[0;36mDisplayManager._preferred_text_formatter\u001b[0;34m(self, obj, plain_text, **kwds)\u001b[0m\n\u001b[1;32m    541\u001b[0m     \u001b[38;5;28;01mreturn\u001b[39;00m out\n\u001b[1;32m    542\u001b[0m \u001b[38;5;28;01mif\u001b[39;00m want \u001b[38;5;241m==\u001b[39m \u001b[38;5;124m'\u001b[39m\u001b[38;5;124mlatex\u001b[39m\u001b[38;5;124m'\u001b[39m \u001b[38;5;129;01mand\u001b[39;00m OutputHtml \u001b[38;5;129;01min\u001b[39;00m supported:\n\u001b[0;32m--> 543\u001b[0m     out \u001b[38;5;241m=\u001b[39m \u001b[38;5;28;43mself\u001b[39;49m\u001b[38;5;241;43m.\u001b[39;49m\u001b[43m_backend\u001b[49m\u001b[38;5;241;43m.\u001b[39;49m\u001b[43mlatex_formatter\u001b[49m\u001b[43m(\u001b[49m\u001b[43mobj\u001b[49m\u001b[43m,\u001b[49m\u001b[43m \u001b[49m\u001b[38;5;241;43m*\u001b[39;49m\u001b[38;5;241;43m*\u001b[39;49m\u001b[43mkwds\u001b[49m\u001b[43m)\u001b[49m\n\u001b[1;32m    544\u001b[0m     \u001b[38;5;28;01mif\u001b[39;00m \u001b[38;5;28mtype\u001b[39m(out) \u001b[38;5;129;01mis\u001b[39;00m \u001b[38;5;129;01mnot\u001b[39;00m OutputHtml:\n\u001b[1;32m    545\u001b[0m         \u001b[38;5;28;01mraise\u001b[39;00m OutputTypeException(\u001b[38;5;124m'\u001b[39m\u001b[38;5;124mbackend returned wrong output type, require Html\u001b[39m\u001b[38;5;124m'\u001b[39m)\n",
      "File \u001b[0;32m/usr/lib/python3.12/site-packages/sage/repl/rich_output/backend_base.py:480\u001b[0m, in \u001b[0;36mBackendBase.latex_formatter\u001b[0;34m(self, obj, **kwds)\u001b[0m\n\u001b[1;32m    478\u001b[0m \u001b[38;5;28;01mfrom\u001b[39;00m \u001b[38;5;21;01msage\u001b[39;00m\u001b[38;5;21;01m.\u001b[39;00m\u001b[38;5;21;01mmisc\u001b[39;00m\u001b[38;5;21;01m.\u001b[39;00m\u001b[38;5;21;01mhtml\u001b[39;00m \u001b[38;5;28;01mimport\u001b[39;00m html\n\u001b[1;32m    479\u001b[0m \u001b[38;5;28;01mfrom\u001b[39;00m \u001b[38;5;21;01msage\u001b[39;00m\u001b[38;5;21;01m.\u001b[39;00m\u001b[38;5;21;01mrepl\u001b[39;00m\u001b[38;5;21;01m.\u001b[39;00m\u001b[38;5;21;01mrich_output\u001b[39;00m\u001b[38;5;21;01m.\u001b[39;00m\u001b[38;5;21;01moutput_browser\u001b[39;00m \u001b[38;5;28;01mimport\u001b[39;00m OutputHtml\n\u001b[0;32m--> 480\u001b[0m \u001b[38;5;28;01mreturn\u001b[39;00m OutputHtml(\u001b[43mhtml\u001b[49m\u001b[43m(\u001b[49m\u001b[43mobj\u001b[49m\u001b[43m,\u001b[49m\u001b[43m \u001b[49m\u001b[43mconcatenate\u001b[49m\u001b[38;5;241;43m=\u001b[39;49m\u001b[43mconcatenate\u001b[49m\u001b[43m,\u001b[49m\u001b[43m \u001b[49m\u001b[43mstrict\u001b[49m\u001b[38;5;241;43m=\u001b[39;49m\u001b[38;5;28;43;01mTrue\u001b[39;49;00m\u001b[43m)\u001b[49m)\n",
      "File \u001b[0;32m/usr/lib/python3.12/site-packages/sage/misc/html.py:481\u001b[0m, in \u001b[0;36mHTMLFragmentFactory.__call__\u001b[0;34m(self, obj, concatenate, strict)\u001b[0m\n\u001b[1;32m    479\u001b[0m     result \u001b[38;5;241m=\u001b[39m MathJax()\u001b[38;5;241m.\u001b[39meval(obj, mode\u001b[38;5;241m=\u001b[39mmode, combine_all\u001b[38;5;241m=\u001b[39m\u001b[38;5;28;01mTrue\u001b[39;00m)\n\u001b[1;32m    480\u001b[0m \u001b[38;5;28;01melse\u001b[39;00m:\n\u001b[0;32m--> 481\u001b[0m     result \u001b[38;5;241m=\u001b[39m \u001b[43mMathJax\u001b[49m\u001b[43m(\u001b[49m\u001b[43m)\u001b[49m\u001b[38;5;241;43m.\u001b[39;49m\u001b[43meval\u001b[49m\u001b[43m(\u001b[49m\u001b[43mobj\u001b[49m\u001b[43m,\u001b[49m\u001b[43m \u001b[49m\u001b[43mmode\u001b[49m\u001b[38;5;241;43m=\u001b[39;49m\u001b[43mmode\u001b[49m\u001b[43m,\u001b[49m\u001b[43m \u001b[49m\u001b[43mcombine_all\u001b[49m\u001b[38;5;241;43m=\u001b[39;49m\u001b[38;5;28;43;01mFalse\u001b[39;49;00m\u001b[43m)\u001b[49m\n\u001b[1;32m    482\u001b[0m \u001b[38;5;28;01mreturn\u001b[39;00m HtmlFragment(result)\n",
      "File \u001b[0;32m/usr/lib/python3.12/site-packages/sage/misc/html.py:358\u001b[0m, in \u001b[0;36mMathJax.eval\u001b[0;34m(self, x, globals, locals, mode, combine_all)\u001b[0m\n\u001b[1;32m    355\u001b[0m \u001b[38;5;28;01mfrom\u001b[39;00m \u001b[38;5;21;01msage\u001b[39;00m\u001b[38;5;21;01m.\u001b[39;00m\u001b[38;5;21;01mmisc\u001b[39;00m\u001b[38;5;21;01m.\u001b[39;00m\u001b[38;5;21;01mlatex_macros\u001b[39;00m \u001b[38;5;28;01mimport\u001b[39;00m sage_latex_macros\n\u001b[1;32m    356\u001b[0m \u001b[38;5;28;01mfrom\u001b[39;00m \u001b[38;5;21;01msage\u001b[39;00m\u001b[38;5;21;01m.\u001b[39;00m\u001b[38;5;21;01mmisc\u001b[39;00m\u001b[38;5;21;01m.\u001b[39;00m\u001b[38;5;21;01mlatex\u001b[39;00m \u001b[38;5;28;01mimport\u001b[39;00m _Latex_prefs\n\u001b[0;32m--> 358\u001b[0m latex_string \u001b[38;5;241m=\u001b[39m \u001b[38;5;124m'\u001b[39m\u001b[38;5;124m'\u001b[39m\u001b[38;5;241m.\u001b[39mjoin([\u001b[43m_Latex_prefs\u001b[49m\u001b[38;5;241;43m.\u001b[39;49m\u001b[43m_option\u001b[49m[\u001b[38;5;124m'\u001b[39m\u001b[38;5;124mmacros\u001b[39m\u001b[38;5;124m'\u001b[39m]] \u001b[38;5;241m+\u001b[39m parts)\n\u001b[1;32m    360\u001b[0m \u001b[38;5;66;03m# add a macro definition only if it appears in the latex string\u001b[39;00m\n\u001b[1;32m    361\u001b[0m macros_string \u001b[38;5;241m=\u001b[39m \u001b[38;5;124m'\u001b[39m\u001b[38;5;124m'\u001b[39m\n",
      "File \u001b[0;32m/usr/lib/python3.12/site-packages/sage/misc/lazy_attribute.pyx:127\u001b[0m, in \u001b[0;36msage.misc.lazy_attribute._lazy_attribute.__get__ (build/cythonized/sage/misc/lazy_attribute.c:3281)\u001b[0;34m()\u001b[0m\n\u001b[1;32m    125\u001b[0m     except KeyError:\n\u001b[1;32m    126\u001b[0m         pass\n\u001b[0;32m--> 127\u001b[0m result = self.f(a)\n\u001b[1;32m    128\u001b[0m if result is NotImplemented:\n\u001b[1;32m    129\u001b[0m     # Workaround: we make sure that cls is the class\n",
      "File \u001b[0;32m/usr/lib/python3.12/site-packages/sage/misc/latex.py:544\u001b[0m, in \u001b[0;36m_Latex_prefs_object._option\u001b[0;34m(self)\u001b[0m\n\u001b[1;32m    526\u001b[0m \u001b[38;5;129m@lazy_attribute\u001b[39m\n\u001b[1;32m    527\u001b[0m \u001b[38;5;28;01mdef\u001b[39;00m \u001b[38;5;21m_option\u001b[39m(\u001b[38;5;28mself\u001b[39m):\n\u001b[1;32m    528\u001b[0m \u001b[38;5;250m    \u001b[39m\u001b[38;5;124;03m\"\"\"\u001b[39;00m\n\u001b[1;32m    529\u001b[0m \u001b[38;5;124;03m    This attribute contains the preferences list.\u001b[39;00m\n\u001b[1;32m    530\u001b[0m \n\u001b[0;32m   (...)\u001b[0m\n\u001b[1;32m    542\u001b[0m \u001b[38;5;124;03m         'engine_name': 'LuaLaTeX'}\u001b[39;00m\n\u001b[1;32m    543\u001b[0m \u001b[38;5;124;03m    \"\"\"\u001b[39;00m\n\u001b[0;32m--> 544\u001b[0m     \u001b[38;5;28mself\u001b[39m\u001b[38;5;241m.\u001b[39m__option[\u001b[38;5;124m\"\u001b[39m\u001b[38;5;124mengine\u001b[39m\u001b[38;5;124m\"\u001b[39m] \u001b[38;5;241m=\u001b[39m \u001b[43mdefault_engine\u001b[49m\u001b[43m(\u001b[49m\u001b[43m)\u001b[49m[\u001b[38;5;241m0\u001b[39m]\n\u001b[1;32m    545\u001b[0m     \u001b[38;5;28mself\u001b[39m\u001b[38;5;241m.\u001b[39m__option[\u001b[38;5;124m\"\u001b[39m\u001b[38;5;124mengine_name\u001b[39m\u001b[38;5;124m\"\u001b[39m] \u001b[38;5;241m=\u001b[39m default_engine()[\u001b[38;5;241m1\u001b[39m]\n\u001b[1;32m    546\u001b[0m     \u001b[38;5;28;01mreturn\u001b[39;00m \u001b[38;5;28mself\u001b[39m\u001b[38;5;241m.\u001b[39m__option\n",
      "File \u001b[0;32m/usr/lib/python3.12/site-packages/sage/misc/cachefunc.pyx:1015\u001b[0m, in \u001b[0;36msage.misc.cachefunc.CachedFunction.__call__ (build/cythonized/sage/misc/cachefunc.c:8498)\u001b[0;34m()\u001b[0m\n\u001b[1;32m   1013\u001b[0m         return self.cache[k]\n\u001b[1;32m   1014\u001b[0m except KeyError:\n\u001b[0;32m-> 1015\u001b[0m     w = self.f(*args, **kwds)\n\u001b[1;32m   1016\u001b[0m     self.cache[k] = w\n\u001b[1;32m   1017\u001b[0m     return w\n",
      "File \u001b[0;32m/usr/lib/python3.12/site-packages/sage/misc/latex.py:494\u001b[0m, in \u001b[0;36mdefault_engine\u001b[0;34m()\u001b[0m\n\u001b[1;32m    481\u001b[0m \u001b[38;5;250m\u001b[39m\u001b[38;5;124;03m\"\"\"\u001b[39;00m\n\u001b[1;32m    482\u001b[0m \u001b[38;5;124;03mReturn the default latex engine and the official name of the engine.\u001b[39;00m\n\u001b[1;32m    483\u001b[0m \n\u001b[0;32m   (...)\u001b[0m\n\u001b[1;32m    491\u001b[0m \u001b[38;5;124;03m    ('lualatex', 'LuaLaTeX')\u001b[39;00m\n\u001b[1;32m    492\u001b[0m \u001b[38;5;124;03m\"\"\"\u001b[39;00m\n\u001b[1;32m    493\u001b[0m \u001b[38;5;28;01mfrom\u001b[39;00m \u001b[38;5;21;01msage\u001b[39;00m\u001b[38;5;21;01m.\u001b[39;00m\u001b[38;5;21;01mfeatures\u001b[39;00m\u001b[38;5;21;01m.\u001b[39;00m\u001b[38;5;21;01mlatex\u001b[39;00m \u001b[38;5;28;01mimport\u001b[39;00m pdflatex, xelatex, lualatex\n\u001b[0;32m--> 494\u001b[0m \u001b[38;5;28;01mif\u001b[39;00m \u001b[43mlualatex\u001b[49m\u001b[43m(\u001b[49m\u001b[43m)\u001b[49m\u001b[38;5;241;43m.\u001b[39;49m\u001b[43mis_present\u001b[49m\u001b[43m(\u001b[49m\u001b[43m)\u001b[49m:\n\u001b[1;32m    495\u001b[0m     \u001b[38;5;28;01mreturn\u001b[39;00m \u001b[38;5;124m'\u001b[39m\u001b[38;5;124mlualatex\u001b[39m\u001b[38;5;124m'\u001b[39m, \u001b[38;5;124m'\u001b[39m\u001b[38;5;124mLuaLaTeX\u001b[39m\u001b[38;5;124m'\u001b[39m\n\u001b[1;32m    496\u001b[0m \u001b[38;5;28;01mif\u001b[39;00m xelatex()\u001b[38;5;241m.\u001b[39mis_present():\n",
      "File \u001b[0;32m/usr/lib/python3.12/site-packages/sage/features/__init__.py:211\u001b[0m, in \u001b[0;36mFeature.is_present\u001b[0;34m(self)\u001b[0m\n\u001b[1;32m    208\u001b[0m \u001b[38;5;66;03m# We do not use @cached_method here because we wish to use\u001b[39;00m\n\u001b[1;32m    209\u001b[0m \u001b[38;5;66;03m# Feature early in the build system of sagelib.\u001b[39;00m\n\u001b[1;32m    210\u001b[0m \u001b[38;5;28;01mif\u001b[39;00m \u001b[38;5;28mself\u001b[39m\u001b[38;5;241m.\u001b[39m_cache_is_present \u001b[38;5;129;01mis\u001b[39;00m \u001b[38;5;28;01mNone\u001b[39;00m:\n\u001b[0;32m--> 211\u001b[0m     res \u001b[38;5;241m=\u001b[39m \u001b[38;5;28;43mself\u001b[39;49m\u001b[38;5;241;43m.\u001b[39;49m\u001b[43m_is_present\u001b[49m\u001b[43m(\u001b[49m\u001b[43m)\u001b[49m\n\u001b[1;32m    212\u001b[0m     \u001b[38;5;28;01mif\u001b[39;00m \u001b[38;5;129;01mnot\u001b[39;00m \u001b[38;5;28misinstance\u001b[39m(res, FeatureTestResult):\n\u001b[1;32m    213\u001b[0m         res \u001b[38;5;241m=\u001b[39m FeatureTestResult(\u001b[38;5;28mself\u001b[39m, res)\n",
      "File \u001b[0;32m/usr/lib/python3.12/site-packages/sage/features/__init__.py:709\u001b[0m, in \u001b[0;36mExecutable._is_present\u001b[0;34m(self)\u001b[0m\n\u001b[1;32m    707\u001b[0m \u001b[38;5;28;01mif\u001b[39;00m \u001b[38;5;129;01mnot\u001b[39;00m result:\n\u001b[1;32m    708\u001b[0m     \u001b[38;5;28;01mreturn\u001b[39;00m result\n\u001b[0;32m--> 709\u001b[0m \u001b[38;5;28;01mreturn\u001b[39;00m \u001b[38;5;28;43mself\u001b[39;49m\u001b[38;5;241;43m.\u001b[39;49m\u001b[43mis_functional\u001b[49m\u001b[43m(\u001b[49m\u001b[43m)\u001b[49m\n",
      "File \u001b[0;32m/usr/lib/python3.12/site-packages/sage/features/latex.py:91\u001b[0m, in \u001b[0;36mLaTeX.is_functional\u001b[0;34m(self)\u001b[0m\n\u001b[1;32m     89\u001b[0m cmd \u001b[38;5;241m=\u001b[39m [\u001b[38;5;28mself\u001b[39m\u001b[38;5;241m.\u001b[39mname, \u001b[38;5;124m'\u001b[39m\u001b[38;5;124m-interaction=nonstopmode\u001b[39m\u001b[38;5;124m'\u001b[39m, filename_tex]\n\u001b[1;32m     90\u001b[0m cmd \u001b[38;5;241m=\u001b[39m \u001b[38;5;124m'\u001b[39m\u001b[38;5;124m \u001b[39m\u001b[38;5;124m'\u001b[39m\u001b[38;5;241m.\u001b[39mjoin(cmd)\n\u001b[0;32m---> 91\u001b[0m result \u001b[38;5;241m=\u001b[39m \u001b[43mrun\u001b[49m\u001b[43m(\u001b[49m\u001b[43mcmd\u001b[49m\u001b[43m,\u001b[49m\u001b[43m \u001b[49m\u001b[43mshell\u001b[49m\u001b[38;5;241;43m=\u001b[39;49m\u001b[38;5;28;43;01mTrue\u001b[39;49;00m\u001b[43m,\u001b[49m\u001b[43m \u001b[49m\u001b[43mcwd\u001b[49m\u001b[38;5;241;43m=\u001b[39;49m\u001b[43mbase\u001b[49m\u001b[43m,\u001b[49m\u001b[43m \u001b[49m\u001b[43mcapture_output\u001b[49m\u001b[38;5;241;43m=\u001b[39;49m\u001b[38;5;28;43;01mTrue\u001b[39;49;00m\u001b[43m,\u001b[49m\u001b[43m \u001b[49m\u001b[43mtext\u001b[49m\u001b[38;5;241;43m=\u001b[39;49m\u001b[38;5;28;43;01mTrue\u001b[39;49;00m\u001b[43m)\u001b[49m\n\u001b[1;32m     93\u001b[0m \u001b[38;5;66;03m# return\u001b[39;00m\n\u001b[1;32m     94\u001b[0m \u001b[38;5;28;01mif\u001b[39;00m result\u001b[38;5;241m.\u001b[39mreturncode \u001b[38;5;241m==\u001b[39m \u001b[38;5;241m0\u001b[39m:\n",
      "File \u001b[0;32m/usr/lib/python3.12/subprocess.py:550\u001b[0m, in \u001b[0;36mrun\u001b[0;34m(input, capture_output, timeout, check, *popenargs, **kwargs)\u001b[0m\n\u001b[1;32m    548\u001b[0m \u001b[38;5;28;01mwith\u001b[39;00m Popen(\u001b[38;5;241m*\u001b[39mpopenargs, \u001b[38;5;241m*\u001b[39m\u001b[38;5;241m*\u001b[39mkwargs) \u001b[38;5;28;01mas\u001b[39;00m process:\n\u001b[1;32m    549\u001b[0m     \u001b[38;5;28;01mtry\u001b[39;00m:\n\u001b[0;32m--> 550\u001b[0m         stdout, stderr \u001b[38;5;241m=\u001b[39m \u001b[43mprocess\u001b[49m\u001b[38;5;241;43m.\u001b[39;49m\u001b[43mcommunicate\u001b[49m\u001b[43m(\u001b[49m\u001b[38;5;28;43minput\u001b[39;49m\u001b[43m,\u001b[49m\u001b[43m \u001b[49m\u001b[43mtimeout\u001b[49m\u001b[38;5;241;43m=\u001b[39;49m\u001b[43mtimeout\u001b[49m\u001b[43m)\u001b[49m\n\u001b[1;32m    551\u001b[0m     \u001b[38;5;28;01mexcept\u001b[39;00m TimeoutExpired \u001b[38;5;28;01mas\u001b[39;00m exc:\n\u001b[1;32m    552\u001b[0m         process\u001b[38;5;241m.\u001b[39mkill()\n",
      "File \u001b[0;32m/usr/lib/python3.12/subprocess.py:1209\u001b[0m, in \u001b[0;36mPopen.communicate\u001b[0;34m(self, input, timeout)\u001b[0m\n\u001b[1;32m   1206\u001b[0m     endtime \u001b[38;5;241m=\u001b[39m \u001b[38;5;28;01mNone\u001b[39;00m\n\u001b[1;32m   1208\u001b[0m \u001b[38;5;28;01mtry\u001b[39;00m:\n\u001b[0;32m-> 1209\u001b[0m     stdout, stderr \u001b[38;5;241m=\u001b[39m \u001b[38;5;28;43mself\u001b[39;49m\u001b[38;5;241;43m.\u001b[39;49m\u001b[43m_communicate\u001b[49m\u001b[43m(\u001b[49m\u001b[38;5;28;43minput\u001b[39;49m\u001b[43m,\u001b[49m\u001b[43m \u001b[49m\u001b[43mendtime\u001b[49m\u001b[43m,\u001b[49m\u001b[43m \u001b[49m\u001b[43mtimeout\u001b[49m\u001b[43m)\u001b[49m\n\u001b[1;32m   1210\u001b[0m \u001b[38;5;28;01mexcept\u001b[39;00m \u001b[38;5;167;01mKeyboardInterrupt\u001b[39;00m:\n\u001b[1;32m   1211\u001b[0m     \u001b[38;5;66;03m# https://bugs.python.org/issue25942\u001b[39;00m\n\u001b[1;32m   1212\u001b[0m     \u001b[38;5;66;03m# See the detailed comment in .wait().\u001b[39;00m\n\u001b[1;32m   1213\u001b[0m     \u001b[38;5;28;01mif\u001b[39;00m timeout \u001b[38;5;129;01mis\u001b[39;00m \u001b[38;5;129;01mnot\u001b[39;00m \u001b[38;5;28;01mNone\u001b[39;00m:\n",
      "File \u001b[0;32m/usr/lib/python3.12/subprocess.py:2115\u001b[0m, in \u001b[0;36mPopen._communicate\u001b[0;34m(self, input, endtime, orig_timeout)\u001b[0m\n\u001b[1;32m   2108\u001b[0m     \u001b[38;5;28mself\u001b[39m\u001b[38;5;241m.\u001b[39m_check_timeout(endtime, orig_timeout,\n\u001b[1;32m   2109\u001b[0m                         stdout, stderr,\n\u001b[1;32m   2110\u001b[0m                         skip_check_and_raise\u001b[38;5;241m=\u001b[39m\u001b[38;5;28;01mTrue\u001b[39;00m)\n\u001b[1;32m   2111\u001b[0m     \u001b[38;5;28;01mraise\u001b[39;00m \u001b[38;5;167;01mRuntimeError\u001b[39;00m(  \u001b[38;5;66;03m# Impossible :)\u001b[39;00m\n\u001b[1;32m   2112\u001b[0m         \u001b[38;5;124m'\u001b[39m\u001b[38;5;124m_check_timeout(..., skip_check_and_raise=True) \u001b[39m\u001b[38;5;124m'\u001b[39m\n\u001b[1;32m   2113\u001b[0m         \u001b[38;5;124m'\u001b[39m\u001b[38;5;124mfailed to raise TimeoutExpired.\u001b[39m\u001b[38;5;124m'\u001b[39m)\n\u001b[0;32m-> 2115\u001b[0m ready \u001b[38;5;241m=\u001b[39m \u001b[43mselector\u001b[49m\u001b[38;5;241;43m.\u001b[39;49m\u001b[43mselect\u001b[49m\u001b[43m(\u001b[49m\u001b[43mtimeout\u001b[49m\u001b[43m)\u001b[49m\n\u001b[1;32m   2116\u001b[0m \u001b[38;5;28mself\u001b[39m\u001b[38;5;241m.\u001b[39m_check_timeout(endtime, orig_timeout, stdout, stderr)\n\u001b[1;32m   2118\u001b[0m \u001b[38;5;66;03m# XXX Rewrite these to use non-blocking I/O on the file\u001b[39;00m\n\u001b[1;32m   2119\u001b[0m \u001b[38;5;66;03m# objects; they are no longer using C stdio!\u001b[39;00m\n",
      "File \u001b[0;32m/usr/lib/python3.12/selectors.py:415\u001b[0m, in \u001b[0;36m_PollLikeSelector.select\u001b[0;34m(self, timeout)\u001b[0m\n\u001b[1;32m    413\u001b[0m ready \u001b[38;5;241m=\u001b[39m []\n\u001b[1;32m    414\u001b[0m \u001b[38;5;28;01mtry\u001b[39;00m:\n\u001b[0;32m--> 415\u001b[0m     fd_event_list \u001b[38;5;241m=\u001b[39m \u001b[38;5;28;43mself\u001b[39;49m\u001b[38;5;241;43m.\u001b[39;49m\u001b[43m_selector\u001b[49m\u001b[38;5;241;43m.\u001b[39;49m\u001b[43mpoll\u001b[49m\u001b[43m(\u001b[49m\u001b[43mtimeout\u001b[49m\u001b[43m)\u001b[49m\n\u001b[1;32m    416\u001b[0m \u001b[38;5;28;01mexcept\u001b[39;00m \u001b[38;5;167;01mInterruptedError\u001b[39;00m:\n\u001b[1;32m    417\u001b[0m     \u001b[38;5;28;01mreturn\u001b[39;00m ready\n",
      "File \u001b[0;32msrc/cysignals/signals.pyx:341\u001b[0m, in \u001b[0;36mcysignals.signals.python_check_interrupt\u001b[0;34m()\u001b[0m\n",
      "\u001b[0;31mKeyboardInterrupt\u001b[0m: "
     ]
    }
   ],
   "source": [
    "g = x^8\n",
    "pretty_print(g)\n",
    "g = x^9\n",
    "pretty_print(g)"
   ]
  },
  {
   "cell_type": "markdown",
   "metadata": {
    "collapsed": false,
    "jupyter": {
     "outputs_hidden": false
    }
   },
   "source": [
    "### Deluppgift b"
   ]
  },
  {
   "cell_type": "code",
   "execution_count": null,
   "metadata": {
    "collapsed": false,
    "jupyter": {
     "outputs_hidden": false
    }
   },
   "outputs": [],
   "source": [
    "g = x^7 + x^4 + x + 1\n",
    "h = x^5 + x^2 + 1\n",
    "\n",
    "j = g^4 * h\n",
    "pretty_print(j)"
   ]
  },
  {
   "cell_type": "markdown",
   "metadata": {
    "collapsed": false,
    "jupyter": {
     "outputs_hidden": false
    }
   },
   "source": [
    "### Deluppgift c"
   ]
  },
  {
   "cell_type": "code",
   "execution_count": null,
   "metadata": {
    "collapsed": false,
    "jupyter": {
     "outputs_hidden": false
    }
   },
   "outputs": [],
   "source": [
    "m = R(g)\n",
    "n = R(h)\n",
    "\n",
    "j = m^4 * n\n",
    "pretty_print(j)"
   ]
  },
  {
   "cell_type": "markdown",
   "metadata": {
    "collapsed": false,
    "jupyter": {
     "outputs_hidden": false
    }
   },
   "source": [
    "### Deluppgift d"
   ]
  },
  {
   "cell_type": "code",
   "execution_count": null,
   "metadata": {
    "collapsed": false,
    "jupyter": {
     "outputs_hidden": false
    }
   },
   "outputs": [],
   "source": [
    "g = x^5 + x^2 + 1\n",
    "g^-1"
   ]
  },
  {
   "cell_type": "markdown",
   "metadata": {
    "collapsed": false,
    "jupyter": {
     "outputs_hidden": false
    }
   },
   "source": [
    "### Deluppgift e"
   ]
  },
  {
   "cell_type": "code",
   "execution_count": 133,
   "metadata": {
    "collapsed": false,
    "jupyter": {
     "outputs_hidden": false
    }
   },
   "outputs": [
    {
     "data": {
      "text/html": [
       "<html>\\(\\displaystyle x^{6} + x^{4}\\)</html>"
      ],
      "text/latex": [
       "$\\displaystyle x^{6} + x^{4}$"
      ],
      "text/plain": [
       "x^6 + x^4"
      ]
     },
     "metadata": {},
     "output_type": "display_data"
    },
    {
     "data": {
      "text/html": [
       "<html>\\(\\displaystyle x^{6} + x^{5} + x^{2} + 1\\)</html>"
      ],
      "text/latex": [
       "$\\displaystyle x^{6} + x^{5} + x^{2} + 1$"
      ],
      "text/plain": [
       "x^6 + x^5 + x^2 + 1"
      ]
     },
     "metadata": {},
     "output_type": "display_data"
    },
    {
     "data": {
      "text/html": [
       "<html>\\(\\displaystyle x^{6} + x^{5} + x^{4} + x\\)</html>"
      ],
      "text/latex": [
       "$\\displaystyle x^{6} + x^{5} + x^{4} + x$"
      ],
      "text/plain": [
       "x^6 + x^5 + x^4 + x"
      ]
     },
     "metadata": {},
     "output_type": "display_data"
    },
    {
     "data": {
      "text/html": [
       "<html>\\(\\displaystyle x^{6} + x^{5} + x^{4} + x + 1\\)</html>"
      ],
      "text/latex": [
       "$\\displaystyle x^{6} + x^{5} + x^{4} + x + 1$"
      ],
      "text/plain": [
       "x^6 + x^5 + x^4 + x + 1"
      ]
     },
     "metadata": {},
     "output_type": "display_data"
    },
    {
     "data": {
      "text/html": [
       "<html>\\(\\displaystyle x^{6} + x^{5} + x^{3} + x^{2} + x + 1\\)</html>"
      ],
      "text/latex": [
       "$\\displaystyle x^{6} + x^{5} + x^{3} + x^{2} + x + 1$"
      ],
      "text/plain": [
       "x^6 + x^5 + x^3 + x^2 + x + 1"
      ]
     },
     "metadata": {},
     "output_type": "display_data"
    },
    {
     "data": {
      "text/html": [
       "<html>\\(\\displaystyle x^{6} + x^{5} + x^{3} + x^{2} + x\\)</html>"
      ],
      "text/latex": [
       "$\\displaystyle x^{6} + x^{5} + x^{3} + x^{2} + x$"
      ],
      "text/plain": [
       "x^6 + x^5 + x^3 + x^2 + x"
      ]
     },
     "metadata": {},
     "output_type": "display_data"
    },
    {
     "data": {
      "text/html": [
       "<html>\\(\\displaystyle x^{6} + x^{5} + 1\\)</html>"
      ],
      "text/latex": [
       "$\\displaystyle x^{6} + x^{5} + 1$"
      ],
      "text/plain": [
       "x^6 + x^5 + 1"
      ]
     },
     "metadata": {},
     "output_type": "display_data"
    },
    {
     "data": {
      "text/html": [
       "<html>\\(\\displaystyle x^{5}\\)</html>"
      ],
      "text/latex": [
       "$\\displaystyle x^{5}$"
      ],
      "text/plain": [
       "x^5"
      ]
     },
     "metadata": {},
     "output_type": "display_data"
    },
    {
     "data": {
      "text/html": [
       "<html>\\(\\displaystyle x^{5} + x^{3}\\)</html>"
      ],
      "text/latex": [
       "$\\displaystyle x^{5} + x^{3}$"
      ],
      "text/plain": [
       "x^5 + x^3"
      ]
     },
     "metadata": {},
     "output_type": "display_data"
    },
    {
     "data": {
      "text/html": [
       "<html>\\(\\displaystyle x^{5} + x^{4} + 1\\)</html>"
      ],
      "text/latex": [
       "$\\displaystyle x^{5} + x^{4} + 1$"
      ],
      "text/plain": [
       "x^5 + x^4 + 1"
      ]
     },
     "metadata": {},
     "output_type": "display_data"
    },
    {
     "data": {
      "text/html": [
       "<html>\\(\\displaystyle x^{5} + x^{4} + x^{3} + 1\\)</html>"
      ],
      "text/latex": [
       "$\\displaystyle x^{5} + x^{4} + x^{3} + 1$"
      ],
      "text/plain": [
       "x^5 + x^4 + x^3 + 1"
      ]
     },
     "metadata": {},
     "output_type": "display_data"
    },
    {
     "data": {
      "text/html": [
       "<html>\\(\\displaystyle x^{5} + x^{4} + x^{2} + x\\)</html>"
      ],
      "text/latex": [
       "$\\displaystyle x^{5} + x^{4} + x^{2} + x$"
      ],
      "text/plain": [
       "x^5 + x^4 + x^2 + x"
      ]
     },
     "metadata": {},
     "output_type": "display_data"
    },
    {
     "data": {
      "text/html": [
       "<html>\\(\\displaystyle x^{5} + x^{4} + x^{2} + x\\)</html>"
      ],
      "text/latex": [
       "$\\displaystyle x^{5} + x^{4} + x^{2} + x$"
      ],
      "text/plain": [
       "x^5 + x^4 + x^2 + x"
      ]
     },
     "metadata": {},
     "output_type": "display_data"
    },
    {
     "data": {
      "text/html": [
       "<html>\\(\\displaystyle x^{5} + x^{3} + 1\\)</html>"
      ],
      "text/latex": [
       "$\\displaystyle x^{5} + x^{3} + 1$"
      ],
      "text/plain": [
       "x^5 + x^3 + 1"
      ]
     },
     "metadata": {},
     "output_type": "display_data"
    }
   ],
   "source": [
    "T = 'Persona (1966)'\n",
    "P = [F(ZZ(ord(t)).digits(base = 2, padto = 8)) for t in T]\n",
    "\n",
    "for p  in P:\n",
    "    pretty_print(p)"
   ]
  },
  {
   "cell_type": "markdown",
   "metadata": {
    "collapsed": false,
    "jupyter": {
     "outputs_hidden": false
    }
   },
   "source": [
    "### Deluppgift f"
   ]
  },
  {
   "cell_type": "code",
   "execution_count": 134,
   "metadata": {
    "collapsed": false,
    "jupyter": {
     "outputs_hidden": false
    }
   },
   "outputs": [
    {
     "data": {
      "text/html": [
       "<html>\\(\\displaystyle x^{7} + x^{4} + x^{2} + 1\\)</html>"
      ],
      "text/latex": [
       "$\\displaystyle x^{7} + x^{4} + x^{2} + 1$"
      ],
      "text/plain": [
       "x^7 + x^4 + x^2 + 1"
      ]
     },
     "metadata": {},
     "output_type": "display_data"
    },
    {
     "data": {
      "text/html": [
       "<html>\\(\\displaystyle x^{6} + x^{2}\\)</html>"
      ],
      "text/latex": [
       "$\\displaystyle x^{6} + x^{2}$"
      ],
      "text/plain": [
       "x^6 + x^2"
      ]
     },
     "metadata": {},
     "output_type": "display_data"
    },
    {
     "data": {
      "text/html": [
       "<html>\\(\\displaystyle x^{6} + x\\)</html>"
      ],
      "text/latex": [
       "$\\displaystyle x^{6} + x$"
      ],
      "text/plain": [
       "x^6 + x"
      ]
     },
     "metadata": {},
     "output_type": "display_data"
    },
    {
     "data": {
      "text/html": [
       "<html>\\(\\displaystyle x^{7} + x^{4} + x^{3} + x + 1\\)</html>"
      ],
      "text/latex": [
       "$\\displaystyle x^{7} + x^{4} + x^{3} + x + 1$"
      ],
      "text/plain": [
       "x^7 + x^4 + x^3 + x + 1"
      ]
     },
     "metadata": {},
     "output_type": "display_data"
    },
    {
     "data": {
      "text/html": [
       "<html>\\(\\displaystyle x^{6} + x^{5} + x^{4} + x^{3} + x^{2} + x + 1\\)</html>"
      ],
      "text/latex": [
       "$\\displaystyle x^{6} + x^{5} + x^{4} + x^{3} + x^{2} + x + 1$"
      ],
      "text/plain": [
       "x^6 + x^5 + x^4 + x^3 + x^2 + x + 1"
      ]
     },
     "metadata": {},
     "output_type": "display_data"
    },
    {
     "data": {
      "text/html": [
       "<html>\\(\\displaystyle x^{7} + x^{5} + x^{2} + x\\)</html>"
      ],
      "text/latex": [
       "$\\displaystyle x^{7} + x^{5} + x^{2} + x$"
      ],
      "text/plain": [
       "x^7 + x^5 + x^2 + x"
      ]
     },
     "metadata": {},
     "output_type": "display_data"
    },
    {
     "data": {
      "text/html": [
       "<html>\\(\\displaystyle x^{3} + x^{2} + 1\\)</html>"
      ],
      "text/latex": [
       "$\\displaystyle x^{3} + x^{2} + 1$"
      ],
      "text/plain": [
       "x^3 + x^2 + 1"
      ]
     },
     "metadata": {},
     "output_type": "display_data"
    },
    {
     "data": {
      "text/html": [
       "<html>\\(\\displaystyle x^{5} + x^{3}\\)</html>"
      ],
      "text/latex": [
       "$\\displaystyle x^{5} + x^{3}$"
      ],
      "text/plain": [
       "x^5 + x^3"
      ]
     },
     "metadata": {},
     "output_type": "display_data"
    },
    {
     "data": {
      "text/html": [
       "<html>\\(\\displaystyle x^{7} + x^{5} + x^{4} + x^{3} + x\\)</html>"
      ],
      "text/latex": [
       "$\\displaystyle x^{7} + x^{5} + x^{4} + x^{3} + x$"
      ],
      "text/plain": [
       "x^7 + x^5 + x^4 + x^3 + x"
      ]
     },
     "metadata": {},
     "output_type": "display_data"
    },
    {
     "data": {
      "text/html": [
       "<html>\\(\\displaystyle x^{7} + x^{6} + x^{3} + x^{2} + x\\)</html>"
      ],
      "text/latex": [
       "$\\displaystyle x^{7} + x^{6} + x^{3} + x^{2} + x$"
      ],
      "text/plain": [
       "x^7 + x^6 + x^3 + x^2 + x"
      ]
     },
     "metadata": {},
     "output_type": "display_data"
    },
    {
     "data": {
      "text/html": [
       "<html>\\(\\displaystyle x^{6} + x^{4} + x^{3} + x^{2}\\)</html>"
      ],
      "text/latex": [
       "$\\displaystyle x^{6} + x^{4} + x^{3} + x^{2}$"
      ],
      "text/plain": [
       "x^6 + x^4 + x^3 + x^2"
      ]
     },
     "metadata": {},
     "output_type": "display_data"
    },
    {
     "data": {
      "text/html": [
       "<html>\\(\\displaystyle x^{7} + x^{6} + x^{5} + x^{4} + x^{2} + x + 1\\)</html>"
      ],
      "text/latex": [
       "$\\displaystyle x^{7} + x^{6} + x^{5} + x^{4} + x^{2} + x + 1$"
      ],
      "text/plain": [
       "x^7 + x^6 + x^5 + x^4 + x^2 + x + 1"
      ]
     },
     "metadata": {},
     "output_type": "display_data"
    },
    {
     "data": {
      "text/html": [
       "<html>\\(\\displaystyle x^{7} + x^{6} + x^{5} + x^{4} + x^{2} + x + 1\\)</html>"
      ],
      "text/latex": [
       "$\\displaystyle x^{7} + x^{6} + x^{5} + x^{4} + x^{2} + x + 1$"
      ],
      "text/plain": [
       "x^7 + x^6 + x^5 + x^4 + x^2 + x + 1"
      ]
     },
     "metadata": {},
     "output_type": "display_data"
    },
    {
     "data": {
      "text/html": [
       "<html>\\(\\displaystyle x^{6} + x^{5} + x + 1\\)</html>"
      ],
      "text/latex": [
       "$\\displaystyle x^{6} + x^{5} + x + 1$"
      ],
      "text/plain": [
       "x^6 + x^5 + x + 1"
      ]
     },
     "metadata": {},
     "output_type": "display_data"
    }
   ],
   "source": [
    "a = x^7 + x^6 + x^4 + x^3 + 1\n",
    "b = x^6 + x^4 + x^2 + x\n",
    "\n",
    "C = [a * p + b for p in P]\n",
    "\n",
    "for c in C:\n",
    "    pretty_print(c)"
   ]
  },
  {
   "cell_type": "markdown",
   "metadata": {
    "collapsed": false,
    "jupyter": {
     "outputs_hidden": false
    }
   },
   "source": [
    "### Deluppgift g"
   ]
  },
  {
   "cell_type": "code",
   "execution_count": 139,
   "metadata": {
    "collapsed": false,
    "jupyter": {
     "outputs_hidden": false
    }
   },
   "outputs": [
    {
     "name": "stdout",
     "output_type": "stream",
     "text": [
      "The Sting (1973)\n"
     ]
    }
   ],
   "source": [
    "kryptogram = [x^7 + x^6 + x^4 + x^3 + x^2, x^6 + x^2 + x,\n",
    "              x^6 + x^2, x^5 + x^3, x^7 + x^6 + x^5 + x^2 + 1,\n",
    "              x^7 + x^5 + x, x^7 + x^4 + x^3 + x^2 + x + 1,\n",
    "              x^7 + x^5 + x^2 + x, x^7 + x^6 + x^5 + x^3 + x^2 + 1,\n",
    "              x^5 + x^3, x^7 + x^5 + x^4 + x^3 + x,\n",
    "              x^7 + x^6 + x^3 + x^2 + x, x^6 + x^4 + x^3 + x^2,\n",
    "              x^5 + x^3 + x^2 + x, x^6 + x^5 + x^2 + x + 1,\n",
    "              x^6 + x^5 + x + 1]\n",
    "C = kryptogram\n",
    "\n",
    "P = [(c + b) * a^-1 for c in C]\n",
    "klartext = ''.join([chr(ZZ(R(p).coefficients(sparse = False), base = 2)) for p in P])\n",
    "print(klartext)"
   ]
  },
  {
   "cell_type": "markdown",
   "metadata": {},
   "source": [
    "### Deluppgift h"
   ]
  },
  {
   "cell_type": "code",
   "execution_count": 144,
   "metadata": {},
   "outputs": [
    {
     "data": {
      "text/html": [
       "<html>\\(\\displaystyle x^{7} + x^{4} + x^{2} + x\\)</html>"
      ],
      "text/latex": [
       "$\\displaystyle x^{7} + x^{4} + x^{2} + x$"
      ],
      "text/plain": [
       "x^7 + x^4 + x^2 + x"
      ]
     },
     "metadata": {},
     "output_type": "display_data"
    },
    {
     "data": {
      "text/html": [
       "<html>\\(\\displaystyle x^{7} + x^{4} + x\\)</html>"
      ],
      "text/latex": [
       "$\\displaystyle x^{7} + x^{4} + x$"
      ],
      "text/plain": [
       "x^7 + x^4 + x"
      ]
     },
     "metadata": {},
     "output_type": "display_data"
    },
    {
     "data": {
      "text/html": [
       "<html>\\(\\displaystyle x^{7} + x^{3} + 1\\)</html>"
      ],
      "text/latex": [
       "$\\displaystyle x^{7} + x^{3} + 1$"
      ],
      "text/plain": [
       "x^7 + x^3 + 1"
      ]
     },
     "execution_count": 144,
     "metadata": {},
     "output_type": "execute_result"
    }
   ],
   "source": [
    "a = (x^7 + x^5 + x^3 +1) * (x^6 + x^3 + x^2 + x + 1)^-1\n",
    "b = x^5 - a * (x^3 + x^2)\n",
    "\n",
    "pretty_print(a)\n",
    "pretty_print(b)\n",
    "\n",
    "# test\n",
    "a * (x^6 + x + 1) + b"
   ]
  },
  {
   "cell_type": "markdown",
   "metadata": {
    "collapsed": false,
    "jupyter": {
     "outputs_hidden": false
    }
   },
   "source": [
    "## Uppgift 5"
   ]
  },
  {
   "cell_type": "code",
   "execution_count": 36,
   "metadata": {
    "collapsed": false,
    "jupyter": {
     "outputs_hidden": false
    }
   },
   "outputs": [],
   "source": [
    "load('AES.sage')"
   ]
  },
  {
   "cell_type": "markdown",
   "metadata": {
    "collapsed": false,
    "jupyter": {
     "outputs_hidden": false
    }
   },
   "source": [
    "Kod att testa (radera eller kommentera bort innan inlämning):"
   ]
  },
  {
   "cell_type": "code",
   "execution_count": 40,
   "metadata": {
    "collapsed": false,
    "jupyter": {
     "outputs_hidden": false
    }
   },
   "outputs": [
    {
     "name": "stdout",
     "output_type": "stream",
     "text": [
      "K\n",
      "x^6 + x^3 + x + 1\n",
      "K\n",
      "01001011\n",
      "4B\n",
      "x^6 + x^3 + x + 1\n",
      "['A', 'E', 'S', '-', '1', '2', '8']\n",
      "AES-128\n"
     ]
    }
   ],
   "source": [
    "# ett tecken\n",
    "m = 75\n",
    "t = chr(m)\n",
    "print(t)\n",
    "p = text_till_polynom(t)\n",
    "print(p)\n",
    "s = polynom_till_text(p)\n",
    "print(s)\n",
    "b = bitstr(p)\n",
    "print(b)\n",
    "h = polynom_till_text(p, 'hex')\n",
    "print(h)\n",
    "# flera tecken\n",
    "m = 'AES-128'\n",
    "P = [text_till_polynom(t) for t in m]\n",
    "print(p)\n",
    "s = [polynom_till_text(p) for p in P]\n",
    "print(s)\n",
    "t = ''.join(s)\n",
    "print(t)"
   ]
  },
  {
   "cell_type": "markdown",
   "metadata": {
    "collapsed": false,
    "jupyter": {
     "outputs_hidden": false
    }
   },
   "source": [
    "### Deluppgift a"
   ]
  },
  {
   "cell_type": "code",
   "execution_count": 68,
   "metadata": {
    "collapsed": false,
    "jupyter": {
     "outputs_hidden": false
    }
   },
   "outputs": [
    {
     "data": {
      "text/html": [
       "<html>\\(\\displaystyle x^{7} + x^{6} + x^{4} + x^{2} + x\\)</html>"
      ],
      "text/latex": [
       "$\\displaystyle x^{7} + x^{6} + x^{4} + x^{2} + x$"
      ],
      "text/plain": [
       "x^7 + x^6 + x^4 + x^2 + x"
      ]
     },
     "execution_count": 68,
     "metadata": {},
     "output_type": "execute_result"
    }
   ],
   "source": [
    "t = 'Ö'\n",
    "p = text_till_polynom(t)\n",
    "p"
   ]
  },
  {
   "cell_type": "markdown",
   "metadata": {
    "collapsed": false,
    "jupyter": {
     "outputs_hidden": false
    }
   },
   "source": [
    "### Deluppgift b"
   ]
  },
  {
   "cell_type": "code",
   "execution_count": 69,
   "metadata": {
    "collapsed": false,
    "jupyter": {
     "outputs_hidden": false
    }
   },
   "outputs": [
    {
     "data": {
      "text/html": [
       "<html>\\(\\displaystyle x^{7} + x^{6} + x^{5} + x^{4} + x^{2} + x\\)</html>"
      ],
      "text/latex": [
       "$\\displaystyle x^{7} + x^{6} + x^{5} + x^{4} + x^{2} + x$"
      ],
      "text/plain": [
       "x^7 + x^6 + x^5 + x^4 + x^2 + x"
      ]
     },
     "metadata": {},
     "output_type": "display_data"
    },
    {
     "name": "stdout",
     "output_type": "stream",
     "text": [
      "11110110\n",
      "F6\n"
     ]
    }
   ],
   "source": [
    "p = Sbox(p)\n",
    "pretty_print(p)\n",
    "print(bitstr(p))\n",
    "print(polynom_till_text(p, 'hex'))"
   ]
  },
  {
   "cell_type": "markdown",
   "metadata": {
    "collapsed": false,
    "jupyter": {
     "outputs_hidden": false
    }
   },
   "source": [
    "### Deluppgift c"
   ]
  },
  {
   "cell_type": "code",
   "execution_count": 70,
   "metadata": {
    "collapsed": false,
    "jupyter": {
     "outputs_hidden": false
    }
   },
   "outputs": [
    {
     "name": "stdout",
     "output_type": "stream",
     "text": [
      "01000100  01110011  01110011  01110010\n",
      "01100101  01101111  11110110  00100000\n",
      "01101110  01101101  01101011  01101000\n",
      "00100000  00100000  01100101  01100001\n",
      "\n",
      "01101110  01101110  00101110  00100000\n",
      "00100000  01101110  00100000  00100000\n",
      "01100110  01100101  00100000  00100000\n",
      "01101001  01110010  00100000  00100000\n",
      "\n"
     ]
    }
   ],
   "source": [
    "t = 'Den som söker han finner.'\n",
    "P = text_till_block(t, ' ')\n",
    "for p in P:\n",
    "    print(binblock(p))\n",
    "    print()"
   ]
  },
  {
   "cell_type": "markdown",
   "metadata": {
    "collapsed": false,
    "jupyter": {
     "outputs_hidden": false
    }
   },
   "source": [
    "### Deluppgift d"
   ]
  },
  {
   "cell_type": "code",
   "execution_count": 71,
   "metadata": {
    "collapsed": false,
    "jupyter": {
     "outputs_hidden": false
    }
   },
   "outputs": [
    {
     "name": "stdout",
     "output_type": "stream",
     "text": [
      "00011011  10001111  10001111  01000000\n",
      "01001101  10101000  01000010  10110111\n",
      "10011111  00111100  01111111  01000101\n",
      "10110111  10110111  01001101  11101111\n",
      "\n",
      "01101001  00011010  11101001  10001101\n",
      "00011100  00111010  01011100  11101011\n",
      "10011101  10100110  11111100  00100001\n",
      "10000111  11010111  11000010  00011100\n"
     ]
    }
   ],
   "source": [
    "p_1 = SubBytes(P[0])\n",
    "print(binblock(p_1))\n",
    "\n",
    "print()\n",
    "\n",
    "p_2 = MixColumns(P[0])\n",
    "print(binblock(p_2))"
   ]
  },
  {
   "cell_type": "markdown",
   "metadata": {
    "collapsed": false,
    "jupyter": {
     "outputs_hidden": false
    }
   },
   "source": [
    "### Deluppgift e"
   ]
  },
  {
   "cell_type": "code",
   "execution_count": 72,
   "metadata": {
    "collapsed": false,
    "jupyter": {
     "outputs_hidden": false
    }
   },
   "outputs": [
    {
     "name": "stdout",
     "output_type": "stream",
     "text": [
      "\u001b¨ïBE···@M<M\n",
      "\n",
      "i:ü\u001c",
      "\u001a\\!éë×\u001c",
      "¦Â\n"
     ]
    }
   ],
   "source": [
    "p_1 = ShiftRows(p_1)\n",
    "print(block_till_text(p_1))\n",
    "\n",
    "print()\n",
    "\n",
    "p_2 = ShiftRows(p_2)\n",
    "print(block_till_text(p_2))"
   ]
  },
  {
   "cell_type": "markdown",
   "metadata": {
    "collapsed": false,
    "jupyter": {
     "outputs_hidden": false
    }
   },
   "source": [
    "### Deluppgift f"
   ]
  },
  {
   "cell_type": "markdown",
   "metadata": {
    "collapsed": false,
    "jupyter": {
     "outputs_hidden": false
    }
   },
   "source": [
    "Kod att testa (radera eller kommentera bort innan inlämning):"
   ]
  },
  {
   "cell_type": "code",
   "execution_count": 73,
   "metadata": {
    "collapsed": false,
    "jupyter": {
     "outputs_hidden": false
    }
   },
   "outputs": [
    {
     "name": "stdout",
     "output_type": "stream",
     "text": [
      "01101110  01110010  01110110  01111010  10110110  11000100  10110010  11001000  00100000  11100100  01010110  10011110  01011100  10111000  11101110  01110000  11010110  01101110  10000000  11110000  01111001  00010111  10010111  01100111  10001110  10011001  00001110  01101001  01011001  11000000  11001110  10100111  01011111  10011111  01010001  11110110  10101101  00110010  01100011  10010101  11011100  11101110  10001101  00011000\n",
      "01101111  01110011  01110111  11100101  00000110  01110101  00000010  11100111  01010001  00100100  00100110  11000001  11010010  11110110  11010000  00010001  11000011  00110101  11100101  11110100  00101001  00011100  11111001  00001101  01101101  01110001  10001000  10000101  10100000  11010001  01011001  11011100  10111111  01101110  00110111  11101011  10100100  11001010  11111101  00010110  00000011  11001001  00110100  00100010\n",
      "01110000  01110100  01111000  11100100  00110010  01000110  00111110  11011010  11100011  10100101  10011011  01000001  10011100  00111001  10100010  11100011  11000011  11111010  01011000  10111011  10011111  01100101  00111101  10000110  01011110  00111011  00000110  10000000  01110110  01001101  01001011  11001011  10001001  11000100  10001111  01000100  10000110  01000010  11001101  10001001  01011101  00011111  11010010  01011011\n",
      "01110001  01110101  01111001  11110110  10101011  11011110  10100111  01010001  01000011  10011101  00111010  01101011  01001000  11010101  11101111  10000100  00011001  11001100  00100011  10100111  10010101  01011001  01111010  11011101  00010000  01001001  00110011  11101110  11101001  10100000  10010011  01111101  10110101  00010101  10000110  11111011  11110111  11100010  01100100  10011111  11011101  00111111  01011011  11000100\n"
     ]
    }
   ],
   "source": [
    "K = 'nopqrstuvwxyzåäö'\n",
    "W = rundnycklar(K)\n",
    "print(binblock(W))"
   ]
  },
  {
   "cell_type": "code",
   "execution_count": 83,
   "metadata": {
    "collapsed": false,
    "jupyter": {
     "outputs_hidden": false
    }
   },
   "outputs": [
    {
     "name": "stdout",
     "output_type": "stream",
     "text": [
      "AFADE578F17449B19AF50D7DF5D5F714\n",
      "ED376BC2AFEB06396D3330600EE09D5E\n"
     ]
    }
   ],
   "source": [
    "C = [AES128(p, K) for p in P]\n",
    "\n",
    "for c in C:\n",
    "    print(block_till_text(c, 'hex'))"
   ]
  },
  {
   "cell_type": "markdown",
   "metadata": {
    "collapsed": false,
    "jupyter": {
     "outputs_hidden": false
    }
   },
   "source": [
    "## Uppgift 6"
   ]
  },
  {
   "cell_type": "code",
   "execution_count": 81,
   "metadata": {
    "collapsed": false,
    "jupyter": {
     "outputs_hidden": false
    }
   },
   "outputs": [],
   "source": [
    "v = (4, 11, 17, 33, 66, 137, 268, 538, 1571, 3650, 7892, 18283, 39744, 84217, 156434, 312866)\n",
    "load(\"kryptering2.sage\")"
   ]
  },
  {
   "cell_type": "markdown",
   "metadata": {
    "collapsed": false,
    "jupyter": {
     "outputs_hidden": false
    }
   },
   "source": [
    "### Deluppgift a"
   ]
  },
  {
   "cell_type": "code",
   "execution_count": 85,
   "metadata": {
    "collapsed": false,
    "jupyter": {
     "outputs_hidden": false
    }
   },
   "outputs": [],
   "source": [
    "def is_superincreasing(lst: list[Integer]) -> bool:\n",
    "    before: Integer = 0\n",
    "    for x in lst:\n",
    "        if before > x:\n",
    "            return False\n",
    "\n",
    "        before += x\n",
    "\n",
    "    return True"
   ]
  },
  {
   "cell_type": "markdown",
   "metadata": {
    "collapsed": false,
    "jupyter": {
     "outputs_hidden": false
    }
   },
   "source": [
    "### Deluppgift b"
   ]
  },
  {
   "cell_type": "code",
   "execution_count": 78,
   "metadata": {
    "collapsed": false,
    "jupyter": {
     "outputs_hidden": false
    }
   },
   "outputs": [
    {
     "data": {
      "text/plain": [
       "True"
      ]
     },
     "execution_count": 78,
     "metadata": {},
     "output_type": "execute_result"
    }
   ],
   "source": [
    "is_superincreasing(v)"
   ]
  },
  {
   "cell_type": "markdown",
   "metadata": {
    "collapsed": false,
    "jupyter": {
     "outputs_hidden": false
    }
   },
   "source": [
    "### Deluppgift c"
   ]
  },
  {
   "cell_type": "code",
   "execution_count": 86,
   "metadata": {
    "collapsed": false,
    "jupyter": {
     "outputs_hidden": false
    }
   },
   "outputs": [
    {
     "data": {
      "text/plain": [
       "635639"
      ]
     },
     "execution_count": 86,
     "metadata": {},
     "output_type": "execute_result"
    }
   ],
   "source": [
    "p = (2 * v[len(v) - 1]).next_prime()\n",
    "m = p + 9876\n",
    "m"
   ]
  },
  {
   "cell_type": "markdown",
   "metadata": {
    "collapsed": false,
    "jupyter": {
     "outputs_hidden": false
    }
   },
   "source": [
    "### Deluppgift d"
   ]
  },
  {
   "cell_type": "code",
   "execution_count": 87,
   "metadata": {
    "collapsed": false,
    "jupyter": {
     "outputs_hidden": false
    }
   },
   "outputs": [
    {
     "name": "stdout",
     "output_type": "stream",
     "text": [
      "156735\n",
      "29082\n",
      "[626940, 452807, 121939, 87143, 174286, 496608, 52806, 419082, 238392, 7650, 634765, 125393, 13640, 72021, 179843, 46216]\n"
     ]
    }
   ],
   "source": [
    "a = v[3] + v[6] + v[14]\n",
    "b = inverse_mod(a, m)\n",
    "w = [(a * v_i % m) for v_i in v]\n",
    "\n",
    "print(a)\n",
    "print(b)\n",
    "print(w)"
   ]
  },
  {
   "cell_type": "markdown",
   "metadata": {
    "collapsed": false,
    "jupyter": {
     "outputs_hidden": false
    }
   },
   "source": [
    "### Deluppgift e"
   ]
  },
  {
   "cell_type": "code",
   "execution_count": 90,
   "metadata": {
    "collapsed": false,
    "jupyter": {
     "outputs_hidden": false
    }
   },
   "outputs": [
    {
     "data": {
      "text/plain": [
       "[1292094,\n",
       " 1842590,\n",
       " 1567179,\n",
       " 881515,\n",
       " 2309025,\n",
       " 1383237,\n",
       " 1949329,\n",
       " 1970660,\n",
       " 2268368]"
      ]
     },
     "execution_count": 90,
     "metadata": {},
     "output_type": "execute_result"
    }
   ],
   "source": [
    "klartext = 'Vadå - jag dyster?'\n",
    "B = bitar(klartext)\n",
    "T = [B[x : x + len(v)] for x in range(0, len(B), len(v))]\n",
    "C = []\n",
    "for t in T:\n",
    "    c = 0\n",
    "    for i in range(len(w)):\n",
    "        c += t[i] * w[i]\n",
    "\n",
    "    C += [c]\n",
    "\n",
    "C"
   ]
  },
  {
   "cell_type": "markdown",
   "metadata": {
    "collapsed": false,
    "jupyter": {
     "outputs_hidden": false
    }
   },
   "source": [
    "### Deluppgift f"
   ]
  },
  {
   "cell_type": "code",
   "execution_count": 89,
   "metadata": {
    "collapsed": false,
    "jupyter": {
     "outputs_hidden": false
    }
   },
   "outputs": [
    {
     "name": "stdout",
     "output_type": "stream",
     "text": [
      "Blazinh Saddles (1974)\n"
     ]
    }
   ],
   "source": [
    "kryptogram = [1517635, 1574901, 2283169, 1979856, 1797095,\n",
    "              1557982, 1883517, 2032203, 907804, 2351445, 1228639]\n",
    "\n",
    "T = []\n",
    "\n",
    "for c in kryptogram:\n",
    "    d = c * b % m\n",
    "    t = [0] * len(v)\n",
    "    for x in range(len(v)):\n",
    "        x_i = len(v) - x - 1\n",
    "        if v[x_i] <= d:\n",
    "            d -= v[x_i]\n",
    "            t[x_i] = 1\n",
    "        elif d == 0:\n",
    "            break\n",
    "\n",
    "    T += t\n",
    "\n",
    "print(bitar(T))\n"
   ]
  },
  {
   "cell_type": "markdown",
   "metadata": {
    "collapsed": false,
    "jupyter": {
     "outputs_hidden": false
    }
   },
   "source": [
    "## Uppgift 7"
   ]
  },
  {
   "cell_type": "code",
   "execution_count": 100,
   "metadata": {
    "collapsed": false,
    "jupyter": {
     "outputs_hidden": false
    }
   },
   "outputs": [
    {
     "name": "stdout",
     "output_type": "stream",
     "text": [
      "Skammen (1968)\n"
     ]
    }
   ],
   "source": [
    "w = [3618169, 1063503, 3361573, 1549665, 352217, 2660376, 1076829, 549933,\n",
    "     2830684, 2090407, 1129519, 2307073, 468632, 1236319, 2370568, 167256]\n",
    "\n",
    "kryptogram = [16945769, 17229537, 19833702, 10948265, 8745676, 13105304, 10936334]\n",
    "\n",
    "T = []\n",
    "for c in kryptogram:\n",
    "\n",
    "    d = 0\n",
    "    while d != c:\n",
    "        d = 0\n",
    "        t = [randint(0, 1) for i in range(len(w))]\n",
    "        for i in range(len(w)): d += w[i] * t[i]  \n",
    "\n",
    "    T += t\n",
    "\n",
    "print(bitar(T))\n"
   ]
  },
  {
   "cell_type": "markdown",
   "metadata": {
    "collapsed": false,
    "jupyter": {
     "outputs_hidden": false
    }
   },
   "source": [
    "## Uppgift 8"
   ]
  },
  {
   "cell_type": "code",
   "execution_count": 2,
   "metadata": {
    "collapsed": false,
    "jupyter": {
     "outputs_hidden": false
    }
   },
   "outputs": [],
   "source": [
    "p = 28423087111\n",
    "A = 51750072\n",
    "B = 48451103\n",
    "\n",
    "pretty_print_default(True)"
   ]
  },
  {
   "cell_type": "markdown",
   "metadata": {
    "collapsed": false,
    "jupyter": {
     "outputs_hidden": false
    }
   },
   "source": [
    "### Deluppgift a"
   ]
  },
  {
   "cell_type": "code",
   "execution_count": 3,
   "metadata": {
    "collapsed": false,
    "jupyter": {
     "outputs_hidden": false
    }
   },
   "outputs": [
    {
     "data": {
      "text/html": [
       "<html>\\(\\displaystyle y^2 = x^{3} + 51750072 x + 48451103 \\)</html>"
      ],
      "text/latex": [
       "$\\displaystyle y^2 = x^{3} + 51750072 x + 48451103 $"
      ],
      "text/plain": [
       "Elliptic Curve defined by y^2 = x^3 + 51750072*x + 48451103 over Finite Field of size 28423087111"
      ]
     },
     "execution_count": 3,
     "metadata": {},
     "output_type": "execute_result"
    }
   ],
   "source": [
    "if 4 * A**3 + 27 * B**2 % p == 0:\n",
    "    print(\"lmao, nah\")\n",
    "\n",
    "E = EllipticCurve(GF(p), [A, B])\n",
    "E"
   ]
  },
  {
   "cell_type": "markdown",
   "metadata": {
    "collapsed": false,
    "jupyter": {
     "outputs_hidden": false
    }
   },
   "source": [
    "### Deluppgift b"
   ]
  },
  {
   "cell_type": "code",
   "execution_count": 4,
   "metadata": {
    "collapsed": false,
    "jupyter": {
     "outputs_hidden": false
    }
   },
   "outputs": [],
   "source": [
    "P = (17827263001, 13035499636)"
   ]
  },
  {
   "cell_type": "markdown",
   "metadata": {
    "collapsed": false,
    "jupyter": {
     "outputs_hidden": false
    }
   },
   "source": [
    "### Deluppgift c"
   ]
  },
  {
   "cell_type": "code",
   "execution_count": null,
   "metadata": {
    "collapsed": false,
    "jupyter": {
     "outputs_hidden": false
    }
   },
   "outputs": [],
   "source": [
    "n = 703815291"
   ]
  },
  {
   "cell_type": "markdown",
   "metadata": {
    "collapsed": false,
    "jupyter": {
     "outputs_hidden": false
    }
   },
   "source": [
    "### Deluppgift d"
   ]
  },
  {
   "cell_type": "code",
   "execution_count": null,
   "metadata": {
    "collapsed": false,
    "jupyter": {
     "outputs_hidden": false
    }
   },
   "outputs": [],
   "source": [
    "klartext = '12 Angry Men (1957)'"
   ]
  },
  {
   "cell_type": "markdown",
   "metadata": {
    "collapsed": false,
    "jupyter": {
     "outputs_hidden": false
    }
   },
   "source": [
    "### Deluppgift e"
   ]
  },
  {
   "cell_type": "code",
   "execution_count": null,
   "metadata": {
    "collapsed": false,
    "jupyter": {
     "outputs_hidden": false
    }
   },
   "outputs": [],
   "source": []
  },
  {
   "cell_type": "markdown",
   "metadata": {
    "collapsed": false,
    "jupyter": {
     "outputs_hidden": false
    }
   },
   "source": [
    "### Deluppgift f"
   ]
  },
  {
   "cell_type": "code",
   "execution_count": null,
   "metadata": {
    "collapsed": false,
    "jupyter": {
     "outputs_hidden": false
    }
   },
   "outputs": [],
   "source": [
    "a = 511073\n",
    "k0 = 754689"
   ]
  },
  {
   "cell_type": "markdown",
   "metadata": {
    "collapsed": false,
    "jupyter": {
     "outputs_hidden": false
    }
   },
   "source": [
    "### Deluppgift g"
   ]
  },
  {
   "cell_type": "code",
   "execution_count": null,
   "metadata": {
    "collapsed": false,
    "jupyter": {
     "outputs_hidden": false
    }
   },
   "outputs": [],
   "source": []
  },
  {
   "cell_type": "markdown",
   "metadata": {
    "collapsed": false,
    "jupyter": {
     "outputs_hidden": false
    }
   },
   "source": [
    "### Deluppgift h"
   ]
  },
  {
   "cell_type": "code",
   "execution_count": null,
   "metadata": {
    "collapsed": false,
    "jupyter": {
     "outputs_hidden": false
    }
   },
   "outputs": [],
   "source": [
    "# C_1 = (259001114, 11319149301),    D_1 = (28044309100, 9479496133)\n",
    "# C_2 = (19624816266, 6805960460),   D_2 = (16868063436, 22847875734)\n",
    "# C_3 = (10934531905, 23971950229),  D_3 = (2746520813, 17352690532)\n",
    "# C_4 = (25129323555, 10957246300),  D_4 = (19222310662, 21401941494)\n",
    "# C_5 = (15835791179, 24968894717),  D_5 = (12095976183, 27021271659)\n",
    "# C_6 = (27558813528, 17869953573),  D_6 = (2682114766, 4819368221)\n",
    "# C_7 = (8605805897, 17626699252),   D_7 = (17064452028, 23092004243)"
   ]
  }
 ],
 "metadata": {
  "kernelspec": {
   "display_name": "SageMath 10.4",
   "language": "sage",
   "name": "sagemath"
  },
  "language_info": {
   "codemirror_mode": {
    "name": "ipython",
    "version": 3
   },
   "file_extension": ".py",
   "mimetype": "text/x-python",
   "name": "python",
   "nbconvert_exporter": "python",
   "pygments_lexer": "ipython3",
   "version": "3.12.6"
  }
 },
 "nbformat": 4,
 "nbformat_minor": 4
}
