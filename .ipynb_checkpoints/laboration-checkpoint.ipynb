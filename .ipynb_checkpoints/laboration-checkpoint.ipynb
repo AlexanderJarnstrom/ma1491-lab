{
 "cells": [
  {
   "cell_type": "markdown",
   "metadata": {
    "collapsed": false,
    "jupyter": {
     "outputs_hidden": false
    }
   },
   "source": [
    "# Laboration\n",
    "\n",
    "MA1491 Kryptering 2, vårenhösten 2024\n"
   ]
  },
  {
   "cell_type": "markdown",
   "metadata": {
    "collapsed": false,
    "jupyter": {
     "outputs_hidden": false
    }
   },
   "source": [
    "Namn: Alexander Järnström\n",
    "\n"
   ]
  },
  {
   "cell_type": "code",
   "execution_count": 57,
   "metadata": {
    "collapsed": false,
    "jupyter": {
     "outputs_hidden": false
    }
   },
   "outputs": [],
   "source": [
    "load('kryptering2.sage')"
   ]
  },
  {
   "cell_type": "markdown",
   "metadata": {
    "collapsed": false,
    "jupyter": {
     "outputs_hidden": false
    }
   },
   "source": [
    "## Uppgift 1"
   ]
  },
  {
   "cell_type": "code",
   "execution_count": 92,
   "metadata": {
    "collapsed": false,
    "jupyter": {
     "outputs_hidden": false
    }
   },
   "outputs": [],
   "source": [
    "p = 13783486447462776559\n",
    "q = 13532038940117528431"
   ]
  },
  {
   "cell_type": "markdown",
   "metadata": {
    "collapsed": false,
    "jupyter": {
     "outputs_hidden": false
    }
   },
   "source": [
    "### Deluppgift a"
   ]
  },
  {
   "cell_type": "code",
   "execution_count": 93,
   "metadata": {
    "collapsed": false,
    "jupyter": {
     "outputs_hidden": false
    }
   },
   "outputs": [
    {
     "name": "stdout",
     "output_type": "stream",
     "text": [
      "b = 62172891779216169377595757173294282976\n",
      "n = 186518675337648508132787271519882848929\n"
     ]
    }
   ],
   "source": [
    "n = p * q\n",
    "b = floor(n/3)\n",
    "\n",
    "print(f\"b = {b}\\nn = {n}\")"
   ]
  },
  {
   "cell_type": "markdown",
   "metadata": {
    "collapsed": false,
    "jupyter": {
     "outputs_hidden": false
    }
   },
   "source": [
    "### Deluppgift b"
   ]
  },
  {
   "cell_type": "code",
   "execution_count": 94,
   "metadata": {
    "collapsed": false,
    "jupyter": {
     "outputs_hidden": false
    }
   },
   "outputs": [
    {
     "name": "stdout",
     "output_type": "stream",
     "text": [
      "k = 64\n"
     ]
    }
   ],
   "source": [
    "a = floor(log(n, 2))\n",
    "k = 8\n",
    "\n",
    "# loop till k is found\n",
    "while k * 8 < a: \n",
    "    k = k * 8\n",
    "    \n",
    "print(f\"k = {k}\")"
   ]
  },
  {
   "cell_type": "markdown",
   "metadata": {
    "collapsed": false,
    "jupyter": {
     "outputs_hidden": false
    }
   },
   "source": [
    "### Deluppgift c"
   ]
  },
  {
   "cell_type": "code",
   "execution_count": 95,
   "metadata": {
    "collapsed": false,
    "jupyter": {
     "outputs_hidden": false
    }
   },
   "outputs": [],
   "source": [
    "klartext = 'These go to eleven. (This is Spinal Tap, 1984)'"
   ]
  },
  {
   "cell_type": "code",
   "execution_count": 63,
   "metadata": {},
   "outputs": [
    {
     "name": "stdout",
     "output_type": "stream",
     "text": [
      "[126612371356565718447919210300493481727, 10610942944990769169118151110796103445, 119863195020717021043546586454638036973, 57724497804293356314616441894580775128, 10253869326729109766783377028038027978, 124345783560484814576249846180449155766]\n"
     ]
    }
   ],
   "source": [
    "M = kod(klartext, k)\n",
    "\n",
    "# c_i = E(m_i) = m_i(m_i + b) % n\n",
    "C = list(map(lambda m_i: (m_i * (m_i + b)) % n, M))\n",
    "print(C)"
   ]
  },
  {
   "cell_type": "markdown",
   "metadata": {
    "collapsed": false,
    "jupyter": {
     "outputs_hidden": false
    }
   },
   "source": [
    "### Deluppgift d"
   ]
  },
  {
   "cell_type": "code",
   "execution_count": 64,
   "metadata": {
    "collapsed": false,
    "jupyter": {
     "outputs_hidden": false
    }
   },
   "outputs": [],
   "source": [
    "kryptogram = [160795731999032337861134902941169117308,\n",
    "              22471857333221628916246751204990530034,\n",
    "              13256084483512804007835775589498989766,\n",
    "              132556538342009962688476211118157412564,\n",
    "              8860749750549874297517402384992965393,\n",
    "              171133847251710902833877936821583887907,\n",
    "              124345918171523210871726358803050666306]"
   ]
  },
  {
   "cell_type": "code",
   "execution_count": 96,
   "metadata": {
    "scrolled": true
   },
   "outputs": [
    {
     "name": "stdout",
     "output_type": "stream",
     "text": [
      "\n",
      "=[0]=========\n",
      "\n",
      "Îá¦0\"\u0013=jßÄì1¹G\n",
      "I have come her\n",
      "»\u0019]ï]\u0004Ô«ñÔ4í\n",
      "óR ²V·¤}­ÙîÒ\u0015\n",
      "\n",
      "=[1]=========\n",
      "\n",
      "ó¼¯\"{òTÇ<½:\n",
      "\\Q",
      "á³\u0006©é!8\u0013¾\u001f]\n",
      "e to chew bubbl\n",
      "´î\u0005±\u0017ºÑníþ®ãÎ\"\n",
      "\n",
      "=[2]=========\n",
      "\n",
      "\\\n",
      "ãª@×0ª\n",
      "\u0000+]\n",
      "M§²Q3·§}®\f",
      "o\n",
      "\u0015\u0012È1à¶/îJ(sDMz\n",
      "egum and kick a\n",
      "\n",
      "=[3]=========\n",
      "\n",
      "NþÊ\"¦I ü!Q\u0000+]\n",
      "Eþù±YÍçfcu3\n",
      "\u0017\u000f®Æ$ö\u0014¯èÌ%\u000f½\u0016*\n",
      "ss... and I'm a\n",
      "\n",
      "=[4]=========\n",
      "\n",
      "U\u0005Ùá^õÓú!8\u0013¾\u001f]\n",
      "pô°|\u0002\u0015'\"|#W\u0007 ¹Î\u001d",
      "\n",
      "Q}HÔÑTÍìä\u001e",
      "C\u0006Vg½?\n",
      "ll out of bubbl\n",
      "\n",
      "=[5]=========\n",
      "\n",
      "\u0011\u001e",
      "3=íZö*ø~Ñ£¶y>\n",
      "egum (They Live\n",
      "\\\n",
      "ã³A ¦ûÈyÁ\f",
      "ª&]\n",
      "°SÆÆ|\u00186J\u001b<Òi\u0012\u001f\n",
      "\n",
      "=[6]=========\n",
      "\n",
      "v ]1Ë\u000eaB\n",
      "A¾¬Ñ¼(\u0001L5ã\"gbg«<\n",
      "³L\u0017AóÂ+_w¦\u0013¹à \n",
      ", 1988)\u0000\n"
     ]
    }
   ],
   "source": [
    "# create y.\n",
    "y = (n + 1)/2\n",
    "\n",
    "C = kryptogram\n",
    "\n",
    "# counter to make prints clearer.\n",
    "counter = 0\n",
    "\n",
    "# loop through the cryptograms.\n",
    "for c in C:\n",
    "    print(f\"\\n=[{counter}]=========\\n\")\n",
    "    counter += 1\n",
    "\n",
    "    # create the two a's, a_1 = c + yb² (mod p) and a_2 = c+yb² (mod q).\n",
    "    a_1 = (c + ((y * b)^2)) % p \n",
    "    a_2 = (c + ((y * b)^2)) % q\n",
    "\n",
    "    # create the two x's each based on their a's.\n",
    "    # x_1 = a_1^(p + 1)/4 (mod p)\n",
    "    # x_2 = a_2^(q + 1)/4 (mod q)\n",
    "    x_1 = power_mod(a_1, (p + 1) / 4, p)\n",
    "    x_2 = power_mod(a_2, (q + 1) / 4, q) \n",
    "\n",
    "    # solve for all the x's\n",
    "    # solve x = x_1 (mod p) and x = x_2 (mod q)\n",
    "    x = crt([x_1, x_2], [p, q])\n",
    "    m = (x - y * b) % n\n",
    "    print(kod([m], k))\n",
    "    \n",
    "    # solve x = p - x_1 (mod p) and x = x_2 (mod q)\n",
    "    x = crt([p - x_1, x_2], [p, q])\n",
    "    m = (x - y * b) % n\n",
    "    print(kod([m], k))\n",
    "    \n",
    "    # solve x = x_1 (mod p) and x = q - x_2 (mod q)\n",
    "    x = crt([x_1, q - x_2], [p, q])\n",
    "    m = (x - y * b) % n\n",
    "    print(kod([m], k))\n",
    "    \n",
    "    # solve x = p - x_1 (mod p) and x = q - x_2 (mod q)\n",
    "    x = crt([p - x_1, q - x_2], [p, q])\n",
    "    m = (x - y * b) % n\n",
    "    print(kod([m], k))"
   ]
  },
  {
   "cell_type": "markdown",
   "metadata": {},
   "source": [
    "klartext = I have come here to chew bubblegum and kick ass... and I'm all out of bubblegum (They Live, 1988)"
   ]
  },
  {
   "cell_type": "markdown",
   "metadata": {
    "collapsed": false,
    "jupyter": {
     "outputs_hidden": false
    }
   },
   "source": [
    "## Uppgift 2"
   ]
  },
  {
   "cell_type": "code",
   "execution_count": 66,
   "metadata": {
    "collapsed": false,
    "jupyter": {
     "outputs_hidden": false
    }
   },
   "outputs": [],
   "source": [
    "heltal = [708135681371,\n",
    "          1412536792680015997,\n",
    "          95270801418092775165121913281,\n",
    "          359211301308594647469531797189639,\n",
    "          14683859981444130204708927334356982829,\n",
    "          7528575712348838132721848826467242743143,\n",
    "          52315285858560849957648945390281417094685881389288399,\n",
    "          976446009728623913234119178855528065696691676752499533,\n",
    "          577048900428714995413742965756994328276447681053651695320078699419496386017830817112881,\n",
    "          98019457094851014537689242474466616941261641321201346560044633094007486512688945300826383626603]"
   ]
  },
  {
   "cell_type": "code",
   "execution_count": 107,
   "metadata": {},
   "outputs": [
    {
     "name": "stdout",
     "output_type": "stream",
     "text": [
      "[ value ] 708135681371\n",
      "[ tries ] 88\n",
      "[ solution ] 26699\n",
      "\n",
      "[ value ] 1412536792680015997\n",
      "[ tries ] 41288\n",
      "[ solution ] 1008406127\n",
      "\n",
      "[ value ] 95270801418092775165121913281\n",
      "[ tries ] 7752431\n",
      "[ solution ] 100240779736423\n",
      "\n",
      "[ value ] 359211301308594647469531797189639\n",
      "[ tries ] 1510\n",
      "[ solution ] 2605501\n",
      "\n",
      "[ value ] 14683859981444130204708927334356982829\n",
      "[ tries ] 799042\n",
      "[ solution ] 1801642489027\n",
      "\n",
      "[ value ] 7528575712348838132721848826467242743143\n",
      "[ tries ] 7255\n",
      "[ solution ] 94480583\n",
      "\n",
      "[ value ] 52315285858560849957648945390281417094685881389288399\n",
      "[ tries ] 83886\n",
      "[ solution ] 10553504543\n",
      "\n",
      "[ value ] 976446009728623913234119178855528065696691676752499533\n",
      "[ tries ] 120\n",
      "[ solution ] 252233\n",
      "\n",
      "[ value ] 577048900428714995413742965756994328276447681053651695320078699419496386017830817112881\n",
      "[ tries ] 14\n",
      "[ solution ] 739\n",
      "\n",
      "[ value ] 98019457094851014537689242474466616941261641321201346560044633094007486512688945300826383626603\n",
      "[ tries ] 2\n",
      "[ solution ] 31\n",
      "\n"
     ]
    }
   ],
   "source": [
    "def pollards_rho_metho(n: Integer):\n",
    "    tries = 0\n",
    "    x = 2\n",
    "    y = 2\n",
    "\n",
    "    # will try for a maximum of 10000000 times\n",
    "    while tries < 10000000:\n",
    "        tries += 1\n",
    "        \n",
    "        # x_i = f(x_(i-1))\n",
    "        # x_i = x_(i-1)^2 + 1 (mod n)\n",
    "        x = (x**2 + 1) % n\n",
    "\n",
    "        # y_i = f(f(y_(i-1)))\n",
    "        # y_i = (y_(i-1)^2 + 1)^2 + 1 (mod n)\n",
    "        y = ((y**2 + 1)**2 + 1) % n\n",
    "        \n",
    "        d = gcd(x - y, n)\n",
    "        # check if non trivial solution was found\n",
    "        if 1 < d and d < n:\n",
    "            break\n",
    "\n",
    "    print(f\"[ value ] {n}\\n[ tries ] {tries}\\n[ solution ] {d}\\n\")\n",
    "\n",
    "for n in heltal:\n",
    "    pollards_rho_metho(n)"
   ]
  },
  {
   "cell_type": "markdown",
   "metadata": {
    "collapsed": false,
    "jupyter": {
     "outputs_hidden": false
    }
   },
   "source": [
    "## Uppgift 3"
   ]
  },
  {
   "cell_type": "code",
   "execution_count": 201,
   "metadata": {
    "collapsed": false,
    "jupyter": {
     "outputs_hidden": false
    }
   },
   "outputs": [],
   "source": [
    "n = 156328370943061"
   ]
  },
  {
   "cell_type": "markdown",
   "metadata": {
    "collapsed": false,
    "jupyter": {
     "outputs_hidden": false
    }
   },
   "source": [
    "### Deluppgift a"
   ]
  },
  {
   "cell_type": "code",
   "execution_count": 202,
   "metadata": {
    "collapsed": false,
    "jupyter": {
     "outputs_hidden": false
    }
   },
   "outputs": [
    {
     "name": "stdout",
     "output_type": "stream",
     "text": [
      "B: 1897\n",
      "V: 43271\n"
     ]
    }
   ],
   "source": [
    "# l = L(n)\n",
    "l = exp((sqrt(ln(n)*ln(ln(n)))))\n",
    "B = floor(l**(1/sqrt(2)))\n",
    "V = floor(l)\n",
    "\n",
    "print(f\"B: {B}\\nV: {V}\")"
   ]
  },
  {
   "cell_type": "markdown",
   "metadata": {
    "collapsed": false,
    "jupyter": {
     "outputs_hidden": false
    }
   },
   "source": [
    "### Deluppgift b"
   ]
  },
  {
   "cell_type": "code",
   "execution_count": 203,
   "metadata": {
    "collapsed": false,
    "jupyter": {
     "outputs_hidden": false
    }
   },
   "outputs": [
    {
     "name": "stdout",
     "output_type": "stream",
     "text": [
      "Faktorbas: [2, 3, 5, 7, 11, 19, 23, 29, 31, 41, 47, 59, 61, 67, 71, 83, 103, 109, 113, 127, 131, 139, 163, 167, 181, 199, 211, 229, 233, 251, 257, 269, 283, 313, 317, 331, 337, 349, 353, 367, 409, 419, 439, 449, 457, 461, 463, 467, 499, 503, 523, 547, 563, 569, 571, 577, 587, 601, 607, 617, 619, 631, 643, 647, 659, 683, 701, 719, 769, 809, 811, 827, 839, 863, 883, 907, 929, 937, 953, 971, 977, 983, 991, 1009, 1039, 1051, 1069, 1093, 1097, 1109, 1117, 1153, 1181, 1229, 1231, 1237, 1249, 1277, 1279, 1289, 1303, 1319, 1327, 1361, 1373, 1451, 1459, 1471, 1481, 1489, 1493, 1531, 1543, 1549, 1567, 1571, 1579, 1601, 1609, 1621, 1667, 1669, 1693, 1697, 1709, 1721, 1733, 1741, 1747, 1787, 1789, 1801, 1831, 1867]\n"
     ]
    }
   ],
   "source": [
    "base = [2]\n",
    "for p in prime_range(3, B + 1):\n",
    "    if legendre_symbol(n, p) == 1:\n",
    "        base += [p]\n",
    "    \n",
    "print(f\"Faktorbas: {base}\")"
   ]
  },
  {
   "cell_type": "markdown",
   "metadata": {
    "collapsed": false,
    "jupyter": {
     "outputs_hidden": false
    }
   },
   "source": [
    "### Deluppgift c"
   ]
  },
  {
   "cell_type": "code",
   "execution_count": 204,
   "metadata": {
    "collapsed": false,
    "jupyter": {
     "outputs_hidden": false
    }
   },
   "outputs": [
    {
     "name": "stdout",
     "output_type": "stream",
     "text": [
      "u: 12503135\n",
      "v: 12546405\n"
     ]
    }
   ],
   "source": [
    "u = floor(sqrt(n)) + 1\n",
    "v = floor(sqrt(n)) + V\n",
    "print(f\"u: {u}\\nv: {v}\")"
   ]
  },
  {
   "cell_type": "markdown",
   "metadata": {
    "collapsed": false,
    "jupyter": {
     "outputs_hidden": false
    }
   },
   "source": [
    "### Deluppgift d"
   ]
  },
  {
   "cell_type": "code",
   "execution_count": 205,
   "metadata": {
    "collapsed": false,
    "jupyter": {
     "outputs_hidden": false
    }
   },
   "outputs": [
    {
     "name": "stdout",
     "output_type": "stream",
     "text": [
      "43270\n"
     ]
    }
   ],
   "source": [
    "F = []\n",
    "T = list(range(u, v, 1))\n",
    "for x in range(u, v, 1):\n",
    "    F += [x**2 - n]\n",
    "\n",
    "print(len(F))"
   ]
  },
  {
   "cell_type": "markdown",
   "metadata": {
    "collapsed": false,
    "jupyter": {
     "outputs_hidden": false
    }
   },
   "source": [
    "### Deluppgift e"
   ]
  },
  {
   "cell_type": "code",
   "execution_count": 206,
   "metadata": {},
   "outputs": [],
   "source": [
    "def tonelli_and_shanks(a, p):\n",
    "    q = p - 1\n",
    "    e = 0\n",
    "    # finn q och e där q*2^e = p - 1.\n",
    "    while q % 2 == 0:\n",
    "        q = q / 2\n",
    "        e += 1\n",
    "    \n",
    "    _n = 1\n",
    "    # find a n where x^2 = n (mod p) cant be solved.\n",
    "    while legendre_symbol(_n, p) != -1:\n",
    "        _n = randint(0, p)\n",
    "\n",
    "    z = power_mod(_n, q, p)\n",
    "\n",
    "    y = z\n",
    "    r = e\n",
    "    x = power_mod(a, ((q - 1) / 2), p)\n",
    "    b = (a * x**2) % p\n",
    "    x = a * x % p\n",
    "\n",
    "    while True:\n",
    "        # stop if b = 1 (mod p)\n",
    "        if b % p == 1:\n",
    "            return x, (p - x) % p\n",
    "\n",
    "        # find the smallest m where b^2^m = 1 (mod p).\n",
    "        m = 0\n",
    "        t = power_mod(b, 2**m, p)\n",
    "        while t % p != 1:\n",
    "            m += 1\n",
    "            t = power_mod(b, 2**m, p)\n",
    "\n",
    "        # solution does not exist if m = r. \n",
    "        if m == r:\n",
    "            return None, None\n",
    "        \n",
    "        t = power_mod(y, 2**(r - m - 1), p)\n",
    "        y = power_mod(t, 2, p)\n",
    "        r = m\n",
    "        x = x * t % p\n",
    "        b = b * y % p\n",
    "        "
   ]
  },
  {
   "cell_type": "code",
   "execution_count": 207,
   "metadata": {},
   "outputs": [],
   "source": [
    "def hensels_lyft(p, a, k, alpha):\n",
    "    # Solves x^2 = a (mod p^k) where alpha was the previous solution\n",
    "    # and k is the wanted power.\n",
    "\n",
    "    # calculate beta.\n",
    "    beta = inverse_mod(2 * alpha, p)\n",
    "    beta = -beta * ((alpha**2) - a)\n",
    "    beta = beta / p**(k - 1)\n",
    "    beta = beta % p\n",
    "\n",
    "    # calculate the new alpha.\n",
    "    n_alpha = alpha + beta*(p**(k - 1))\n",
    "\n",
    "    # return the two solutions.\n",
    "    return Integer(n_alpha), (p**k - n_alpha) % p**k\n"
   ]
  },
  {
   "cell_type": "code",
   "execution_count": 208,
   "metadata": {},
   "outputs": [],
   "source": [
    "def sieve(T, F, r, s, p, k):\n",
    "    t_i = 0\n",
    "    first_r = -1\n",
    "    first_s = -1\n",
    "    p_k = p**k\n",
    "\n",
    "    # find the first values in T where t = r + p^k * i and t = s + p^k * i \n",
    "    for t in T:\n",
    "        i = 0\n",
    "        while i < v:\n",
    "            # p^k * i\n",
    "            p_k_i = p_k * i\n",
    "\n",
    "            # found i for r\n",
    "            if first_r == -1 and t == r + p_k_i:\n",
    "                first_r = t_i\n",
    "\n",
    "            # found i for s\n",
    "            if first_s == -1 and t == s + p_k_i:\n",
    "                first_s = t_i\n",
    "\n",
    "            # does not exist.\n",
    "            \n",
    "            if (s + p_k_i) > t and (r + p_k_i) > t:\n",
    "                break\n",
    "                \n",
    "            # found both starting points\n",
    "            elif first_r != -1 and first_s != -1:\n",
    "                break\n",
    "                \n",
    "            # count as normal\n",
    "            i += 1\n",
    "\n",
    "        # if starting point has been found for both r and s break out.\n",
    "        if first_r != -1 and first_s != -1:\n",
    "            break\n",
    "        \n",
    "        t_i += 1\n",
    "\n",
    "    # if no starting point was found, then done.\n",
    "    if first_r == -1 or first_s == -1:\n",
    "        return True\n",
    "\n",
    "    # divide every valid value with p with starting point r.\n",
    "    for i in range(first_r, len(F), p_k):\n",
    "        F[i] = F[i] / p\n",
    "    \n",
    "    # divide every valid value with p with starting point s.\n",
    "    for i in range(first_s, len(F), p_k):\n",
    "        F[i] = F[i] / p\n",
    "\n",
    "    # not done with this prime yet.\n",
    "    return False"
   ]
  },
  {
   "cell_type": "code",
   "execution_count": 209,
   "metadata": {
    "collapsed": false,
    "jupyter": {
     "outputs_hidden": false
    },
    "scrolled": true
   },
   "outputs": [
    {
     "name": "stdout",
     "output_type": "stream",
     "text": [
      "C size: 858\n"
     ]
    }
   ],
   "source": [
    "# copy for later use.\n",
    "F_temp = copy(F)\n",
    "\n",
    "# handle p = 2\n",
    "p = 2\n",
    "\n",
    "k = 1\n",
    "while n % p**k == 1:\n",
    "    if T[0] % 2 == 1:\n",
    "        alpha = 0\n",
    "    else:\n",
    "        alpha = 1\n",
    "\n",
    "    for i in range(alpha, len(F), 2):\n",
    "        F[i] = F[i] / p\n",
    "    \n",
    "    k += 1\n",
    "\n",
    "# handle the rest\n",
    "for p in base[1:]:\n",
    "    k = 1\n",
    "    \n",
    "    while True:\n",
    "        # find the first solution\n",
    "        if k == 1:\n",
    "            r, s = tonelli_and_shanks(n, p)\n",
    "\n",
    "        # find the rest of them\n",
    "        else:\n",
    "            r, s = hansens_lyft(p, n, k, r)\n",
    "\n",
    "        # sieve away\n",
    "        done = sieve(T, F, r, s, p, k)\n",
    "\n",
    "        # if could not find start point for r and s, done.\n",
    "        if done:\n",
    "            break\n",
    "\n",
    "        # increase the power\n",
    "        k += 1\n",
    "\n",
    "A = []\n",
    "C = []\n",
    "\n",
    "for i in range(len(F)):\n",
    "    if F[i] == 1:\n",
    "        C += [F_temp[i]]\n",
    "        A += [T[i]]\n",
    "\n",
    "print(f\"C size: {len(C)}\")"
   ]
  },
  {
   "cell_type": "markdown",
   "metadata": {
    "collapsed": false,
    "jupyter": {
     "outputs_hidden": false
    }
   },
   "source": [
    "### Deluppgift f"
   ]
  },
  {
   "cell_type": "code",
   "execution_count": 214,
   "metadata": {
    "collapsed": false,
    "jupyter": {
     "outputs_hidden": false
    },
    "scrolled": true
   },
   "outputs": [],
   "source": [
    "B_squared = []\n",
    "\n",
    "# loop through them and save every combination where\n",
    "# c_i * c_j * c_k is squared.\n",
    "# start at 0\n",
    "for i in range(len(C)):\n",
    "    # starts at i\n",
    "    for j in range(i + 1, len(C)):\n",
    "        # starts at j\n",
    "        for k in range(j + 1, len(C)):\n",
    "            # if squared save for later.\n",
    "            if is_square(C[i] * C[j] * C[k] % n):\n",
    "                B_squared += [(i, j, k)]"
   ]
  },
  {
   "cell_type": "markdown",
   "metadata": {
    "collapsed": false,
    "jupyter": {
     "outputs_hidden": false
    }
   },
   "source": [
    "### Deluppgift g"
   ]
  },
  {
   "cell_type": "code",
   "execution_count": 212,
   "metadata": {
    "collapsed": false,
    "jupyter": {
     "outputs_hidden": false
    }
   },
   "outputs": [],
   "source": [
    "ab = []\n",
    "\n",
    "# create the pairs\n",
    "for (i, j , k) in B_squard:\n",
    "    a = A[i] * A[j] * A[k] % n\n",
    "    b = sqrt((C[i] * C[j] * C[k]) % n)\n",
    "    ab += [(a, b)]"
   ]
  },
  {
   "cell_type": "markdown",
   "metadata": {
    "collapsed": false,
    "jupyter": {
     "outputs_hidden": false
    }
   },
   "source": [
    "### Deluppgift h"
   ]
  },
  {
   "cell_type": "code",
   "execution_count": 213,
   "metadata": {
    "collapsed": false,
    "jupyter": {
     "outputs_hidden": false
    }
   },
   "outputs": [
    {
     "data": {
      "text/html": [
       "<html>\\(\\displaystyle \\left[15279769, 10231069\\right]\\)</html>"
      ],
      "text/latex": [
       "$\\displaystyle \\left[15279769, 10231069\\right]$"
      ],
      "text/plain": [
       "[15279769, 10231069]"
      ]
     },
     "execution_count": 213,
     "metadata": {},
     "output_type": "execute_result"
    }
   ],
   "source": [
    "G = []\n",
    "\n",
    "# find all the valid combinations and save the unique ones.\n",
    "for a, b in ab:\n",
    "    g = gcd(a - b, n)\n",
    "    if g != 1 and g != n and g not in G:\n",
    "        G += [g]\n",
    "\n",
    "G"
   ]
  },
  {
   "cell_type": "markdown",
   "metadata": {
    "collapsed": false,
    "jupyter": {
     "outputs_hidden": false
    }
   },
   "source": [
    "## Uppgift 4"
   ]
  },
  {
   "cell_type": "code",
   "execution_count": 190,
   "metadata": {
    "collapsed": false,
    "jupyter": {
     "outputs_hidden": false
    }
   },
   "outputs": [],
   "source": [
    "pretty_print_default(True)\n",
    "implicit_multiplication(True)\n",
    "\n",
    "R.<x> = GF(2)[]\n",
    "F.<x> = GF(2^8, name = 'x', modulus = x^8 + x^4 + x^3 + x + 1)"
   ]
  },
  {
   "cell_type": "markdown",
   "metadata": {
    "collapsed": false,
    "jupyter": {
     "outputs_hidden": false
    }
   },
   "source": [
    "### Deluppgift a"
   ]
  },
  {
   "cell_type": "code",
   "execution_count": 191,
   "metadata": {
    "collapsed": false,
    "jupyter": {
     "outputs_hidden": false
    }
   },
   "outputs": [
    {
     "data": {
      "text/html": [
       "<html>\\(\\displaystyle x^{4} + x^{3} + x + 1\\)</html>"
      ],
      "text/latex": [
       "$\\displaystyle x^{4} + x^{3} + x + 1$"
      ],
      "text/plain": [
       "x^4 + x^3 + x + 1"
      ]
     },
     "metadata": {},
     "output_type": "display_data"
    },
    {
     "data": {
      "text/html": [
       "<html>\\(\\displaystyle x^{5} + x^{4} + x^{2} + x\\)</html>"
      ],
      "text/latex": [
       "$\\displaystyle x^{5} + x^{4} + x^{2} + x$"
      ],
      "text/plain": [
       "x^5 + x^4 + x^2 + x"
      ]
     },
     "metadata": {},
     "output_type": "display_data"
    }
   ],
   "source": [
    "g = x^8\n",
    "pretty_print(g)\n",
    "g = x^9\n",
    "pretty_print(g)"
   ]
  },
  {
   "cell_type": "markdown",
   "metadata": {
    "collapsed": false,
    "jupyter": {
     "outputs_hidden": false
    }
   },
   "source": [
    "### Deluppgift b"
   ]
  },
  {
   "cell_type": "code",
   "execution_count": 192,
   "metadata": {
    "collapsed": false,
    "jupyter": {
     "outputs_hidden": false
    }
   },
   "outputs": [
    {
     "data": {
      "text/html": [
       "<html>\\(\\displaystyle x^{6} + x^{5} + x^{2}\\)</html>"
      ],
      "text/latex": [
       "$\\displaystyle x^{6} + x^{5} + x^{2}$"
      ],
      "text/plain": [
       "x^6 + x^5 + x^2"
      ]
     },
     "metadata": {},
     "output_type": "display_data"
    }
   ],
   "source": [
    "g = x^7 + x^4 + x + 1\n",
    "h = x^5 + x^2 + 1\n",
    "\n",
    "j = g^4 * h\n",
    "pretty_print(j)"
   ]
  },
  {
   "cell_type": "markdown",
   "metadata": {
    "collapsed": false,
    "jupyter": {
     "outputs_hidden": false
    }
   },
   "source": [
    "### Deluppgift c"
   ]
  },
  {
   "cell_type": "code",
   "execution_count": 193,
   "metadata": {
    "collapsed": false,
    "jupyter": {
     "outputs_hidden": false
    }
   },
   "outputs": [
    {
     "data": {
      "text/html": [
       "<html>\\(\\displaystyle x^{33} + x^{30} + x^{28} + x^{21} + x^{18} + x^{16} + x^{9} + x^{6} + x^{5} + x^{4} + x^{2} + 1\\)</html>"
      ],
      "text/latex": [
       "$\\displaystyle x^{33} + x^{30} + x^{28} + x^{21} + x^{18} + x^{16} + x^{9} + x^{6} + x^{5} + x^{4} + x^{2} + 1$"
      ],
      "text/plain": [
       "x^33 + x^30 + x^28 + x^21 + x^18 + x^16 + x^9 + x^6 + x^5 + x^4 + x^2 + 1"
      ]
     },
     "metadata": {},
     "output_type": "display_data"
    }
   ],
   "source": [
    "m = R(g)\n",
    "n = R(h)\n",
    "\n",
    "j = m^4 * n\n",
    "pretty_print(j)"
   ]
  },
  {
   "cell_type": "markdown",
   "metadata": {
    "collapsed": false,
    "jupyter": {
     "outputs_hidden": false
    }
   },
   "source": [
    "### Deluppgift d"
   ]
  },
  {
   "cell_type": "code",
   "execution_count": 194,
   "metadata": {
    "collapsed": false,
    "jupyter": {
     "outputs_hidden": false
    }
   },
   "outputs": [
    {
     "data": {
      "text/html": [
       "<html>\\(\\displaystyle x^{6} + x^{3} + x^{2} + 1\\)</html>"
      ],
      "text/latex": [
       "$\\displaystyle x^{6} + x^{3} + x^{2} + 1$"
      ],
      "text/plain": [
       "x^6 + x^3 + x^2 + 1"
      ]
     },
     "execution_count": 194,
     "metadata": {},
     "output_type": "execute_result"
    }
   ],
   "source": [
    "g = x^5 + x^2 + 1\n",
    "g^-1"
   ]
  },
  {
   "cell_type": "markdown",
   "metadata": {
    "collapsed": false,
    "jupyter": {
     "outputs_hidden": false
    }
   },
   "source": [
    "### Deluppgift e"
   ]
  },
  {
   "cell_type": "code",
   "execution_count": 195,
   "metadata": {
    "collapsed": false,
    "jupyter": {
     "outputs_hidden": false
    }
   },
   "outputs": [
    {
     "data": {
      "text/html": [
       "<html>\\(\\displaystyle x^{6} + x^{4}\\)</html>"
      ],
      "text/latex": [
       "$\\displaystyle x^{6} + x^{4}$"
      ],
      "text/plain": [
       "x^6 + x^4"
      ]
     },
     "metadata": {},
     "output_type": "display_data"
    },
    {
     "data": {
      "text/html": [
       "<html>\\(\\displaystyle x^{6} + x^{5} + x^{2} + 1\\)</html>"
      ],
      "text/latex": [
       "$\\displaystyle x^{6} + x^{5} + x^{2} + 1$"
      ],
      "text/plain": [
       "x^6 + x^5 + x^2 + 1"
      ]
     },
     "metadata": {},
     "output_type": "display_data"
    },
    {
     "data": {
      "text/html": [
       "<html>\\(\\displaystyle x^{6} + x^{5} + x^{4} + x\\)</html>"
      ],
      "text/latex": [
       "$\\displaystyle x^{6} + x^{5} + x^{4} + x$"
      ],
      "text/plain": [
       "x^6 + x^5 + x^4 + x"
      ]
     },
     "metadata": {},
     "output_type": "display_data"
    },
    {
     "data": {
      "text/html": [
       "<html>\\(\\displaystyle x^{6} + x^{5} + x^{4} + x + 1\\)</html>"
      ],
      "text/latex": [
       "$\\displaystyle x^{6} + x^{5} + x^{4} + x + 1$"
      ],
      "text/plain": [
       "x^6 + x^5 + x^4 + x + 1"
      ]
     },
     "metadata": {},
     "output_type": "display_data"
    },
    {
     "data": {
      "text/html": [
       "<html>\\(\\displaystyle x^{6} + x^{5} + x^{3} + x^{2} + x + 1\\)</html>"
      ],
      "text/latex": [
       "$\\displaystyle x^{6} + x^{5} + x^{3} + x^{2} + x + 1$"
      ],
      "text/plain": [
       "x^6 + x^5 + x^3 + x^2 + x + 1"
      ]
     },
     "metadata": {},
     "output_type": "display_data"
    },
    {
     "data": {
      "text/html": [
       "<html>\\(\\displaystyle x^{6} + x^{5} + x^{3} + x^{2} + x\\)</html>"
      ],
      "text/latex": [
       "$\\displaystyle x^{6} + x^{5} + x^{3} + x^{2} + x$"
      ],
      "text/plain": [
       "x^6 + x^5 + x^3 + x^2 + x"
      ]
     },
     "metadata": {},
     "output_type": "display_data"
    },
    {
     "data": {
      "text/html": [
       "<html>\\(\\displaystyle x^{6} + x^{5} + 1\\)</html>"
      ],
      "text/latex": [
       "$\\displaystyle x^{6} + x^{5} + 1$"
      ],
      "text/plain": [
       "x^6 + x^5 + 1"
      ]
     },
     "metadata": {},
     "output_type": "display_data"
    },
    {
     "data": {
      "text/html": [
       "<html>\\(\\displaystyle x^{5}\\)</html>"
      ],
      "text/latex": [
       "$\\displaystyle x^{5}$"
      ],
      "text/plain": [
       "x^5"
      ]
     },
     "metadata": {},
     "output_type": "display_data"
    },
    {
     "data": {
      "text/html": [
       "<html>\\(\\displaystyle x^{5} + x^{3}\\)</html>"
      ],
      "text/latex": [
       "$\\displaystyle x^{5} + x^{3}$"
      ],
      "text/plain": [
       "x^5 + x^3"
      ]
     },
     "metadata": {},
     "output_type": "display_data"
    },
    {
     "data": {
      "text/html": [
       "<html>\\(\\displaystyle x^{5} + x^{4} + 1\\)</html>"
      ],
      "text/latex": [
       "$\\displaystyle x^{5} + x^{4} + 1$"
      ],
      "text/plain": [
       "x^5 + x^4 + 1"
      ]
     },
     "metadata": {},
     "output_type": "display_data"
    },
    {
     "data": {
      "text/html": [
       "<html>\\(\\displaystyle x^{5} + x^{4} + x^{3} + 1\\)</html>"
      ],
      "text/latex": [
       "$\\displaystyle x^{5} + x^{4} + x^{3} + 1$"
      ],
      "text/plain": [
       "x^5 + x^4 + x^3 + 1"
      ]
     },
     "metadata": {},
     "output_type": "display_data"
    },
    {
     "data": {
      "text/html": [
       "<html>\\(\\displaystyle x^{5} + x^{4} + x^{2} + x\\)</html>"
      ],
      "text/latex": [
       "$\\displaystyle x^{5} + x^{4} + x^{2} + x$"
      ],
      "text/plain": [
       "x^5 + x^4 + x^2 + x"
      ]
     },
     "metadata": {},
     "output_type": "display_data"
    },
    {
     "data": {
      "text/html": [
       "<html>\\(\\displaystyle x^{5} + x^{4} + x^{2} + x\\)</html>"
      ],
      "text/latex": [
       "$\\displaystyle x^{5} + x^{4} + x^{2} + x$"
      ],
      "text/plain": [
       "x^5 + x^4 + x^2 + x"
      ]
     },
     "metadata": {},
     "output_type": "display_data"
    },
    {
     "data": {
      "text/html": [
       "<html>\\(\\displaystyle x^{5} + x^{3} + 1\\)</html>"
      ],
      "text/latex": [
       "$\\displaystyle x^{5} + x^{3} + 1$"
      ],
      "text/plain": [
       "x^5 + x^3 + 1"
      ]
     },
     "metadata": {},
     "output_type": "display_data"
    }
   ],
   "source": [
    "T = 'Persona (1966)'\n",
    "P = [F(ZZ(ord(t)).digits(base = 2, padto = 8)) for t in T]\n",
    "\n",
    "for p  in P:\n",
    "    pretty_print(p)"
   ]
  },
  {
   "cell_type": "markdown",
   "metadata": {
    "collapsed": false,
    "jupyter": {
     "outputs_hidden": false
    }
   },
   "source": [
    "### Deluppgift f"
   ]
  },
  {
   "cell_type": "code",
   "execution_count": 196,
   "metadata": {
    "collapsed": false,
    "jupyter": {
     "outputs_hidden": false
    }
   },
   "outputs": [
    {
     "data": {
      "text/html": [
       "<html>\\(\\displaystyle x^{7} + x^{4} + x^{2} + 1\\)</html>"
      ],
      "text/latex": [
       "$\\displaystyle x^{7} + x^{4} + x^{2} + 1$"
      ],
      "text/plain": [
       "x^7 + x^4 + x^2 + 1"
      ]
     },
     "metadata": {},
     "output_type": "display_data"
    },
    {
     "data": {
      "text/html": [
       "<html>\\(\\displaystyle x^{6} + x^{2}\\)</html>"
      ],
      "text/latex": [
       "$\\displaystyle x^{6} + x^{2}$"
      ],
      "text/plain": [
       "x^6 + x^2"
      ]
     },
     "metadata": {},
     "output_type": "display_data"
    },
    {
     "data": {
      "text/html": [
       "<html>\\(\\displaystyle x^{6} + x\\)</html>"
      ],
      "text/latex": [
       "$\\displaystyle x^{6} + x$"
      ],
      "text/plain": [
       "x^6 + x"
      ]
     },
     "metadata": {},
     "output_type": "display_data"
    },
    {
     "data": {
      "text/html": [
       "<html>\\(\\displaystyle x^{7} + x^{4} + x^{3} + x + 1\\)</html>"
      ],
      "text/latex": [
       "$\\displaystyle x^{7} + x^{4} + x^{3} + x + 1$"
      ],
      "text/plain": [
       "x^7 + x^4 + x^3 + x + 1"
      ]
     },
     "metadata": {},
     "output_type": "display_data"
    },
    {
     "data": {
      "text/html": [
       "<html>\\(\\displaystyle x^{6} + x^{5} + x^{4} + x^{3} + x^{2} + x + 1\\)</html>"
      ],
      "text/latex": [
       "$\\displaystyle x^{6} + x^{5} + x^{4} + x^{3} + x^{2} + x + 1$"
      ],
      "text/plain": [
       "x^6 + x^5 + x^4 + x^3 + x^2 + x + 1"
      ]
     },
     "metadata": {},
     "output_type": "display_data"
    },
    {
     "data": {
      "text/html": [
       "<html>\\(\\displaystyle x^{7} + x^{5} + x^{2} + x\\)</html>"
      ],
      "text/latex": [
       "$\\displaystyle x^{7} + x^{5} + x^{2} + x$"
      ],
      "text/plain": [
       "x^7 + x^5 + x^2 + x"
      ]
     },
     "metadata": {},
     "output_type": "display_data"
    },
    {
     "data": {
      "text/html": [
       "<html>\\(\\displaystyle x^{3} + x^{2} + 1\\)</html>"
      ],
      "text/latex": [
       "$\\displaystyle x^{3} + x^{2} + 1$"
      ],
      "text/plain": [
       "x^3 + x^2 + 1"
      ]
     },
     "metadata": {},
     "output_type": "display_data"
    },
    {
     "data": {
      "text/html": [
       "<html>\\(\\displaystyle x^{5} + x^{3}\\)</html>"
      ],
      "text/latex": [
       "$\\displaystyle x^{5} + x^{3}$"
      ],
      "text/plain": [
       "x^5 + x^3"
      ]
     },
     "metadata": {},
     "output_type": "display_data"
    },
    {
     "data": {
      "text/html": [
       "<html>\\(\\displaystyle x^{7} + x^{5} + x^{4} + x^{3} + x\\)</html>"
      ],
      "text/latex": [
       "$\\displaystyle x^{7} + x^{5} + x^{4} + x^{3} + x$"
      ],
      "text/plain": [
       "x^7 + x^5 + x^4 + x^3 + x"
      ]
     },
     "metadata": {},
     "output_type": "display_data"
    },
    {
     "data": {
      "text/html": [
       "<html>\\(\\displaystyle x^{7} + x^{6} + x^{3} + x^{2} + x\\)</html>"
      ],
      "text/latex": [
       "$\\displaystyle x^{7} + x^{6} + x^{3} + x^{2} + x$"
      ],
      "text/plain": [
       "x^7 + x^6 + x^3 + x^2 + x"
      ]
     },
     "metadata": {},
     "output_type": "display_data"
    },
    {
     "data": {
      "text/html": [
       "<html>\\(\\displaystyle x^{6} + x^{4} + x^{3} + x^{2}\\)</html>"
      ],
      "text/latex": [
       "$\\displaystyle x^{6} + x^{4} + x^{3} + x^{2}$"
      ],
      "text/plain": [
       "x^6 + x^4 + x^3 + x^2"
      ]
     },
     "metadata": {},
     "output_type": "display_data"
    },
    {
     "data": {
      "text/html": [
       "<html>\\(\\displaystyle x^{7} + x^{6} + x^{5} + x^{4} + x^{2} + x + 1\\)</html>"
      ],
      "text/latex": [
       "$\\displaystyle x^{7} + x^{6} + x^{5} + x^{4} + x^{2} + x + 1$"
      ],
      "text/plain": [
       "x^7 + x^6 + x^5 + x^4 + x^2 + x + 1"
      ]
     },
     "metadata": {},
     "output_type": "display_data"
    },
    {
     "data": {
      "text/html": [
       "<html>\\(\\displaystyle x^{7} + x^{6} + x^{5} + x^{4} + x^{2} + x + 1\\)</html>"
      ],
      "text/latex": [
       "$\\displaystyle x^{7} + x^{6} + x^{5} + x^{4} + x^{2} + x + 1$"
      ],
      "text/plain": [
       "x^7 + x^6 + x^5 + x^4 + x^2 + x + 1"
      ]
     },
     "metadata": {},
     "output_type": "display_data"
    },
    {
     "data": {
      "text/html": [
       "<html>\\(\\displaystyle x^{6} + x^{5} + x + 1\\)</html>"
      ],
      "text/latex": [
       "$\\displaystyle x^{6} + x^{5} + x + 1$"
      ],
      "text/plain": [
       "x^6 + x^5 + x + 1"
      ]
     },
     "metadata": {},
     "output_type": "display_data"
    }
   ],
   "source": [
    "a = x^7 + x^6 + x^4 + x^3 + 1\n",
    "b = x^6 + x^4 + x^2 + x\n",
    "\n",
    "C = [a * p + b for p in P]\n",
    "\n",
    "for c in C:\n",
    "    pretty_print(c)"
   ]
  },
  {
   "cell_type": "markdown",
   "metadata": {
    "collapsed": false,
    "jupyter": {
     "outputs_hidden": false
    }
   },
   "source": [
    "### Deluppgift g"
   ]
  },
  {
   "cell_type": "code",
   "execution_count": 197,
   "metadata": {
    "collapsed": false,
    "jupyter": {
     "outputs_hidden": false
    }
   },
   "outputs": [
    {
     "name": "stdout",
     "output_type": "stream",
     "text": [
      "The Sting (1973)\n"
     ]
    }
   ],
   "source": [
    "kryptogram = [x^7 + x^6 + x^4 + x^3 + x^2, x^6 + x^2 + x,\n",
    "              x^6 + x^2, x^5 + x^3, x^7 + x^6 + x^5 + x^2 + 1,\n",
    "              x^7 + x^5 + x, x^7 + x^4 + x^3 + x^2 + x + 1,\n",
    "              x^7 + x^5 + x^2 + x, x^7 + x^6 + x^5 + x^3 + x^2 + 1,\n",
    "              x^5 + x^3, x^7 + x^5 + x^4 + x^3 + x,\n",
    "              x^7 + x^6 + x^3 + x^2 + x, x^6 + x^4 + x^3 + x^2,\n",
    "              x^5 + x^3 + x^2 + x, x^6 + x^5 + x^2 + x + 1,\n",
    "              x^6 + x^5 + x + 1]\n",
    "C = kryptogram\n",
    "\n",
    "P = [(c + b) * a^-1 for c in C]\n",
    "klartext = ''.join([chr(ZZ(R(p).coefficients(sparse = False), base = 2)) for p in P])\n",
    "print(klartext)"
   ]
  },
  {
   "cell_type": "markdown",
   "metadata": {},
   "source": [
    "### Deluppgift h"
   ]
  },
  {
   "cell_type": "code",
   "execution_count": 198,
   "metadata": {},
   "outputs": [
    {
     "data": {
      "text/html": [
       "<html>\\(\\displaystyle x^{7} + x^{4} + x^{2} + x\\)</html>"
      ],
      "text/latex": [
       "$\\displaystyle x^{7} + x^{4} + x^{2} + x$"
      ],
      "text/plain": [
       "x^7 + x^4 + x^2 + x"
      ]
     },
     "metadata": {},
     "output_type": "display_data"
    },
    {
     "data": {
      "text/html": [
       "<html>\\(\\displaystyle x^{7} + x^{4} + x\\)</html>"
      ],
      "text/latex": [
       "$\\displaystyle x^{7} + x^{4} + x$"
      ],
      "text/plain": [
       "x^7 + x^4 + x"
      ]
     },
     "metadata": {},
     "output_type": "display_data"
    }
   ],
   "source": [
    "a = (x^7 + x^5 + x^3 +1) * (x^6 + x^3 + x^2 + x + 1)^-1\n",
    "b = x^5 - a * (x^3 + x^2)\n",
    "\n",
    "pretty_print(a)\n",
    "pretty_print(b)"
   ]
  },
  {
   "cell_type": "code",
   "execution_count": 230,
   "metadata": {},
   "outputs": [],
   "source": [
    "pretty_print_default(False)"
   ]
  },
  {
   "cell_type": "markdown",
   "metadata": {
    "collapsed": false,
    "jupyter": {
     "outputs_hidden": false
    }
   },
   "source": [
    "## Uppgift 5"
   ]
  },
  {
   "cell_type": "code",
   "execution_count": 231,
   "metadata": {
    "collapsed": false,
    "jupyter": {
     "outputs_hidden": false
    }
   },
   "outputs": [],
   "source": [
    "load('AES.sage')"
   ]
  },
  {
   "cell_type": "markdown",
   "metadata": {
    "collapsed": false,
    "jupyter": {
     "outputs_hidden": false
    }
   },
   "source": [
    "### Deluppgift a"
   ]
  },
  {
   "cell_type": "code",
   "execution_count": 235,
   "metadata": {
    "collapsed": false,
    "jupyter": {
     "outputs_hidden": false
    }
   },
   "outputs": [
    {
     "data": {
      "text/html": [
       "<html>\\(\\displaystyle x^{7} + x^{6} + x^{4} + x^{2} + x\\)</html>"
      ],
      "text/latex": [
       "$\\displaystyle x^{7} + x^{6} + x^{4} + x^{2} + x$"
      ],
      "text/plain": [
       "x^7 + x^6 + x^4 + x^2 + x"
      ]
     },
     "metadata": {},
     "output_type": "display_data"
    }
   ],
   "source": [
    "t = 'Ö'\n",
    "p = text_till_polynom(t)\n",
    "pretty_print(p)"
   ]
  },
  {
   "cell_type": "markdown",
   "metadata": {
    "collapsed": false,
    "jupyter": {
     "outputs_hidden": false
    }
   },
   "source": [
    "### Deluppgift b"
   ]
  },
  {
   "cell_type": "code",
   "execution_count": 236,
   "metadata": {
    "collapsed": false,
    "jupyter": {
     "outputs_hidden": false
    }
   },
   "outputs": [
    {
     "data": {
      "text/html": [
       "<html>\\(\\displaystyle x^{7} + x^{6} + x^{5} + x^{4} + x^{2} + x\\)</html>"
      ],
      "text/latex": [
       "$\\displaystyle x^{7} + x^{6} + x^{5} + x^{4} + x^{2} + x$"
      ],
      "text/plain": [
       "x^7 + x^6 + x^5 + x^4 + x^2 + x"
      ]
     },
     "metadata": {},
     "output_type": "display_data"
    },
    {
     "name": "stdout",
     "output_type": "stream",
     "text": [
      "11110110\n",
      "F6\n"
     ]
    }
   ],
   "source": [
    "p = Sbox(p)\n",
    "pretty_print(p)\n",
    "print(bitstr(p))\n",
    "print(polynom_till_text(p, 'hex'))"
   ]
  },
  {
   "cell_type": "markdown",
   "metadata": {
    "collapsed": false,
    "jupyter": {
     "outputs_hidden": false
    }
   },
   "source": [
    "### Deluppgift c"
   ]
  },
  {
   "cell_type": "code",
   "execution_count": 237,
   "metadata": {
    "collapsed": false,
    "jupyter": {
     "outputs_hidden": false
    }
   },
   "outputs": [
    {
     "name": "stdout",
     "output_type": "stream",
     "text": [
      "01000100  01110011  01110011  01110010\n",
      "01100101  01101111  11110110  00100000\n",
      "01101110  01101101  01101011  01101000\n",
      "00100000  00100000  01100101  01100001\n",
      "\n",
      "01101110  01101110  00101110  00100000\n",
      "00100000  01101110  00100000  00100000\n",
      "01100110  01100101  00100000  00100000\n",
      "01101001  01110010  00100000  00100000\n",
      "\n"
     ]
    }
   ],
   "source": [
    "t = 'Den som söker han finner.'\n",
    "P = text_till_block(t, ' ')\n",
    "for p in P:\n",
    "    print(binblock(p))\n",
    "    print()"
   ]
  },
  {
   "cell_type": "markdown",
   "metadata": {
    "collapsed": false,
    "jupyter": {
     "outputs_hidden": false
    }
   },
   "source": [
    "### Deluppgift d"
   ]
  },
  {
   "cell_type": "code",
   "execution_count": 238,
   "metadata": {
    "collapsed": false,
    "jupyter": {
     "outputs_hidden": false
    }
   },
   "outputs": [
    {
     "name": "stdout",
     "output_type": "stream",
     "text": [
      "00011011  10001111  10001111  01000000\n",
      "01001101  10101000  01000010  10110111\n",
      "10011111  00111100  01111111  01000101\n",
      "10110111  10110111  01001101  11101111\n",
      "\n",
      "01101001  00011010  11101001  10001101\n",
      "00011100  00111010  01011100  11101011\n",
      "10011101  10100110  11111100  00100001\n",
      "10000111  11010111  11000010  00011100\n"
     ]
    }
   ],
   "source": [
    "p_1 = SubBytes(P[0])\n",
    "print(binblock(p_1))\n",
    "\n",
    "print()\n",
    "\n",
    "p_2 = MixColumns(P[0])\n",
    "print(binblock(p_2))"
   ]
  },
  {
   "cell_type": "markdown",
   "metadata": {
    "collapsed": false,
    "jupyter": {
     "outputs_hidden": false
    }
   },
   "source": [
    "### Deluppgift e"
   ]
  },
  {
   "cell_type": "code",
   "execution_count": 239,
   "metadata": {
    "collapsed": false,
    "jupyter": {
     "outputs_hidden": false
    }
   },
   "outputs": [
    {
     "name": "stdout",
     "output_type": "stream",
     "text": [
      "\u001b¨ïBE···@M<M\n",
      "\n",
      "i:ü\u001c",
      "\u001a\\!éë×\u001c",
      "¦Â\n"
     ]
    }
   ],
   "source": [
    "p_1 = ShiftRows(p_1)\n",
    "print(block_till_text(p_1))\n",
    "\n",
    "print()\n",
    "\n",
    "p_2 = ShiftRows(p_2)\n",
    "print(block_till_text(p_2))"
   ]
  },
  {
   "cell_type": "markdown",
   "metadata": {
    "collapsed": false,
    "jupyter": {
     "outputs_hidden": false
    }
   },
   "source": [
    "### Deluppgift f"
   ]
  },
  {
   "cell_type": "code",
   "execution_count": 240,
   "metadata": {
    "collapsed": false,
    "jupyter": {
     "outputs_hidden": false
    }
   },
   "outputs": [
    {
     "name": "stdout",
     "output_type": "stream",
     "text": [
      "AFADE578F17449B19AF50D7DF5D5F714\n",
      "ED376BC2AFEB06396D3330600EE09D5E\n"
     ]
    }
   ],
   "source": [
    "K = 'nopqrstuvwxyzåäö'\n",
    "C = [AES128(p, K) for p in P]\n",
    "\n",
    "for c in C:\n",
    "    print(block_till_text(c, 'hex'))"
   ]
  },
  {
   "cell_type": "markdown",
   "metadata": {
    "collapsed": false,
    "jupyter": {
     "outputs_hidden": false
    }
   },
   "source": [
    "## Uppgift 6"
   ]
  },
  {
   "cell_type": "code",
   "execution_count": 241,
   "metadata": {
    "collapsed": false,
    "jupyter": {
     "outputs_hidden": false
    }
   },
   "outputs": [],
   "source": [
    "v = (4, 11, 17, 33, 66, 137, 268, 538, 1571, 3650, 7892, 18283, 39744, 84217, 156434, 312866)"
   ]
  },
  {
   "cell_type": "markdown",
   "metadata": {
    "collapsed": false,
    "jupyter": {
     "outputs_hidden": false
    }
   },
   "source": [
    "### Deluppgift a"
   ]
  },
  {
   "cell_type": "code",
   "execution_count": 242,
   "metadata": {
    "collapsed": false,
    "jupyter": {
     "outputs_hidden": false
    }
   },
   "outputs": [],
   "source": [
    "def is_superincreasing(lst: list[Integer]) -> bool:\n",
    "    before: Integer = 0\n",
    "    # validating: lst_1 + lst_2 + ... lst_i < lst_i+1 \n",
    "    for x in lst:\n",
    "        if before > x:\n",
    "            return False\n",
    "\n",
    "        before += x\n",
    "\n",
    "    return True"
   ]
  },
  {
   "cell_type": "markdown",
   "metadata": {
    "collapsed": false,
    "jupyter": {
     "outputs_hidden": false
    }
   },
   "source": [
    "### Deluppgift b"
   ]
  },
  {
   "cell_type": "code",
   "execution_count": 243,
   "metadata": {
    "collapsed": false,
    "jupyter": {
     "outputs_hidden": false
    }
   },
   "outputs": [
    {
     "data": {
      "text/plain": [
       "True"
      ]
     },
     "execution_count": 243,
     "metadata": {},
     "output_type": "execute_result"
    }
   ],
   "source": [
    "is_superincreasing(v)"
   ]
  },
  {
   "cell_type": "markdown",
   "metadata": {
    "collapsed": false,
    "jupyter": {
     "outputs_hidden": false
    }
   },
   "source": [
    "### Deluppgift c"
   ]
  },
  {
   "cell_type": "code",
   "execution_count": 244,
   "metadata": {
    "collapsed": false,
    "jupyter": {
     "outputs_hidden": false
    }
   },
   "outputs": [
    {
     "data": {
      "text/plain": [
       "635639"
      ]
     },
     "execution_count": 244,
     "metadata": {},
     "output_type": "execute_result"
    }
   ],
   "source": [
    "p = (2 * v[len(v) - 1]).next_prime()\n",
    "m = p + 9876\n",
    "m"
   ]
  },
  {
   "cell_type": "markdown",
   "metadata": {
    "collapsed": false,
    "jupyter": {
     "outputs_hidden": false
    }
   },
   "source": [
    "### Deluppgift d"
   ]
  },
  {
   "cell_type": "code",
   "execution_count": 246,
   "metadata": {
    "collapsed": false,
    "jupyter": {
     "outputs_hidden": false
    }
   },
   "outputs": [],
   "source": [
    "a = v[3] + v[6] + v[14]\n",
    "b = inverse_mod(a, m)\n",
    "w = [(a * v_i % m) for v_i in v]"
   ]
  },
  {
   "cell_type": "markdown",
   "metadata": {
    "collapsed": false,
    "jupyter": {
     "outputs_hidden": false
    }
   },
   "source": [
    "### Deluppgift e"
   ]
  },
  {
   "cell_type": "code",
   "execution_count": 249,
   "metadata": {
    "collapsed": false,
    "jupyter": {
     "outputs_hidden": false
    }
   },
   "outputs": [
    {
     "data": {
      "text/plain": [
       "[1292094,\n",
       " 1842590,\n",
       " 1567179,\n",
       " 881515,\n",
       " 2309025,\n",
       " 1383237,\n",
       " 1949329,\n",
       " 1970660,\n",
       " 2268368]"
      ]
     },
     "execution_count": 249,
     "metadata": {},
     "output_type": "execute_result"
    }
   ],
   "source": [
    "klartext = 'Vadå - jag dyster?'\n",
    "B = bitar(klartext)\n",
    "# seperates into blocks\n",
    "T = [B[x : x + len(v)] for x in range(0, len(B), len(v))]\n",
    "C = []\n",
    "\n",
    "# loop through multiplying each pair and adding them to the total.\n",
    "for t in T:\n",
    "    c = 0\n",
    "    for i in range(len(w)):\n",
    "        c += t[i] * w[i]\n",
    "\n",
    "    C += [c]\n",
    "\n",
    "C"
   ]
  },
  {
   "cell_type": "markdown",
   "metadata": {
    "collapsed": false,
    "jupyter": {
     "outputs_hidden": false
    }
   },
   "source": [
    "### Deluppgift f"
   ]
  },
  {
   "cell_type": "code",
   "execution_count": 250,
   "metadata": {
    "collapsed": false,
    "jupyter": {
     "outputs_hidden": false
    }
   },
   "outputs": [
    {
     "name": "stdout",
     "output_type": "stream",
     "text": [
      "Blazinh Saddles (1974)\n"
     ]
    }
   ],
   "source": [
    "kryptogram = [1517635, 1574901, 2283169, 1979856, 1797095,\n",
    "              1557982, 1883517, 2032203, 907804, 2351445, 1228639]\n",
    "\n",
    "T = []\n",
    "\n",
    "for c in kryptogram:\n",
    "    # multiply by b to undo the a multiplication\n",
    "    d = c * b % m\n",
    "    # create a list filled with zeros.\n",
    "    t = [0] * len(v)\n",
    "    # loop through the now superincrising list backwards.\n",
    "    for x in range(len(v)):\n",
    "        x_i = len(v) - x - 1\n",
    "        # if smaller set the equivalent bit to 1.\n",
    "        if v[x_i] <= d:\n",
    "            d -= v[x_i]\n",
    "            t[x_i] = 1\n",
    "\n",
    "        # we are done when d is 0.\n",
    "        elif d == 0:\n",
    "            break\n",
    "\n",
    "    # add the bits to the array.\n",
    "    T += t\n",
    "\n",
    "print(bitar(T))"
   ]
  },
  {
   "cell_type": "markdown",
   "metadata": {
    "collapsed": false,
    "jupyter": {
     "outputs_hidden": false
    }
   },
   "source": [
    "## Uppgift 7"
   ]
  },
  {
   "cell_type": "code",
   "execution_count": 252,
   "metadata": {
    "collapsed": false,
    "jupyter": {
     "outputs_hidden": false
    }
   },
   "outputs": [
    {
     "name": "stdout",
     "output_type": "stream",
     "text": [
      "Skammen (1968)\n"
     ]
    }
   ],
   "source": [
    "w = [3618169, 1063503, 3361573, 1549665, 352217, 2660376, 1076829, 549933,\n",
    "     2830684, 2090407, 1129519, 2307073, 468632, 1236319, 2370568, 167256]\n",
    "\n",
    "kryptogram = [16945769, 17229537, 19833702, 10948265, 8745676, 13105304, 10936334]\n",
    "\n",
    "T = []\n",
    "\n",
    "# loop through each block.\n",
    "for c in kryptogram:\n",
    "\n",
    "    d = 0\n",
    "    # continue till solution is found.\n",
    "    while d != c:\n",
    "        d = 0\n",
    "        # randomize the ones and zeros and check if it happens to be the right combination. \n",
    "        t = [randint(0, 1) for i in range(len(w))]\n",
    "        for i in range(len(w)): d += w[i] * t[i]  \n",
    "\n",
    "    # add the bits to the array.\n",
    "    T += t\n",
    "\n",
    "print(bitar(T))"
   ]
  },
  {
   "cell_type": "markdown",
   "metadata": {
    "collapsed": false,
    "jupyter": {
     "outputs_hidden": false
    }
   },
   "source": [
    "## Uppgift 8"
   ]
  },
  {
   "cell_type": "code",
   "execution_count": 254,
   "metadata": {},
   "outputs": [],
   "source": [
    "load(\"kryptering2.sage\")"
   ]
  },
  {
   "cell_type": "code",
   "execution_count": 255,
   "metadata": {
    "collapsed": false,
    "jupyter": {
     "outputs_hidden": false
    }
   },
   "outputs": [],
   "source": [
    "p = 28423087111\n",
    "A = 51750072\n",
    "B = 48451103\n",
    "\n",
    "pretty_print_default(True)"
   ]
  },
  {
   "cell_type": "markdown",
   "metadata": {
    "collapsed": false,
    "jupyter": {
     "outputs_hidden": false
    }
   },
   "source": [
    "### Deluppgift a"
   ]
  },
  {
   "cell_type": "code",
   "execution_count": 256,
   "metadata": {
    "collapsed": false,
    "jupyter": {
     "outputs_hidden": false
    }
   },
   "outputs": [
    {
     "data": {
      "text/html": [
       "<html>\\(\\displaystyle y^2 = x^{3} + 51750072 x + 48451103 \\)</html>"
      ],
      "text/latex": [
       "$\\displaystyle y^2 = x^{3} + 51750072 x + 48451103 $"
      ],
      "text/plain": [
       "Elliptic Curve defined by y^2 = x^3 + 51750072*x + 48451103 over Finite Field of size 28423087111"
      ]
     },
     "execution_count": 256,
     "metadata": {},
     "output_type": "execute_result"
    }
   ],
   "source": [
    "if 4 * A**3 + 27 * B**2 % p == 0:\n",
    "    print(\"Invalid A or B\")\n",
    "\n",
    "# Create curve\n",
    "E = EllipticCurve(GF(p), [A, B])\n",
    "E"
   ]
  },
  {
   "cell_type": "markdown",
   "metadata": {
    "collapsed": false,
    "jupyter": {
     "outputs_hidden": false
    }
   },
   "source": [
    "### Deluppgift b"
   ]
  },
  {
   "cell_type": "code",
   "execution_count": 257,
   "metadata": {
    "collapsed": false,
    "jupyter": {
     "outputs_hidden": false
    }
   },
   "outputs": [
    {
     "data": {
      "text/html": [
       "<html>\\(\\displaystyle 28422884356\\)</html>"
      ],
      "text/latex": [
       "$\\displaystyle 28422884356$"
      ],
      "text/plain": [
       "28422884356"
      ]
     },
     "execution_count": 257,
     "metadata": {},
     "output_type": "execute_result"
    }
   ],
   "source": [
    "#P = (17827263001, 13035499636)\n",
    "P = E([17827263001, 13035499636])\n",
    "o = P.order()\n",
    "o"
   ]
  },
  {
   "cell_type": "markdown",
   "metadata": {
    "collapsed": false,
    "jupyter": {
     "outputs_hidden": false
    }
   },
   "source": [
    "### Deluppgift c"
   ]
  },
  {
   "cell_type": "code",
   "execution_count": 258,
   "metadata": {
    "collapsed": false,
    "jupyter": {
     "outputs_hidden": false
    }
   },
   "outputs": [
    {
     "data": {
      "text/html": [
       "<html>\\(\\displaystyle \\left(25266364363 : 23998248808 : 1\\right)\\)</html>"
      ],
      "text/latex": [
       "$\\displaystyle \\left(25266364363 : 23998248808 : 1\\right)$"
      ],
      "text/plain": [
       "(25266364363 : 23998248808 : 1)"
      ]
     },
     "execution_count": 258,
     "metadata": {},
     "output_type": "execute_result"
    }
   ],
   "source": [
    "n = 703815291\n",
    "Q = n*P\n",
    "Q"
   ]
  },
  {
   "cell_type": "markdown",
   "metadata": {
    "collapsed": false,
    "jupyter": {
     "outputs_hidden": false
    }
   },
   "source": [
    "### Deluppgift d"
   ]
  },
  {
   "cell_type": "code",
   "execution_count": 259,
   "metadata": {
    "collapsed": false,
    "jupyter": {
     "outputs_hidden": false
    }
   },
   "outputs": [
    {
     "data": {
      "text/html": [
       "<html>\\(\\displaystyle \\left[2110001, 6778433, 2128242, 7234893, 3221536, 3618105, 41\\right]\\)</html>"
      ],
      "text/latex": [
       "$\\displaystyle \\left[2110001, 6778433, 2128242, 7234893, 3221536, 3618105, 41\\right]$"
      ],
      "text/plain": [
       "[2110001, 6778433, 2128242, 7234893, 3221536, 3618105, 41]"
      ]
     },
     "execution_count": 259,
     "metadata": {},
     "output_type": "execute_result"
    }
   ],
   "source": [
    "klartext = '12 Angry Men (1957)'\n",
    "m = kod(klartext, 24)\n",
    "m"
   ]
  },
  {
   "cell_type": "markdown",
   "metadata": {
    "collapsed": false,
    "jupyter": {
     "outputs_hidden": false
    }
   },
   "source": [
    "### Deluppgift e"
   ]
  },
  {
   "cell_type": "code",
   "execution_count": 260,
   "metadata": {
    "collapsed": false,
    "jupyter": {
     "outputs_hidden": false
    }
   },
   "outputs": [
    {
     "name": "stdout",
     "output_type": "stream",
     "text": [
      "[(3574341698 : 7838091104 : 1), (11482665503 : 882100467 : 1), (3605241948 : 12635105850 : 1), (12255908749 : 3957013552 : 1), (5457281985 : 5524805027 : 1), (6129069870 : 6525115753 : 1), (69455 : 13695901169 : 1)]\n"
     ]
    }
   ],
   "source": [
    "M = 2**24\n",
    "kap = floor(p/M)\n",
    "\n",
    "for m_i in m:\n",
    "    # loop till valid j is found.\n",
    "    for j in range(kap):\n",
    "        x_i = m_i * kap + j\n",
    "        a = x_i**3 + A * x_i + B\n",
    "\n",
    "        if legendre_symbol(a, p) == 1:\n",
    "            y_i = lift(sqrt(Mod(a, p)))\n",
    "            m[m.index(m_i)] = E([x_i, y_i])\n",
    "            break\n",
    "        \n",
    "print(m)"
   ]
  },
  {
   "cell_type": "markdown",
   "metadata": {
    "collapsed": false,
    "jupyter": {
     "outputs_hidden": false
    }
   },
   "source": [
    "### Deluppgift f"
   ]
  },
  {
   "cell_type": "code",
   "execution_count": 35,
   "metadata": {
    "collapsed": false,
    "jupyter": {
     "outputs_hidden": false
    }
   },
   "outputs": [
    {
     "name": "stdout",
     "output_type": "stream",
     "text": [
      "[754689, 6729379577, 6775812742, 4404292322, 2458665773, 922798425, 5913254071]\n"
     ]
    }
   ],
   "source": [
    "a = 511073\n",
    "k0 = 754689\n",
    "\n",
    "k = [k0]\n",
    "\n",
    "# next prime number\n",
    "q = floor(o / 3).next_prime()\n",
    "\n",
    "# calculate k\n",
    "for i in range(1, len(m)):\n",
    "    k += [a * k[i - 1] % q]\n",
    "\n",
    "print(k)"
   ]
  },
  {
   "cell_type": "markdown",
   "metadata": {
    "collapsed": false,
    "jupyter": {
     "outputs_hidden": false
    }
   },
   "source": [
    "### Deluppgift g"
   ]
  },
  {
   "cell_type": "code",
   "execution_count": 36,
   "metadata": {
    "collapsed": false,
    "jupyter": {
     "outputs_hidden": false
    }
   },
   "outputs": [
    {
     "name": "stdout",
     "output_type": "stream",
     "text": [
      "C_0 = (5097029816, 11838728047)\n",
      "D_0 = (307799093, 14788448461)\n",
      "\n",
      "C_1 = (12815589873, 5226177370)\n",
      "D_1 = (10199716814, 5668945432)\n",
      "\n",
      "C_2 = (72116414, 845981050)\n",
      "D_2 = (13927264883, 11630351171)\n",
      "\n",
      "C_3 = (7635448856, 28092830766)\n",
      "D_3 = (26055969108, 25154819894)\n",
      "\n",
      "C_4 = (24105383899, 5765894035)\n",
      "D_4 = (14777156869, 4987471875)\n",
      "\n",
      "C_5 = (15114836826, 8605343184)\n",
      "D_5 = (28168120498, 23257108104)\n",
      "\n",
      "C_6 = (22181735168, 8567807339)\n",
      "D_6 = (13258876039, 8044277711)\n",
      "\n"
     ]
    }
   ],
   "source": [
    "c = []\n",
    "\n",
    "# loop through and encrypt everything.\n",
    "for i in range(len(m)):\n",
    "    M = m[i]\n",
    "    k_i = k[i]\n",
    "    C = k_i * P\n",
    "    D = M + k_i*Q\n",
    "    c += [(C.xy(), D.xy())]\n",
    "\n",
    "for i in range(len(c)):\n",
    "    print(f\"C_{i} = {c[i][0]}\\nD_{i} = {c[i][1]}\\n\")"
   ]
  },
  {
   "cell_type": "markdown",
   "metadata": {
    "collapsed": false,
    "jupyter": {
     "outputs_hidden": false
    }
   },
   "source": [
    "### Deluppgift h"
   ]
  },
  {
   "cell_type": "code",
   "execution_count": 39,
   "metadata": {
    "collapsed": false,
    "jupyter": {
     "outputs_hidden": false
    }
   },
   "outputs": [],
   "source": [
    "C_1 = (259001114, 11319149301)\n",
    "D_1 = (28044309100, 9479496133)\n",
    "\n",
    "C_2 = (19624816266, 6805960460)\n",
    "D_2 = (16868063436, 22847875734)\n",
    "\n",
    "C_3 = (10934531905, 23971950229)\n",
    "D_3 = (2746520813, 17352690532)\n",
    "\n",
    "C_4 = (25129323555, 10957246300)\n",
    "D_4 = (19222310662, 21401941494)\n",
    "\n",
    "C_5 = (15835791179, 24968894717)\n",
    "D_5 = (12095976183, 27021271659)\n",
    "\n",
    "C_6 = (27558813528, 17869953573)\n",
    "D_6 = (2682114766, 4819368221)\n",
    "\n",
    "C_7 = (8605805897, 17626699252)\n",
    "D_7 = (17064452028, 23092004243)\n",
    "\n",
    "C = [\n",
    "    (C_1, D_1),\n",
    "    (C_2, D_2),\n",
    "    (C_3, D_3),\n",
    "    (C_4, D_4),\n",
    "    (C_5, D_5),\n",
    "    (C_6, D_6),\n",
    "    (C_7, D_7),\n",
    "]"
   ]
  },
  {
   "cell_type": "code",
   "execution_count": 43,
   "metadata": {},
   "outputs": [
    {
     "data": {
      "text/html": [
       "<html>\\(\\displaystyle \\verb|Bra!|\\verb| |\\verb|Du|\\verb| |\\verb|fixade|\\verb| |\\verb|det.\u0000\u0000|\\)</html>"
      ],
      "text/latex": [
       "$\\displaystyle \\verb|Bra!|\\verb| |\\verb|Du|\\verb| |\\verb|fixade|\\verb| |\\verb|det.\u0000\u0000|$"
      ],
      "text/plain": [
       "'Bra! Du fixade det.\\x00\\x00'"
      ]
     },
     "execution_count": 43,
     "metadata": {},
     "output_type": "execute_result"
    }
   ],
   "source": [
    "\n",
    "m = []\n",
    "\n",
    "# loop through and undo C = kP and D = M + kQ \n",
    "for c_i in C:\n",
    "    c_i = (E(c_i[0]), E(c_i[1]))\n",
    "    # undoing it by D - nC which gives M\n",
    "    m += [c_i[1] - n * c_i[0]]\n",
    "\n",
    "klartext = []\n",
    "\n",
    "# loop through the M's and undo Koblitz method.\n",
    "for m_i in m:\n",
    "    klartext += [floor((lift(m_i.xy()[0]) - 1)/kap)]\n",
    "\n",
    "kod(klartext, 24)"
   ]
  }
 ],
 "metadata": {
  "kernelspec": {
   "display_name": "SageMath 10.4",
   "language": "sage",
   "name": "sagemath"
  },
  "language_info": {
   "codemirror_mode": {
    "name": "ipython",
    "version": 3
   },
   "file_extension": ".py",
   "mimetype": "text/x-python",
   "name": "python",
   "nbconvert_exporter": "python",
   "pygments_lexer": "ipython3",
   "version": "3.12.6"
  }
 },
 "nbformat": 4,
 "nbformat_minor": 4
}
